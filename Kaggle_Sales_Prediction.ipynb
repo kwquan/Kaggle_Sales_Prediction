{
 "cells": [
  {
   "cell_type": "markdown",
   "metadata": {},
   "source": [
    "In this competition, we are given the daily sales for each item, for each shop. Competitors are to use the training set to predict sales for the test set. In addition to train & test files, we are given 3 other files (shops,items,cats) that provide additional information about each item.\n",
    "\n",
    "We begin by importing all 5 files:"
   ]
  },
  {
   "cell_type": "code",
   "execution_count": 1,
   "metadata": {},
   "outputs": [],
   "source": [
    "import pandas as pd\n",
    "main = pd.read_csv(\"sales_train\")\n",
    "test = pd.read_csv(\"sales_test\")\n",
    "shops = pd.read_csv('shops')\n",
    "items = pd.read_csv('items')\n",
    "cats = pd.read_csv('item_categories')"
   ]
  },
  {
   "cell_type": "markdown",
   "metadata": {},
   "source": [
    "Checking first 5 rows for train & test sets:"
   ]
  },
  {
   "cell_type": "code",
   "execution_count": 2,
   "metadata": {},
   "outputs": [
    {
     "data": {
      "text/html": [
       "<div>\n",
       "<style scoped>\n",
       "    .dataframe tbody tr th:only-of-type {\n",
       "        vertical-align: middle;\n",
       "    }\n",
       "\n",
       "    .dataframe tbody tr th {\n",
       "        vertical-align: top;\n",
       "    }\n",
       "\n",
       "    .dataframe thead th {\n",
       "        text-align: right;\n",
       "    }\n",
       "</style>\n",
       "<table border=\"1\" class=\"dataframe\">\n",
       "  <thead>\n",
       "    <tr style=\"text-align: right;\">\n",
       "      <th></th>\n",
       "      <th>date</th>\n",
       "      <th>date_block_num</th>\n",
       "      <th>shop_id</th>\n",
       "      <th>item_id</th>\n",
       "      <th>item_price</th>\n",
       "      <th>item_cnt_day</th>\n",
       "    </tr>\n",
       "  </thead>\n",
       "  <tbody>\n",
       "    <tr>\n",
       "      <th>0</th>\n",
       "      <td>02.01.2013</td>\n",
       "      <td>0</td>\n",
       "      <td>59</td>\n",
       "      <td>22154</td>\n",
       "      <td>999.00</td>\n",
       "      <td>1.0</td>\n",
       "    </tr>\n",
       "    <tr>\n",
       "      <th>1</th>\n",
       "      <td>03.01.2013</td>\n",
       "      <td>0</td>\n",
       "      <td>25</td>\n",
       "      <td>2552</td>\n",
       "      <td>899.00</td>\n",
       "      <td>1.0</td>\n",
       "    </tr>\n",
       "    <tr>\n",
       "      <th>2</th>\n",
       "      <td>05.01.2013</td>\n",
       "      <td>0</td>\n",
       "      <td>25</td>\n",
       "      <td>2552</td>\n",
       "      <td>899.00</td>\n",
       "      <td>-1.0</td>\n",
       "    </tr>\n",
       "    <tr>\n",
       "      <th>3</th>\n",
       "      <td>06.01.2013</td>\n",
       "      <td>0</td>\n",
       "      <td>25</td>\n",
       "      <td>2554</td>\n",
       "      <td>1709.05</td>\n",
       "      <td>1.0</td>\n",
       "    </tr>\n",
       "    <tr>\n",
       "      <th>4</th>\n",
       "      <td>15.01.2013</td>\n",
       "      <td>0</td>\n",
       "      <td>25</td>\n",
       "      <td>2555</td>\n",
       "      <td>1099.00</td>\n",
       "      <td>1.0</td>\n",
       "    </tr>\n",
       "  </tbody>\n",
       "</table>\n",
       "</div>"
      ],
      "text/plain": [
       "         date  date_block_num  shop_id  item_id  item_price  item_cnt_day\n",
       "0  02.01.2013               0       59    22154      999.00           1.0\n",
       "1  03.01.2013               0       25     2552      899.00           1.0\n",
       "2  05.01.2013               0       25     2552      899.00          -1.0\n",
       "3  06.01.2013               0       25     2554     1709.05           1.0\n",
       "4  15.01.2013               0       25     2555     1099.00           1.0"
      ]
     },
     "execution_count": 2,
     "metadata": {},
     "output_type": "execute_result"
    }
   ],
   "source": [
    "main.head()"
   ]
  },
  {
   "cell_type": "code",
   "execution_count": 3,
   "metadata": {},
   "outputs": [
    {
     "data": {
      "text/html": [
       "<div>\n",
       "<style scoped>\n",
       "    .dataframe tbody tr th:only-of-type {\n",
       "        vertical-align: middle;\n",
       "    }\n",
       "\n",
       "    .dataframe tbody tr th {\n",
       "        vertical-align: top;\n",
       "    }\n",
       "\n",
       "    .dataframe thead th {\n",
       "        text-align: right;\n",
       "    }\n",
       "</style>\n",
       "<table border=\"1\" class=\"dataframe\">\n",
       "  <thead>\n",
       "    <tr style=\"text-align: right;\">\n",
       "      <th></th>\n",
       "      <th>ID</th>\n",
       "      <th>shop_id</th>\n",
       "      <th>item_id</th>\n",
       "    </tr>\n",
       "  </thead>\n",
       "  <tbody>\n",
       "    <tr>\n",
       "      <th>0</th>\n",
       "      <td>0</td>\n",
       "      <td>5</td>\n",
       "      <td>5037</td>\n",
       "    </tr>\n",
       "    <tr>\n",
       "      <th>1</th>\n",
       "      <td>1</td>\n",
       "      <td>5</td>\n",
       "      <td>5320</td>\n",
       "    </tr>\n",
       "    <tr>\n",
       "      <th>2</th>\n",
       "      <td>2</td>\n",
       "      <td>5</td>\n",
       "      <td>5233</td>\n",
       "    </tr>\n",
       "    <tr>\n",
       "      <th>3</th>\n",
       "      <td>3</td>\n",
       "      <td>5</td>\n",
       "      <td>5232</td>\n",
       "    </tr>\n",
       "    <tr>\n",
       "      <th>4</th>\n",
       "      <td>4</td>\n",
       "      <td>5</td>\n",
       "      <td>5268</td>\n",
       "    </tr>\n",
       "  </tbody>\n",
       "</table>\n",
       "</div>"
      ],
      "text/plain": [
       "   ID  shop_id  item_id\n",
       "0   0        5     5037\n",
       "1   1        5     5320\n",
       "2   2        5     5233\n",
       "3   3        5     5232\n",
       "4   4        5     5268"
      ]
     },
     "execution_count": 3,
     "metadata": {},
     "output_type": "execute_result"
    }
   ],
   "source": [
    "test.head()"
   ]
  },
  {
   "cell_type": "markdown",
   "metadata": {},
   "source": [
    "Notice that only the train set has months (date_block_num).\n",
    "\n",
    "Let's check for missing values:"
   ]
  },
  {
   "cell_type": "code",
   "execution_count": 69,
   "metadata": {},
   "outputs": [
    {
     "data": {
      "text/plain": [
       "date              0\n",
       "date_block_num    0\n",
       "shop_id           0\n",
       "item_id           0\n",
       "item_price        0\n",
       "item_cnt_day      0\n",
       "dtype: int64"
      ]
     },
     "execution_count": 69,
     "metadata": {},
     "output_type": "execute_result"
    }
   ],
   "source": [
    "#NULL DATA CHECK\n",
    "#Check for missing values\n",
    "main.isnull().sum()\n",
    "#No columns contain null values"
   ]
  },
  {
   "cell_type": "markdown",
   "metadata": {},
   "source": [
    "No missing values exist.\n",
    "\n",
    "Next, we check for DATA LEAK. \n",
    "We check if all shop_ids in test also exist in train. \n",
    "We also check if all item_ids in test also exist in train."
   ]
  },
  {
   "cell_type": "code",
   "execution_count": 70,
   "metadata": {},
   "outputs": [
    {
     "data": {
      "text/plain": [
       "False"
      ]
     },
     "execution_count": 70,
     "metadata": {},
     "output_type": "execute_result"
    }
   ],
   "source": [
    "#DATA LEAK\n",
    "#We check if all shop_id in test is found in train\n",
    "test['shop_id'].unique().any() not in main['shop_id'].unique().tolist()"
   ]
  },
  {
   "cell_type": "code",
   "execution_count": 71,
   "metadata": {},
   "outputs": [
    {
     "data": {
      "text/plain": [
       "False"
      ]
     },
     "execution_count": 71,
     "metadata": {},
     "output_type": "execute_result"
    }
   ],
   "source": [
    "#DATA LEAK\n",
    "#We check if all item_id in test is found in train\n",
    "test['item_id'].unique().any() not in main['item_id'].unique().tolist()"
   ]
  },
  {
   "cell_type": "markdown",
   "metadata": {},
   "source": [
    "Interesting. \n",
    "Seems that all test data has been leaked to train data. \n",
    "This means that creating a proper prediction model using train data should give very good prediction accuracy for test data."
   ]
  },
  {
   "cell_type": "markdown",
   "metadata": {},
   "source": [
    "Let's see the description of train data:"
   ]
  },
  {
   "cell_type": "code",
   "execution_count": 4,
   "metadata": {},
   "outputs": [
    {
     "data": {
      "text/html": [
       "<div>\n",
       "<style scoped>\n",
       "    .dataframe tbody tr th:only-of-type {\n",
       "        vertical-align: middle;\n",
       "    }\n",
       "\n",
       "    .dataframe tbody tr th {\n",
       "        vertical-align: top;\n",
       "    }\n",
       "\n",
       "    .dataframe thead th {\n",
       "        text-align: right;\n",
       "    }\n",
       "</style>\n",
       "<table border=\"1\" class=\"dataframe\">\n",
       "  <thead>\n",
       "    <tr style=\"text-align: right;\">\n",
       "      <th></th>\n",
       "      <th>count</th>\n",
       "      <th>mean</th>\n",
       "      <th>std</th>\n",
       "      <th>min</th>\n",
       "      <th>25%</th>\n",
       "      <th>50%</th>\n",
       "      <th>75%</th>\n",
       "      <th>max</th>\n",
       "    </tr>\n",
       "  </thead>\n",
       "  <tbody>\n",
       "    <tr>\n",
       "      <th>date_block_num</th>\n",
       "      <td>2935849.0</td>\n",
       "      <td>14.569911</td>\n",
       "      <td>9.422988</td>\n",
       "      <td>0.0</td>\n",
       "      <td>7.0</td>\n",
       "      <td>14.0</td>\n",
       "      <td>23.0</td>\n",
       "      <td>33.0</td>\n",
       "    </tr>\n",
       "    <tr>\n",
       "      <th>shop_id</th>\n",
       "      <td>2935849.0</td>\n",
       "      <td>33.001728</td>\n",
       "      <td>16.226973</td>\n",
       "      <td>0.0</td>\n",
       "      <td>22.0</td>\n",
       "      <td>31.0</td>\n",
       "      <td>47.0</td>\n",
       "      <td>59.0</td>\n",
       "    </tr>\n",
       "    <tr>\n",
       "      <th>item_id</th>\n",
       "      <td>2935849.0</td>\n",
       "      <td>10197.227057</td>\n",
       "      <td>6324.297354</td>\n",
       "      <td>0.0</td>\n",
       "      <td>4476.0</td>\n",
       "      <td>9343.0</td>\n",
       "      <td>15684.0</td>\n",
       "      <td>22169.0</td>\n",
       "    </tr>\n",
       "    <tr>\n",
       "      <th>item_price</th>\n",
       "      <td>2935849.0</td>\n",
       "      <td>890.853233</td>\n",
       "      <td>1729.799631</td>\n",
       "      <td>-1.0</td>\n",
       "      <td>249.0</td>\n",
       "      <td>399.0</td>\n",
       "      <td>999.0</td>\n",
       "      <td>307980.0</td>\n",
       "    </tr>\n",
       "    <tr>\n",
       "      <th>item_cnt_day</th>\n",
       "      <td>2935849.0</td>\n",
       "      <td>1.242641</td>\n",
       "      <td>2.618834</td>\n",
       "      <td>-22.0</td>\n",
       "      <td>1.0</td>\n",
       "      <td>1.0</td>\n",
       "      <td>1.0</td>\n",
       "      <td>2169.0</td>\n",
       "    </tr>\n",
       "  </tbody>\n",
       "</table>\n",
       "</div>"
      ],
      "text/plain": [
       "                    count          mean          std   min     25%     50%  \\\n",
       "date_block_num  2935849.0     14.569911     9.422988   0.0     7.0    14.0   \n",
       "shop_id         2935849.0     33.001728    16.226973   0.0    22.0    31.0   \n",
       "item_id         2935849.0  10197.227057  6324.297354   0.0  4476.0  9343.0   \n",
       "item_price      2935849.0    890.853233  1729.799631  -1.0   249.0   399.0   \n",
       "item_cnt_day    2935849.0      1.242641     2.618834 -22.0     1.0     1.0   \n",
       "\n",
       "                    75%       max  \n",
       "date_block_num     23.0      33.0  \n",
       "shop_id            47.0      59.0  \n",
       "item_id         15684.0   22169.0  \n",
       "item_price        999.0  307980.0  \n",
       "item_cnt_day        1.0    2169.0  "
      ]
     },
     "execution_count": 4,
     "metadata": {},
     "output_type": "execute_result"
    }
   ],
   "source": [
    "main.describe().T"
   ]
  },
  {
   "cell_type": "markdown",
   "metadata": {},
   "source": [
    "Notice that 1 negative item_price exists.\n",
    "item_cnt_day has negative values as well.\n",
    "We need to do something about these values."
   ]
  },
  {
   "cell_type": "markdown",
   "metadata": {},
   "source": [
    "We remove outliers for item_price & item_cnt_day.\n",
    "Kindly refer to EDA section on threshold values."
   ]
  },
  {
   "cell_type": "code",
   "execution_count": 5,
   "metadata": {},
   "outputs": [],
   "source": [
    "#THIS IS WHERE WE REMOVE OUTLIERS\n",
    "#REFER TO EDA SECTION FOR CHOICE OF THRESHOLDS\n",
    "leak_train = main\n",
    "leak_train = leak_train[leak_train['item_price']<100000]\n",
    "leak_train = leak_train[leak_train['item_cnt_day']<1001]\n",
    "#There exist one negative price. Replace it with median\n",
    "median = leak_train[(leak_train.shop_id==32)&(leak_train.item_id==2973)&(leak_train.date_block_num==4)&(leak_train.item_price>0)].item_price.median()\n",
    "leak_train.loc[leak_train.item_price<0, 'item_price'] = median"
   ]
  },
  {
   "cell_type": "markdown",
   "metadata": {},
   "source": [
    "Checking if negative item_price values still exist:"
   ]
  },
  {
   "cell_type": "code",
   "execution_count": 6,
   "metadata": {},
   "outputs": [
    {
     "data": {
      "text/html": [
       "<div>\n",
       "<style scoped>\n",
       "    .dataframe tbody tr th:only-of-type {\n",
       "        vertical-align: middle;\n",
       "    }\n",
       "\n",
       "    .dataframe tbody tr th {\n",
       "        vertical-align: top;\n",
       "    }\n",
       "\n",
       "    .dataframe thead th {\n",
       "        text-align: right;\n",
       "    }\n",
       "</style>\n",
       "<table border=\"1\" class=\"dataframe\">\n",
       "  <thead>\n",
       "    <tr style=\"text-align: right;\">\n",
       "      <th></th>\n",
       "      <th>date</th>\n",
       "      <th>date_block_num</th>\n",
       "      <th>shop_id</th>\n",
       "      <th>item_id</th>\n",
       "      <th>item_price</th>\n",
       "      <th>item_cnt_day</th>\n",
       "    </tr>\n",
       "  </thead>\n",
       "  <tbody>\n",
       "  </tbody>\n",
       "</table>\n",
       "</div>"
      ],
      "text/plain": [
       "Empty DataFrame\n",
       "Columns: [date, date_block_num, shop_id, item_id, item_price, item_cnt_day]\n",
       "Index: []"
      ]
     },
     "execution_count": 6,
     "metadata": {},
     "output_type": "execute_result"
    }
   ],
   "source": [
    "#Info for transaction with negative price\n",
    "leak_train[leak_train['item_price'] < 0]"
   ]
  },
  {
   "cell_type": "markdown",
   "metadata": {},
   "source": [
    "Taking a look at train data description again, after removing outliers:"
   ]
  },
  {
   "cell_type": "code",
   "execution_count": 7,
   "metadata": {},
   "outputs": [
    {
     "data": {
      "text/html": [
       "<div>\n",
       "<style scoped>\n",
       "    .dataframe tbody tr th:only-of-type {\n",
       "        vertical-align: middle;\n",
       "    }\n",
       "\n",
       "    .dataframe tbody tr th {\n",
       "        vertical-align: top;\n",
       "    }\n",
       "\n",
       "    .dataframe thead th {\n",
       "        text-align: right;\n",
       "    }\n",
       "</style>\n",
       "<table border=\"1\" class=\"dataframe\">\n",
       "  <thead>\n",
       "    <tr style=\"text-align: right;\">\n",
       "      <th></th>\n",
       "      <th>count</th>\n",
       "      <th>mean</th>\n",
       "      <th>std</th>\n",
       "      <th>min</th>\n",
       "      <th>25%</th>\n",
       "      <th>50%</th>\n",
       "      <th>75%</th>\n",
       "      <th>max</th>\n",
       "    </tr>\n",
       "  </thead>\n",
       "  <tbody>\n",
       "    <tr>\n",
       "      <th>date_block_num</th>\n",
       "      <td>2935847.0</td>\n",
       "      <td>14.569906</td>\n",
       "      <td>9.422985</td>\n",
       "      <td>0.00</td>\n",
       "      <td>7.0</td>\n",
       "      <td>14.0</td>\n",
       "      <td>23.0</td>\n",
       "      <td>33.0</td>\n",
       "    </tr>\n",
       "    <tr>\n",
       "      <th>shop_id</th>\n",
       "      <td>2935847.0</td>\n",
       "      <td>33.001743</td>\n",
       "      <td>16.226969</td>\n",
       "      <td>0.00</td>\n",
       "      <td>22.0</td>\n",
       "      <td>31.0</td>\n",
       "      <td>47.0</td>\n",
       "      <td>59.0</td>\n",
       "    </tr>\n",
       "    <tr>\n",
       "      <th>item_id</th>\n",
       "      <td>2935847.0</td>\n",
       "      <td>10197.228064</td>\n",
       "      <td>6324.299011</td>\n",
       "      <td>0.00</td>\n",
       "      <td>4476.0</td>\n",
       "      <td>9343.0</td>\n",
       "      <td>15684.0</td>\n",
       "      <td>22169.0</td>\n",
       "    </tr>\n",
       "    <tr>\n",
       "      <th>item_price</th>\n",
       "      <td>2935847.0</td>\n",
       "      <td>890.749575</td>\n",
       "      <td>1720.490363</td>\n",
       "      <td>0.07</td>\n",
       "      <td>249.0</td>\n",
       "      <td>399.0</td>\n",
       "      <td>999.0</td>\n",
       "      <td>59200.0</td>\n",
       "    </tr>\n",
       "    <tr>\n",
       "      <th>item_cnt_day</th>\n",
       "      <td>2935847.0</td>\n",
       "      <td>1.241903</td>\n",
       "      <td>2.292963</td>\n",
       "      <td>-22.00</td>\n",
       "      <td>1.0</td>\n",
       "      <td>1.0</td>\n",
       "      <td>1.0</td>\n",
       "      <td>1000.0</td>\n",
       "    </tr>\n",
       "  </tbody>\n",
       "</table>\n",
       "</div>"
      ],
      "text/plain": [
       "                    count          mean          std    min     25%     50%  \\\n",
       "date_block_num  2935847.0     14.569906     9.422985   0.00     7.0    14.0   \n",
       "shop_id         2935847.0     33.001743    16.226969   0.00    22.0    31.0   \n",
       "item_id         2935847.0  10197.228064  6324.299011   0.00  4476.0  9343.0   \n",
       "item_price      2935847.0    890.749575  1720.490363   0.07   249.0   399.0   \n",
       "item_cnt_day    2935847.0      1.241903     2.292963 -22.00     1.0     1.0   \n",
       "\n",
       "                    75%      max  \n",
       "date_block_num     23.0     33.0  \n",
       "shop_id            47.0     59.0  \n",
       "item_id         15684.0  22169.0  \n",
       "item_price        999.0  59200.0  \n",
       "item_cnt_day        1.0   1000.0  "
      ]
     },
     "execution_count": 7,
     "metadata": {},
     "output_type": "execute_result"
    }
   ],
   "source": [
    "leak_train.describe().T"
   ]
  },
  {
   "cell_type": "markdown",
   "metadata": {},
   "source": [
    "There exist some shops which are duplicates of each other.\n",
    "Again, refer to EDA section for duplicates check.\n",
    "We fix these duplicates with one unique value only."
   ]
  },
  {
   "cell_type": "code",
   "execution_count": 8,
   "metadata": {},
   "outputs": [],
   "source": [
    "#DATA PRE-PROCESSING\n",
    "#REFER TO EDA SECTION FOR DUPLICATES CHECK\n",
    "#Some shops are duplicates. We fix them with the same shop_id\n",
    "leak_train.loc[leak_train['shop_id'] == 0,'shop_id'] = 57\n",
    "test.loc[test['shop_id'] == 0,'shop_id'] = 57\n",
    "leak_train.loc[leak_train['shop_id'] == 1,'shop_id'] = 58\n",
    "test.loc[test['shop_id'] == 1,'shop_id'] = 58\n",
    "leak_train.loc[leak_train['shop_id'] == 10,'shop_id'] = 11\n",
    "test.loc[test['shop_id'] == 10,'shop_id'] = 11"
   ]
  },
  {
   "cell_type": "markdown",
   "metadata": {},
   "source": [
    "Kindly pause here & run EDA section before continuing."
   ]
  },
  {
   "cell_type": "code",
   "execution_count": 77,
   "metadata": {},
   "outputs": [],
   "source": [
    "#RUN EDA SECTION FIRST BEFORE MOVING ON TO THE NEXT PART"
   ]
  },
  {
   "cell_type": "markdown",
   "metadata": {},
   "source": [
    "Again, first part of shop_name is city name.\n",
    "We can check this by separating first part out and googling them."
   ]
  },
  {
   "cell_type": "code",
   "execution_count": 32,
   "metadata": {},
   "outputs": [
    {
     "data": {
      "text/plain": [
       "array(['!Якутск', 'Адыгея', 'Балашиха', 'Волжский', 'Вологда', 'Воронеж',\n",
       "       'Выездная', 'Жуковский', 'Интернет-магазин', 'Казань', 'Калуга',\n",
       "       'Коломна', 'Красноярск', 'Курск', 'Москва', 'Мытищи', 'Н.Новгород',\n",
       "       'Новосибирск', 'Омск', 'РостовНаДону', 'СПб', 'Самара', 'Сергиев',\n",
       "       'Сургут', 'Томск', 'Тюмень', 'Уфа', 'Химки', 'Цифровой', 'Чехов',\n",
       "       'Якутск', 'Ярославль'], dtype=object)"
      ]
     },
     "execution_count": 32,
     "metadata": {},
     "output_type": "execute_result"
    }
   ],
   "source": [
    "#DATA PRE-PROCESSING\n",
    "#Let's check first part of shop_name\n",
    "shops['city'] = shops['shop_name'].str.split(' ').map(lambda x: x[0])\n",
    "shops['city'].unique()"
   ]
  },
  {
   "cell_type": "markdown",
   "metadata": {},
   "source": [
    "Some city names are not properly-written.\n",
    "We fix them with the correct names before label-encoding them."
   ]
  },
  {
   "cell_type": "markdown",
   "metadata": {},
   "source": [
    "Similarly, for item_catagory_name, first part is the type, second part is the subtype.\n",
    "We split them out before label-encoding them."
   ]
  },
  {
   "cell_type": "code",
   "execution_count": 33,
   "metadata": {},
   "outputs": [],
   "source": [
    "#DATA PRE-PROCESSING\n",
    "#First part of shop_name is city name, except for 'Интернет-магазин'\n",
    "#However, some city names are not properly-written. Let's fix them before label-encoding city names\n",
    "from sklearn.preprocessing import LabelEncoder\n",
    "shops.loc[shops['shop_name'] == 'Сергиев Посад ТЦ \"7Я\"', 'shop_name'] = 'СергиевПосад ТЦ \"7Я\"'\n",
    "shops['city'] = shops['shop_name'].str.split(' ').map(lambda x: x[0])\n",
    "shops.loc[shops['city'] == '!Якутск', 'city'] = 'Якутск'\n",
    "shops['city_code'] = LabelEncoder().fit_transform(shops['city'])\n",
    "shops = shops[['shop_id','city_code']]\n",
    "\n",
    "cats['split'] = cats['item_category_name'].str.split('-')\n",
    "cats['type'] = cats['split'].map(lambda x: x[0].strip())\n",
    "cats['type_code'] = LabelEncoder().fit_transform(cats['type'])\n",
    "#If subtype is nan then type\n",
    "cats['subtype'] = cats['split'].map(lambda x: x[1].strip() if len(x) > 1 else x[0].strip())\n",
    "cats['subtype_code'] = LabelEncoder().fit_transform(cats['subtype'])\n",
    "cats = cats[['item_category_id','type_code', 'subtype_code']]\n",
    "\n",
    "items.drop(['item_name'], axis=1, inplace=True)"
   ]
  },
  {
   "cell_type": "markdown",
   "metadata": {},
   "source": [
    "We check if test set includes every item_id for every shop_id, regardless if they are sold or not:"
   ]
  },
  {
   "cell_type": "code",
   "execution_count": 34,
   "metadata": {},
   "outputs": [
    {
     "name": "stdout",
     "output_type": "stream",
     "text": [
      "No. of shops is 42 & no. of unique items is 5100.\n"
     ]
    }
   ],
   "source": [
    "#DATA LEAK\n",
    "print('No. of shops is {} & no. of unique items is {}.'.format(test['shop_id'].nunique(),test['item_id'].nunique()))\n",
    "assert len(test) == test['shop_id'].nunique() * test['item_id'].nunique()"
   ]
  },
  {
   "cell_type": "markdown",
   "metadata": {},
   "source": [
    "Interestingly, test set includes item pairs for every shop. However, train set only contains sold or returned items.\n",
    "We need to replicate these pairs in the train set as well:"
   ]
  },
  {
   "cell_type": "code",
   "execution_count": 40,
   "metadata": {},
   "outputs": [],
   "source": [
    "#DATA LEAK\n",
    "from itertools import product\n",
    "import numpy as np\n",
    "matrix = []\n",
    "cols = ['date_block_num','shop_id','item_id']\n",
    "for i in range(34):\n",
    "    leak_train_filtered = leak_train[leak_train['date_block_num'] == i]\n",
    "    matrix.append(np.array(list(product([i], leak_train_filtered['shop_id'].unique(), leak_train_filtered['item_id'].unique())), dtype='int16'))\n",
    "    \n",
    "matrix = pd.DataFrame(np.vstack(matrix), columns=cols)\n",
    "matrix['date_block_num'] = matrix['date_block_num'].astype(np.int8)\n",
    "matrix['shop_id'] = matrix['shop_id'].astype(np.int8)\n",
    "matrix['item_id'] = matrix['item_id'].astype(np.int16)\n",
    "matrix.sort_values(cols,inplace=True)\n",
    "\n",
    "group = leak_train.groupby(['date_block_num','shop_id','item_id']).agg({'item_cnt_day': ['sum']})\n",
    "group.columns = ['item_cnt_month']\n",
    "group.reset_index(inplace=True)\n",
    "\n",
    "main_combined = pd.merge(matrix, group, on=cols, how='left')\n",
    "main_combined['item_cnt_month'] = (main_combined['item_cnt_month'].fillna(0).clip(0,20).astype(np.float16))"
   ]
  },
  {
   "cell_type": "markdown",
   "metadata": {},
   "source": [
    "We will need revenue for feature-engineering later:"
   ]
  },
  {
   "cell_type": "code",
   "execution_count": 35,
   "metadata": {},
   "outputs": [],
   "source": [
    "#DATA PRE-PROCESSING\n",
    "#Required for feature engineering\n",
    "leak_train['revenue'] = leak_train['item_price'] *  leak_train['item_cnt_day']"
   ]
  },
  {
   "cell_type": "code",
   "execution_count": 38,
   "metadata": {},
   "outputs": [],
   "source": [
    "#DATA PRE-PROCESSING\n",
    "#Note that summing up item_cnt_month will return infinite since it exceeds maximum range\n",
    "#import numpy as np\n",
    "#np.sum(main_combined['item_cnt_month'])"
   ]
  },
  {
   "cell_type": "markdown",
   "metadata": {},
   "source": [
    "Let's combine train & test sets together:"
   ]
  },
  {
   "cell_type": "code",
   "execution_count": 41,
   "metadata": {},
   "outputs": [],
   "source": [
    "#DATA PRE-PROCESSING\n",
    "#We do the same for test\n",
    "test['date_block_num'] = 34\n",
    "test['date_block_num'] = test['date_block_num'].astype(np.int8)\n",
    "test['shop_id'] = test['shop_id'].astype(np.int8)\n",
    "test['item_id'] = test['item_id'].astype(np.int16)\n",
    "\n",
    "main_combined = pd.concat([main_combined, test], sort=False,ignore_index=True, keys=cols)\n",
    "main_combined.fillna(0, inplace=True)"
   ]
  },
  {
   "cell_type": "markdown",
   "metadata": {},
   "source": [
    "Combining with shops,items,cats files:"
   ]
  },
  {
   "cell_type": "code",
   "execution_count": 42,
   "metadata": {},
   "outputs": [],
   "source": [
    "#MERGE \n",
    "main_combined = pd.merge(main_combined, shops, on=['shop_id'], how='left')\n",
    "main_combined = pd.merge(main_combined, items, on=['item_id'], how='left')\n",
    "main_combined = pd.merge(main_combined, cats, on=['item_category_id'], how='left')"
   ]
  },
  {
   "cell_type": "markdown",
   "metadata": {},
   "source": [
    "Checking first 5 rows of combined set:"
   ]
  },
  {
   "cell_type": "code",
   "execution_count": 43,
   "metadata": {},
   "outputs": [
    {
     "data": {
      "text/html": [
       "<div>\n",
       "<style scoped>\n",
       "    .dataframe tbody tr th:only-of-type {\n",
       "        vertical-align: middle;\n",
       "    }\n",
       "\n",
       "    .dataframe tbody tr th {\n",
       "        vertical-align: top;\n",
       "    }\n",
       "\n",
       "    .dataframe thead th {\n",
       "        text-align: right;\n",
       "    }\n",
       "</style>\n",
       "<table border=\"1\" class=\"dataframe\">\n",
       "  <thead>\n",
       "    <tr style=\"text-align: right;\">\n",
       "      <th></th>\n",
       "      <th>date_block_num</th>\n",
       "      <th>shop_id</th>\n",
       "      <th>item_id</th>\n",
       "      <th>item_cnt_month</th>\n",
       "      <th>ID</th>\n",
       "      <th>city_code</th>\n",
       "      <th>item_category_id</th>\n",
       "      <th>type_code</th>\n",
       "      <th>subtype_code</th>\n",
       "    </tr>\n",
       "  </thead>\n",
       "  <tbody>\n",
       "    <tr>\n",
       "      <th>0</th>\n",
       "      <td>0</td>\n",
       "      <td>2</td>\n",
       "      <td>19</td>\n",
       "      <td>0.0</td>\n",
       "      <td>0.0</td>\n",
       "      <td>0</td>\n",
       "      <td>40</td>\n",
       "      <td>11</td>\n",
       "      <td>4</td>\n",
       "    </tr>\n",
       "    <tr>\n",
       "      <th>1</th>\n",
       "      <td>0</td>\n",
       "      <td>2</td>\n",
       "      <td>27</td>\n",
       "      <td>1.0</td>\n",
       "      <td>0.0</td>\n",
       "      <td>0</td>\n",
       "      <td>19</td>\n",
       "      <td>5</td>\n",
       "      <td>10</td>\n",
       "    </tr>\n",
       "    <tr>\n",
       "      <th>2</th>\n",
       "      <td>0</td>\n",
       "      <td>2</td>\n",
       "      <td>28</td>\n",
       "      <td>0.0</td>\n",
       "      <td>0.0</td>\n",
       "      <td>0</td>\n",
       "      <td>30</td>\n",
       "      <td>8</td>\n",
       "      <td>55</td>\n",
       "    </tr>\n",
       "    <tr>\n",
       "      <th>3</th>\n",
       "      <td>0</td>\n",
       "      <td>2</td>\n",
       "      <td>29</td>\n",
       "      <td>0.0</td>\n",
       "      <td>0.0</td>\n",
       "      <td>0</td>\n",
       "      <td>23</td>\n",
       "      <td>5</td>\n",
       "      <td>16</td>\n",
       "    </tr>\n",
       "    <tr>\n",
       "      <th>4</th>\n",
       "      <td>0</td>\n",
       "      <td>2</td>\n",
       "      <td>32</td>\n",
       "      <td>0.0</td>\n",
       "      <td>0.0</td>\n",
       "      <td>0</td>\n",
       "      <td>40</td>\n",
       "      <td>11</td>\n",
       "      <td>4</td>\n",
       "    </tr>\n",
       "  </tbody>\n",
       "</table>\n",
       "</div>"
      ],
      "text/plain": [
       "   date_block_num  shop_id  item_id  item_cnt_month   ID  city_code  \\\n",
       "0               0        2       19             0.0  0.0          0   \n",
       "1               0        2       27             1.0  0.0          0   \n",
       "2               0        2       28             0.0  0.0          0   \n",
       "3               0        2       29             0.0  0.0          0   \n",
       "4               0        2       32             0.0  0.0          0   \n",
       "\n",
       "   item_category_id  type_code  subtype_code  \n",
       "0                40         11             4  \n",
       "1                19          5            10  \n",
       "2                30          8            55  \n",
       "3                23          5            16  \n",
       "4                40         11             4  "
      ]
     },
     "execution_count": 43,
     "metadata": {},
     "output_type": "execute_result"
    }
   ],
   "source": [
    "main_combined.head()"
   ]
  },
  {
   "cell_type": "markdown",
   "metadata": {},
   "source": [
    "START OF EDA SECTION"
   ]
  },
  {
   "cell_type": "code",
   "execution_count": null,
   "metadata": {},
   "outputs": [],
   "source": [
    "#EXPLORATORY DATA ANALYSIS [FOR ORIGINAL DATASET]\n",
    "#BASIC STATS"
   ]
  },
  {
   "cell_type": "markdown",
   "metadata": {},
   "source": [
    "Again, looking at the description of train set:"
   ]
  },
  {
   "cell_type": "code",
   "execution_count": 9,
   "metadata": {},
   "outputs": [
    {
     "data": {
      "text/html": [
       "<div>\n",
       "<style scoped>\n",
       "    .dataframe tbody tr th:only-of-type {\n",
       "        vertical-align: middle;\n",
       "    }\n",
       "\n",
       "    .dataframe tbody tr th {\n",
       "        vertical-align: top;\n",
       "    }\n",
       "\n",
       "    .dataframe thead th {\n",
       "        text-align: right;\n",
       "    }\n",
       "</style>\n",
       "<table border=\"1\" class=\"dataframe\">\n",
       "  <thead>\n",
       "    <tr style=\"text-align: right;\">\n",
       "      <th></th>\n",
       "      <th>date_block_num</th>\n",
       "      <th>shop_id</th>\n",
       "      <th>item_id</th>\n",
       "      <th>item_price</th>\n",
       "      <th>item_cnt_day</th>\n",
       "    </tr>\n",
       "  </thead>\n",
       "  <tbody>\n",
       "    <tr>\n",
       "      <th>count</th>\n",
       "      <td>2.935847e+06</td>\n",
       "      <td>2.935847e+06</td>\n",
       "      <td>2.935847e+06</td>\n",
       "      <td>2.935847e+06</td>\n",
       "      <td>2.935847e+06</td>\n",
       "    </tr>\n",
       "    <tr>\n",
       "      <th>mean</th>\n",
       "      <td>1.456991e+01</td>\n",
       "      <td>3.331065e+01</td>\n",
       "      <td>1.019723e+04</td>\n",
       "      <td>8.907496e+02</td>\n",
       "      <td>1.241903e+00</td>\n",
       "    </tr>\n",
       "    <tr>\n",
       "      <th>std</th>\n",
       "      <td>9.422985e+00</td>\n",
       "      <td>1.613679e+01</td>\n",
       "      <td>6.324299e+03</td>\n",
       "      <td>1.720490e+03</td>\n",
       "      <td>2.292963e+00</td>\n",
       "    </tr>\n",
       "    <tr>\n",
       "      <th>min</th>\n",
       "      <td>0.000000e+00</td>\n",
       "      <td>2.000000e+00</td>\n",
       "      <td>0.000000e+00</td>\n",
       "      <td>7.000000e-02</td>\n",
       "      <td>-2.200000e+01</td>\n",
       "    </tr>\n",
       "    <tr>\n",
       "      <th>25%</th>\n",
       "      <td>7.000000e+00</td>\n",
       "      <td>2.200000e+01</td>\n",
       "      <td>4.476000e+03</td>\n",
       "      <td>2.490000e+02</td>\n",
       "      <td>1.000000e+00</td>\n",
       "    </tr>\n",
       "    <tr>\n",
       "      <th>50%</th>\n",
       "      <td>1.400000e+01</td>\n",
       "      <td>3.100000e+01</td>\n",
       "      <td>9.343000e+03</td>\n",
       "      <td>3.990000e+02</td>\n",
       "      <td>1.000000e+00</td>\n",
       "    </tr>\n",
       "    <tr>\n",
       "      <th>75%</th>\n",
       "      <td>2.300000e+01</td>\n",
       "      <td>4.800000e+01</td>\n",
       "      <td>1.568400e+04</td>\n",
       "      <td>9.990000e+02</td>\n",
       "      <td>1.000000e+00</td>\n",
       "    </tr>\n",
       "    <tr>\n",
       "      <th>max</th>\n",
       "      <td>3.300000e+01</td>\n",
       "      <td>5.900000e+01</td>\n",
       "      <td>2.216900e+04</td>\n",
       "      <td>5.920000e+04</td>\n",
       "      <td>1.000000e+03</td>\n",
       "    </tr>\n",
       "  </tbody>\n",
       "</table>\n",
       "</div>"
      ],
      "text/plain": [
       "       date_block_num       shop_id       item_id    item_price  item_cnt_day\n",
       "count    2.935847e+06  2.935847e+06  2.935847e+06  2.935847e+06  2.935847e+06\n",
       "mean     1.456991e+01  3.331065e+01  1.019723e+04  8.907496e+02  1.241903e+00\n",
       "std      9.422985e+00  1.613679e+01  6.324299e+03  1.720490e+03  2.292963e+00\n",
       "min      0.000000e+00  2.000000e+00  0.000000e+00  7.000000e-02 -2.200000e+01\n",
       "25%      7.000000e+00  2.200000e+01  4.476000e+03  2.490000e+02  1.000000e+00\n",
       "50%      1.400000e+01  3.100000e+01  9.343000e+03  3.990000e+02  1.000000e+00\n",
       "75%      2.300000e+01  4.800000e+01  1.568400e+04  9.990000e+02  1.000000e+00\n",
       "max      3.300000e+01  5.900000e+01  2.216900e+04  5.920000e+04  1.000000e+03"
      ]
     },
     "execution_count": 9,
     "metadata": {},
     "output_type": "execute_result"
    }
   ],
   "source": [
    "#EXPLORATORY DATA ANALYSIS\n",
    "main = leak_train\n",
    "main.describe()"
   ]
  },
  {
   "cell_type": "markdown",
   "metadata": {},
   "source": [
    "Let's see the unique values for each column:"
   ]
  },
  {
   "cell_type": "code",
   "execution_count": 10,
   "metadata": {},
   "outputs": [
    {
     "name": "stdout",
     "output_type": "stream",
     "text": [
      "Number of unique values of date : 1034\n",
      "Number of unique values of date_block_num : 34\n",
      "Number of unique values of shop_id : 57\n",
      "Number of unique values of item_id : 21806\n",
      "Number of unique values of item_price : 19990\n",
      "Number of unique values of item_cnt_day : 197\n"
     ]
    }
   ],
   "source": [
    "#EXPLORATORY DATA ANALYSIS\n",
    "#Features unique values\n",
    "for col in main.columns:\n",
    "    print(\"Number of unique values of {} : {}\".format(col, main[col].nunique()))    "
   ]
  },
  {
   "cell_type": "markdown",
   "metadata": {},
   "source": [
    "This data is over 34 months.\n",
    "There are 57 different shops.\n",
    "Many different item_ids, many repetitions.\n",
    "Many different item_prices."
   ]
  },
  {
   "cell_type": "code",
   "execution_count": null,
   "metadata": {},
   "outputs": [],
   "source": [
    "#EXPLORATORY DATA ANALYSIS\n",
    "#SALES/TRANSACTIONS TRENDS"
   ]
  },
  {
   "cell_type": "markdown",
   "metadata": {},
   "source": [
    "Let's examine the trends for item_cnt_day sum,mean & count for each month for any seasonal effects:"
   ]
  },
  {
   "cell_type": "code",
   "execution_count": 12,
   "metadata": {},
   "outputs": [
    {
     "data": {
      "text/plain": [
       "[]"
      ]
     },
     "execution_count": 12,
     "metadata": {},
     "output_type": "execute_result"
    },
    {
     "data": {
      "image/png": "[encoded data removed]",
      "text/plain": [
       "<Figure size 1152x1152 with 3 Axes>"
      ]
     },
     "metadata": {
      "needs_background": "light"
     },
     "output_type": "display_data"
    }
   ],
   "source": [
    "#EXPLORATORY DATA ANALYSIS\n",
    "#Lets view the trend of item_cnt,mean_item_cnt,transactions over time\n",
    "#We begin by importing matplotlib\n",
    "ts = main.groupby('date_block_num')['item_cnt_day'].sum()\n",
    "import matplotlib.pyplot as plt\n",
    "plt.figure(figsize=(16,16))\n",
    "plt.subplot(311)\n",
    "plt.title('item_cnt over months')\n",
    "plt.xlabel('month')\n",
    "plt.ylabel('item_cnt')\n",
    "plt.plot(ts)\n",
    "\n",
    "ts = main.groupby('date_block_num')['item_cnt_day'].mean()\n",
    "plt.subplot(312)\n",
    "plt.title('mean_item_cnt over months')\n",
    "plt.xlabel('month')\n",
    "plt.ylabel('mean_item_cnt')\n",
    "plt.plot(ts)\n",
    "plt.plot()\n",
    "\n",
    "ts = main.groupby('date_block_num')['date_block_num'].count()\n",
    "plt.subplot(313)\n",
    "plt.title('transactions over months')\n",
    "plt.xlabel('month')\n",
    "plt.ylabel('transactions')\n",
    "plt.plot(ts)\n",
    "plt.plot()"
   ]
  },
  {
   "cell_type": "markdown",
   "metadata": {},
   "source": [
    "We observe 2 \"spikes\" in the data. They seem to be located at end of each year, implying seasonality/year effects.\n",
    "Decreasing trend for item_cnt over months & transactions over months. "
   ]
  },
  {
   "cell_type": "markdown",
   "metadata": {},
   "source": [
    "Let's examine their distributions:"
   ]
  },
  {
   "cell_type": "code",
   "execution_count": 13,
   "metadata": {},
   "outputs": [
    {
     "name": "stderr",
     "output_type": "stream",
     "text": [
      "C:\\Users\\weiquan\\Anaconda3\\lib\\site-packages\\scipy\\stats\\stats.py:1713: FutureWarning: Using a non-tuple sequence for multidimensional indexing is deprecated; use `arr[tuple(seq)]` instead of `arr[seq]`. In the future this will be interpreted as an array index, `arr[np.array(seq)]`, which will result either in an error or a different result.\n",
      "  return np.add.reduce(sorted[indexer] * weights, axis=axis) / sumval\n"
     ]
    },
    {
     "data": {
      "text/plain": [
       "[]"
      ]
     },
     "execution_count": 13,
     "metadata": {},
     "output_type": "execute_result"
    },
    {
     "data": {
      "image/png": "[encoded data removed]",
      "text/plain": [
       "<Figure size 1152x1152 with 3 Axes>"
      ]
     },
     "metadata": {
      "needs_background": "light"
     },
     "output_type": "display_data"
    }
   ],
   "source": [
    "#EXPLORATORY DATA ANALYSIS\n",
    "#Let's view the distribution of item_cnt,mean_item_cnt & transactions \n",
    "#We begin by importing seaborn\n",
    "import seaborn as sns\n",
    "plt.figure(figsize=(16,16))\n",
    "plt.subplot(311)\n",
    "plt.title('item_cnt distribution')\n",
    "plt.xlabel('item_cnt')\n",
    "plt.ylabel('distribution')\n",
    "sns.distplot(main['item_cnt_day'], hist=False, kde=True, color = 'darkblue', hist_kws={'edgecolor':'black'},kde_kws={'linewidth': 4})\n",
    "\n",
    "plt.subplot(312)\n",
    "plt.title('mean_item_cnt distribution')\n",
    "plt.xlabel('mean_item_cnt')\n",
    "plt.ylabel('distribution')\n",
    "sns.distplot(main.groupby('date_block_num')['item_cnt_day'].mean(), hist=False, kde=True, color = 'darkblue', hist_kws={'edgecolor':'black'},kde_kws={'linewidth': 4})\n",
    "plt.plot()\n",
    "\n",
    "plt.subplot(313)\n",
    "plt.title('transactions distribution')\n",
    "plt.xlabel('transactions')\n",
    "plt.ylabel('distribution')\n",
    "sns.distplot(main.groupby('date_block_num')['item_cnt_day'].count(), hist=False, kde=True, color = 'darkblue', hist_kws={'edgecolor':'black'},kde_kws={'linewidth': 4})\n",
    "plt.plot()\n",
    "\n",
    "#Data seems to be left-skewed, with most item sales averaging 1\n",
    "#There seems to have 2 \"bumps\" for transactions, corrsponding to that of transactions over months"
   ]
  },
  {
   "cell_type": "markdown",
   "metadata": {},
   "source": [
    "item_cnt_day seems to be heavily left-skewed.\n",
    "mean_item_cnt & transactions seems to have fairly-normal distributions."
   ]
  },
  {
   "cell_type": "markdown",
   "metadata": {},
   "source": [
    "Let's examine the distribution of item_cnt sum BY shop_id"
   ]
  },
  {
   "cell_type": "code",
   "execution_count": 14,
   "metadata": {},
   "outputs": [
    {
     "data": {
      "image/png": "[encoded data removed]",
      "text/plain": [
       "<Figure size 1152x576 with 1 Axes>"
      ]
     },
     "metadata": {
      "needs_background": "light"
     },
     "output_type": "display_data"
    }
   ],
   "source": [
    "#EXPLORATORY DATA ANALYSIS\n",
    "#Let's view the distribution of item_cnt BY shop_id\n",
    "plt.figure(figsize=(16,8))\n",
    "ts = main.groupby(['shop_id'],as_index=False)['item_cnt_day'].sum()\n",
    "plt.title('Sales by Shop')\n",
    "plt.bar(range(len(ts['item_cnt_day'])),list(ts['item_cnt_day']), align='center')\n",
    "plt.xticks(range(len(ts['shop_id'])),list(ts['shop_id'].unique()))\n",
    "plt.ylabel('Sales')\n",
    "plt.show()\n",
    "#Interestingly, most sales come from shop_id 31,25,28,42,57"
   ]
  },
  {
   "cell_type": "markdown",
   "metadata": {},
   "source": [
    "Notice that only a few shops have large sales (31,25,28,54,57,42,27)"
   ]
  },
  {
   "cell_type": "code",
   "execution_count": null,
   "metadata": {},
   "outputs": [],
   "source": [
    "#EXPLORATORY DATA ANALYSIS\n",
    "#TIME SERIES STATIONARITY"
   ]
  },
  {
   "cell_type": "markdown",
   "metadata": {},
   "source": [
    "There is clearly a seasonal trend.\n",
    "However, we want to be sure that time-stationarity is preserved.\n",
    "We can check this by de-trending the data to see if pattern is constant:"
   ]
  },
  {
   "cell_type": "code",
   "execution_count": 15,
   "metadata": {},
   "outputs": [
    {
     "data": {
      "image/png": "[encoded data removed]",
      "text/plain": [
       "<Figure size 432x288 with 4 Axes>"
      ]
     },
     "metadata": {
      "needs_background": "light"
     },
     "output_type": "display_data"
    }
   ],
   "source": [
    "#EXPLORATORY DATA ANALYSIS\n",
    "#Seems like seasonality is involved\n",
    "#We check using multiplicative model\n",
    "ts = main.groupby(['date_block_num'])['item_cnt_day'].sum()\n",
    "import statsmodels.api as sm\n",
    "res = sm.tsa.seasonal_decompose(ts.values,freq=12,model=\"multiplicative\")\n",
    "fig = res.plot()"
   ]
  },
  {
   "cell_type": "code",
   "execution_count": 16,
   "metadata": {},
   "outputs": [
    {
     "data": {
      "image/png": "[encoded data removed]",
      "text/plain": [
       "<Figure size 432x288 with 4 Axes>"
      ]
     },
     "metadata": {
      "needs_background": "light"
     },
     "output_type": "display_data"
    }
   ],
   "source": [
    "#EXPLORATORY DATA ANALYSIS\n",
    "#Now we check usng additive model\n",
    "res = sm.tsa.seasonal_decompose(ts.values,freq=12,model=\"additive\")\n",
    "#plt.figure(figsize=(16,12))\n",
    "fig = res.plot()"
   ]
  },
  {
   "cell_type": "markdown",
   "metadata": {},
   "source": [
    "Notice that both models show spikes only at year's end after removal of decreasing trend.\n",
    "Time-stationarity exists and we can safely-proceed to further analyse this time-series."
   ]
  },
  {
   "cell_type": "markdown",
   "metadata": {},
   "source": [
    "To be extra-sure, we can perform Dickey-Fuller test after de-trending for hypothesis testing:"
   ]
  },
  {
   "cell_type": "code",
   "execution_count": 17,
   "metadata": {},
   "outputs": [],
   "source": [
    "#EXPLORATORY DATA ANALYSIS\n",
    "#We create a function for de-trending\n",
    "from statsmodels.tsa.stattools import adfuller\n",
    "def difference(dataset,interval=1):\n",
    "    diff = list()\n",
    "    for i in range(interval,len(dataset)):\n",
    "        difference = dataset[i] - dataset[i-interval]\n",
    "        diff.append(difference)\n",
    "    return pd.Series(diff)\n",
    "\n",
    "#We create a function for checking stationarity\n",
    "def test_stationarity(timeseries):    \n",
    "    #Perform Dickey-Fuller test:\n",
    "    print('Results of Dickey-Fuller Test:')\n",
    "    dftest = adfuller(timeseries, autolag='AIC')\n",
    "    dfoutput = pd.Series(dftest[0:4], index=['Test Statistic','p-value','#Lags Used','Number of Observations Used'])\n",
    "    for key,value in dftest[4].items():\n",
    "        dfoutput['Critical Value (%s)'%key] = value\n",
    "    print (dfoutput)\n"
   ]
  },
  {
   "cell_type": "markdown",
   "metadata": {},
   "source": [
    "Notice that p-value is large before de-trending:"
   ]
  },
  {
   "cell_type": "code",
   "execution_count": 18,
   "metadata": {},
   "outputs": [
    {
     "name": "stdout",
     "output_type": "stream",
     "text": [
      "Results of Dickey-Fuller Test:\n",
      "Test Statistic                 -2.368978\n",
      "p-value                         0.150684\n",
      "#Lags Used                      0.000000\n",
      "Number of Observations Used    33.000000\n",
      "Critical Value (1%)            -3.646135\n",
      "Critical Value (5%)            -2.954127\n",
      "Critical Value (10%)           -2.615968\n",
      "dtype: float64\n"
     ]
    }
   ],
   "source": [
    "#EXPLORATORY DATA ANALYSIS\n",
    "#We create a temp. sum of item_cnt_day for each month\n",
    "ts = main.groupby(['date_block_num'])['item_cnt_day'].sum()\n",
    "#Let's check stationarity for original summed data\n",
    "test_stationarity(ts)"
   ]
  },
  {
   "cell_type": "markdown",
   "metadata": {},
   "source": [
    "Let's de-trend & de-seasonalise the data before checking for stationarity.\n",
    "Here, we assume a 12-months seasonal effect:"
   ]
  },
  {
   "cell_type": "code",
   "execution_count": 19,
   "metadata": {},
   "outputs": [
    {
     "data": {
      "text/plain": [
       "[]"
      ]
     },
     "execution_count": 19,
     "metadata": {},
     "output_type": "execute_result"
    },
    {
     "data": {
      "image/png": "[encoded data removed]",
      "text/plain": [
       "<Figure size 1152x1152 with 3 Axes>"
      ]
     },
     "metadata": {
      "needs_background": "light"
     },
     "output_type": "display_data"
    }
   ],
   "source": [
    "#EXPLORATORY DATA ANALYSIS\n",
    "#Let's de-trend and print \n",
    "import matplotlib.pyplot as plt\n",
    "ts.astype('float')\n",
    "plt.figure(figsize=(16,16))\n",
    "plt.subplot(311)\n",
    "plt.title('Original')\n",
    "plt.xlabel('Time')\n",
    "plt.ylabel('Sales')\n",
    "plt.plot(ts)\n",
    "\n",
    "plt.subplot(312)\n",
    "ts_new = difference(ts)\n",
    "plt.title('After De-trend')\n",
    "plt.xlabel('Time')\n",
    "plt.ylabel('Sales')\n",
    "plt.plot(ts_new)\n",
    "plt.plot()\n",
    "\n",
    "plt.subplot(313)\n",
    "ts_new = difference(ts,12)\n",
    "plt.title('After De-seasonalization')\n",
    "plt.xlabel('Time')\n",
    "plt.ylabel('Sales')\n",
    "plt.plot(ts_new)\n",
    "plt.plot()"
   ]
  },
  {
   "cell_type": "markdown",
   "metadata": {},
   "source": [
    "Data seems to exhibit time-stationarity after de-trending & de-seasonalisation."
   ]
  },
  {
   "cell_type": "markdown",
   "metadata": {},
   "source": [
    "Let's perform Dickey-Fuller test again:"
   ]
  },
  {
   "cell_type": "code",
   "execution_count": 20,
   "metadata": {},
   "outputs": [
    {
     "name": "stdout",
     "output_type": "stream",
     "text": [
      "Results of Dickey-Fuller Test:\n",
      "Test Statistic                 -3.194056\n",
      "p-value                         0.020331\n",
      "#Lags Used                      0.000000\n",
      "Number of Observations Used    21.000000\n",
      "Critical Value (1%)            -3.788386\n",
      "Critical Value (5%)            -3.013098\n",
      "Critical Value (10%)           -2.646397\n",
      "dtype: float64\n"
     ]
    }
   ],
   "source": [
    "#EXPLORATORY DATA ANALYSIS\n",
    "#Let's check stationarity for de-seasonlised data\n",
    "test_stationarity(ts_new)"
   ]
  },
  {
   "cell_type": "markdown",
   "metadata": {},
   "source": [
    "Notice that p-value is less than 5.\n",
    "We can safely-reject the hypothesis that time-stationarity does not exist."
   ]
  },
  {
   "cell_type": "markdown",
   "metadata": {},
   "source": [
    "Let's check for outliers using violin plots, starting with item_cnt_day.\n",
    "We use violin plots as they show distribution & density of values."
   ]
  },
  {
   "cell_type": "code",
   "execution_count": 21,
   "metadata": {},
   "outputs": [
    {
     "name": "stderr",
     "output_type": "stream",
     "text": [
      "C:\\Users\\weiquan\\Anaconda3\\lib\\site-packages\\scipy\\stats\\stats.py:1713: FutureWarning: Using a non-tuple sequence for multidimensional indexing is deprecated; use `arr[tuple(seq)]` instead of `arr[seq]`. In the future this will be interpreted as an array index, `arr[np.array(seq)]`, which will result either in an error or a different result.\n",
      "  return np.add.reduce(sorted[indexer] * weights, axis=axis) / sumval\n"
     ]
    },
    {
     "data": {
      "text/plain": [
       "<matplotlib.axes._subplots.AxesSubplot at 0x1f714302a20>"
      ]
     },
     "execution_count": 21,
     "metadata": {},
     "output_type": "execute_result"
    },
    {
     "data": {
      "image/png": "[encoded data removed]",
      "text/plain": [
       "<Figure size 1152x576 with 1 Axes>"
      ]
     },
     "metadata": {
      "needs_background": "light"
     },
     "output_type": "display_data"
    }
   ],
   "source": [
    "#EXPLORATORY DATA ANALYSIS\n",
    "#OUTLIERS [item_cnt]\n",
    "import seaborn as sns\n",
    "plt.figure(figsize=(16,8))\n",
    "sns.set(style=\"whitegrid\")\n",
    "sns.violinplot(x=main[\"item_cnt_day\"])\n",
    "#There seems to be some outliers, with most points = 1"
   ]
  },
  {
   "cell_type": "markdown",
   "metadata": {},
   "source": [
    "There's clearly some outliers exceeding 1000. \n",
    "We shall use 1000 as our threshold for item_cnt_day."
   ]
  },
  {
   "cell_type": "markdown",
   "metadata": {},
   "source": [
    "Next, we look at the violin plot for item_price"
   ]
  },
  {
   "cell_type": "code",
   "execution_count": 22,
   "metadata": {},
   "outputs": [
    {
     "name": "stderr",
     "output_type": "stream",
     "text": [
      "C:\\Users\\weiquan\\Anaconda3\\lib\\site-packages\\scipy\\stats\\stats.py:1713: FutureWarning: Using a non-tuple sequence for multidimensional indexing is deprecated; use `arr[tuple(seq)]` instead of `arr[seq]`. In the future this will be interpreted as an array index, `arr[np.array(seq)]`, which will result either in an error or a different result.\n",
      "  return np.add.reduce(sorted[indexer] * weights, axis=axis) / sumval\n"
     ]
    },
    {
     "data": {
      "text/plain": [
       "<matplotlib.axes._subplots.AxesSubplot at 0x1f712351390>"
      ]
     },
     "execution_count": 22,
     "metadata": {},
     "output_type": "execute_result"
    },
    {
     "data": {
      "image/png": "[encoded data removed]",
      "text/plain": [
       "<Figure size 1152x576 with 1 Axes>"
      ]
     },
     "metadata": {},
     "output_type": "display_data"
    }
   ],
   "source": [
    "#EXPLORATORY DATA ANALYSIS\n",
    "#OUTLIERS [item_price]\n",
    "import seaborn as sns\n",
    "plt.figure(figsize=(16,8))\n",
    "sns.set(style=\"whitegrid\")\n",
    "sns.violinplot(x=main[\"item_price\"])"
   ]
  },
  {
   "cell_type": "markdown",
   "metadata": {},
   "source": [
    "There are clearly negative values as well as values exceeding 60000.\n",
    "We shall use 100000 as threshold and see if the remaining data can give a good accuracy."
   ]
  },
  {
   "cell_type": "markdown",
   "metadata": {},
   "source": [
    "Let's move on to shop_name:"
   ]
  },
  {
   "cell_type": "markdown",
   "metadata": {},
   "source": [
    "First part of shop_name is the city name, second part of shop_name is the actual shop name.\n",
    "There exist shops with similar names:"
   ]
  },
  {
   "cell_type": "code",
   "execution_count": 24,
   "metadata": {},
   "outputs": [
    {
     "name": "stdout",
     "output_type": "stream",
     "text": [
      "Орджоникидзе,\n",
      "ТЦ\n",
      "ТРК\n",
      "ТРЦ\n",
      "ул.\n",
      "ТК\n"
     ]
    }
   ],
   "source": [
    "#EXPLORATORY DATA ANALYSIS\n",
    "#SHOPS\n",
    "shops['temp'] = shops['shop_name'].str.split(' ').map(lambda x: x[1])\n",
    "for i in shops['temp'].unique():\n",
    "    if shops[shops['temp'] == i]['shop_id'].nunique() > 1:\n",
    "        print(i)\n",
    "#These are the shops with similar names    "
   ]
  },
  {
   "cell_type": "code",
   "execution_count": 25,
   "metadata": {},
   "outputs": [
    {
     "data": {
      "text/plain": [
       "array(['!Якутск Орджоникидзе, 56 фран', 'Якутск Орджоникидзе, 56'],\n",
       "      dtype=object)"
      ]
     },
     "execution_count": 25,
     "metadata": {},
     "output_type": "execute_result"
    }
   ],
   "source": [
    "#EXPLORATORY DATA ANALYSIS\n",
    "#Among these, these 3 are the same:\n",
    "#'!Якутск Орджоникидзе, 56 фран' & 'Якутск Орджоникидзе, 56'\n",
    "shops[shops['temp'] == 'Орджоникидзе,']['shop_name'].unique()"
   ]
  },
  {
   "cell_type": "code",
   "execution_count": 26,
   "metadata": {},
   "outputs": [
    {
     "data": {
      "text/plain": [
       "array([ 0, 57], dtype=int64)"
      ]
     },
     "execution_count": 26,
     "metadata": {},
     "output_type": "execute_result"
    }
   ],
   "source": [
    "#EXPLORATORY DATA ANALYSIS\n",
    "#Getting their shop_id:\n",
    "shops[shops['shop_name'].isin(['!Якутск Орджоникидзе, 56 фран','Якутск Орджоникидзе, 56'])]['shop_id'].unique()"
   ]
  },
  {
   "cell_type": "code",
   "execution_count": 27,
   "metadata": {},
   "outputs": [
    {
     "data": {
      "text/plain": [
       "array(['!Якутск ТЦ \"Центральный\" фран', 'Адыгея ТЦ \"Мега\"',\n",
       "       'Волжский ТЦ \"Волга Молл\"', 'Казань ТЦ \"Бехетле\"',\n",
       "       'Казань ТЦ \"ПаркХаус\" II', 'Коломна ТЦ \"Рио\"',\n",
       "       'Красноярск ТЦ \"Взлетка Плаза\"', 'Красноярск ТЦ \"Июнь\"',\n",
       "       'Курск ТЦ \"Пушкинский\"', 'Москва ТЦ \"Ареал\" (Беляево)',\n",
       "       'Москва ТЦ \"МЕГА Белая Дача II\"',\n",
       "       'Москва ТЦ \"МЕГА Теплый Стан\" II',\n",
       "       'Москва ТЦ \"Новый век\" (Новокосино)', 'Москва ТЦ \"Перловский\"',\n",
       "       'Москва ТЦ \"Семеновский\"', 'Москва ТЦ \"Серебряный Дом\"',\n",
       "       'Новосибирск ТЦ \"Мега\"', 'Омск ТЦ \"Мега\"',\n",
       "       'РостовНаДону ТЦ \"Мега\"', 'Самара ТЦ \"Мелодия\"',\n",
       "       'Самара ТЦ \"ПаркХаус\"', 'Тюмень ТЦ \"Гудвин\"',\n",
       "       'Тюмень ТЦ \"Зеленый Берег\"', 'Уфа ТЦ \"Семья\" 2', 'Химки ТЦ \"Мега\"',\n",
       "       'Якутск ТЦ \"Центральный\"', 'Ярославль ТЦ \"Альтаир\"'], dtype=object)"
      ]
     },
     "execution_count": 27,
     "metadata": {},
     "output_type": "execute_result"
    }
   ],
   "source": [
    "#EXPLORATORY DATA ANALYSIS\n",
    "#'!Якутск ТЦ \"Центральный\" фран' & 'Якутск ТЦ \"Центральный\"'\n",
    "shops[shops['temp'] == 'ТЦ']['shop_name'].unique()"
   ]
  },
  {
   "cell_type": "code",
   "execution_count": 28,
   "metadata": {},
   "outputs": [
    {
     "data": {
      "text/plain": [
       "array([ 1, 58], dtype=int64)"
      ]
     },
     "execution_count": 28,
     "metadata": {},
     "output_type": "execute_result"
    }
   ],
   "source": [
    "#EXPLORATORY DATA ANALYSIS\n",
    "#Getting their shop_id:\n",
    "shops[shops['shop_name'].isin(['!Якутск ТЦ \"Центральный\" фран' ,'Якутск ТЦ \"Центральный\"'])]['shop_id'].unique()"
   ]
  },
  {
   "cell_type": "code",
   "execution_count": 29,
   "metadata": {},
   "outputs": [
    {
     "data": {
      "text/plain": [
       "array(['Жуковский ул. Чкалова 39м?', 'Жуковский ул. Чкалова 39м²'],\n",
       "      dtype=object)"
      ]
     },
     "execution_count": 29,
     "metadata": {},
     "output_type": "execute_result"
    }
   ],
   "source": [
    "#EXPLORATORY DATA ANALYSIS\n",
    "#'Жуковский ул. Чкалова 39м?' & 'Жуковский ул. Чкалова 39м²'\n",
    "shops[shops['temp'] == 'ул.']['shop_name'].unique()"
   ]
  },
  {
   "cell_type": "code",
   "execution_count": 30,
   "metadata": {},
   "outputs": [
    {
     "data": {
      "text/plain": [
       "array([10, 11], dtype=int64)"
      ]
     },
     "execution_count": 30,
     "metadata": {},
     "output_type": "execute_result"
    }
   ],
   "source": [
    "#EXPLORATORY DATA ANALYSIS\n",
    "#Getting their shop_id:\n",
    "shops[shops['shop_name'].isin([ 'Жуковский ул. Чкалова 39м?','Жуковский ул. Чкалова 39м²'])]['shop_id'].unique()"
   ]
  },
  {
   "cell_type": "markdown",
   "metadata": {},
   "source": [
    "Notice that these shops with similar names have 2 different shop_ids.\n",
    "We fix this by setting them to 1 shop_id only."
   ]
  },
  {
   "cell_type": "markdown",
   "metadata": {},
   "source": [
    "END OF EDA SECTION"
   ]
  },
  {
   "cell_type": "markdown",
   "metadata": {},
   "source": [
    "Taking a look at first 5 rows of combined set again:"
   ]
  },
  {
   "cell_type": "code",
   "execution_count": 44,
   "metadata": {},
   "outputs": [
    {
     "data": {
      "text/html": [
       "<div>\n",
       "<style scoped>\n",
       "    .dataframe tbody tr th:only-of-type {\n",
       "        vertical-align: middle;\n",
       "    }\n",
       "\n",
       "    .dataframe tbody tr th {\n",
       "        vertical-align: top;\n",
       "    }\n",
       "\n",
       "    .dataframe thead th {\n",
       "        text-align: right;\n",
       "    }\n",
       "</style>\n",
       "<table border=\"1\" class=\"dataframe\">\n",
       "  <thead>\n",
       "    <tr style=\"text-align: right;\">\n",
       "      <th></th>\n",
       "      <th>date_block_num</th>\n",
       "      <th>shop_id</th>\n",
       "      <th>item_id</th>\n",
       "      <th>item_cnt_month</th>\n",
       "      <th>ID</th>\n",
       "      <th>city_code</th>\n",
       "      <th>item_category_id</th>\n",
       "      <th>type_code</th>\n",
       "      <th>subtype_code</th>\n",
       "    </tr>\n",
       "  </thead>\n",
       "  <tbody>\n",
       "    <tr>\n",
       "      <th>0</th>\n",
       "      <td>0</td>\n",
       "      <td>2</td>\n",
       "      <td>19</td>\n",
       "      <td>0.0</td>\n",
       "      <td>0.0</td>\n",
       "      <td>0</td>\n",
       "      <td>40</td>\n",
       "      <td>11</td>\n",
       "      <td>4</td>\n",
       "    </tr>\n",
       "    <tr>\n",
       "      <th>1</th>\n",
       "      <td>0</td>\n",
       "      <td>2</td>\n",
       "      <td>27</td>\n",
       "      <td>1.0</td>\n",
       "      <td>0.0</td>\n",
       "      <td>0</td>\n",
       "      <td>19</td>\n",
       "      <td>5</td>\n",
       "      <td>10</td>\n",
       "    </tr>\n",
       "    <tr>\n",
       "      <th>2</th>\n",
       "      <td>0</td>\n",
       "      <td>2</td>\n",
       "      <td>28</td>\n",
       "      <td>0.0</td>\n",
       "      <td>0.0</td>\n",
       "      <td>0</td>\n",
       "      <td>30</td>\n",
       "      <td>8</td>\n",
       "      <td>55</td>\n",
       "    </tr>\n",
       "    <tr>\n",
       "      <th>3</th>\n",
       "      <td>0</td>\n",
       "      <td>2</td>\n",
       "      <td>29</td>\n",
       "      <td>0.0</td>\n",
       "      <td>0.0</td>\n",
       "      <td>0</td>\n",
       "      <td>23</td>\n",
       "      <td>5</td>\n",
       "      <td>16</td>\n",
       "    </tr>\n",
       "    <tr>\n",
       "      <th>4</th>\n",
       "      <td>0</td>\n",
       "      <td>2</td>\n",
       "      <td>32</td>\n",
       "      <td>0.0</td>\n",
       "      <td>0.0</td>\n",
       "      <td>0</td>\n",
       "      <td>40</td>\n",
       "      <td>11</td>\n",
       "      <td>4</td>\n",
       "    </tr>\n",
       "  </tbody>\n",
       "</table>\n",
       "</div>"
      ],
      "text/plain": [
       "   date_block_num  shop_id  item_id  item_cnt_month   ID  city_code  \\\n",
       "0               0        2       19             0.0  0.0          0   \n",
       "1               0        2       27             1.0  0.0          0   \n",
       "2               0        2       28             0.0  0.0          0   \n",
       "3               0        2       29             0.0  0.0          0   \n",
       "4               0        2       32             0.0  0.0          0   \n",
       "\n",
       "   item_category_id  type_code  subtype_code  \n",
       "0                40         11             4  \n",
       "1                19          5            10  \n",
       "2                30          8            55  \n",
       "3                23          5            16  \n",
       "4                40         11             4  "
      ]
     },
     "execution_count": 44,
     "metadata": {},
     "output_type": "execute_result"
    }
   ],
   "source": [
    "main_combined.head()"
   ]
  },
  {
   "cell_type": "markdown",
   "metadata": {},
   "source": [
    "START OF FE SECTION"
   ]
  },
  {
   "cell_type": "markdown",
   "metadata": {},
   "source": [
    "There are various ways to do feature-engineering.\n",
    "Here, we start by creating 3 lags for item_cnt_month:"
   ]
  },
  {
   "cell_type": "code",
   "execution_count": 45,
   "metadata": {},
   "outputs": [],
   "source": [
    "#FEATURE ENGINEERING\n",
    "#TARGET LAG\n",
    "#Using it as lag feature\n",
    "#We use lags=3 for now\n",
    "lag = main_combined[['date_block_num','shop_id','item_id', 'item_cnt_month']].copy()\n",
    "for i in range(1,4):\n",
    "    lag.columns = ['date_block_num','shop_id','item_id', 'item_cnt_month_lag_'+str(i)]\n",
    "    lag['date_block_num'] += 1\n",
    "    main_combined = pd.merge(main_combined, lag, on=['date_block_num','shop_id','item_id'], how='left')\n",
    "\n",
    "#Drop date_avg_item_cnt\n",
    "main_combined['item_cnt_month_lag_1'].fillna(0, inplace=True) \n",
    "main_combined['item_cnt_month_lag_2'].fillna(0, inplace=True) \n",
    "main_combined['item_cnt_month_lag_3'].fillna(0, inplace=True) "
   ]
  },
  {
   "cell_type": "markdown",
   "metadata": {},
   "source": [
    "Taking a look at first 5 rows after creating the 3 lags:"
   ]
  },
  {
   "cell_type": "code",
   "execution_count": 46,
   "metadata": {},
   "outputs": [
    {
     "data": {
      "text/html": [
       "<div>\n",
       "<style scoped>\n",
       "    .dataframe tbody tr th:only-of-type {\n",
       "        vertical-align: middle;\n",
       "    }\n",
       "\n",
       "    .dataframe tbody tr th {\n",
       "        vertical-align: top;\n",
       "    }\n",
       "\n",
       "    .dataframe thead th {\n",
       "        text-align: right;\n",
       "    }\n",
       "</style>\n",
       "<table border=\"1\" class=\"dataframe\">\n",
       "  <thead>\n",
       "    <tr style=\"text-align: right;\">\n",
       "      <th></th>\n",
       "      <th>date_block_num</th>\n",
       "      <th>shop_id</th>\n",
       "      <th>item_id</th>\n",
       "      <th>item_cnt_month</th>\n",
       "      <th>ID</th>\n",
       "      <th>city_code</th>\n",
       "      <th>item_category_id</th>\n",
       "      <th>type_code</th>\n",
       "      <th>subtype_code</th>\n",
       "      <th>item_cnt_month_lag_1</th>\n",
       "      <th>item_cnt_month_lag_2</th>\n",
       "      <th>item_cnt_month_lag_3</th>\n",
       "    </tr>\n",
       "  </thead>\n",
       "  <tbody>\n",
       "    <tr>\n",
       "      <th>0</th>\n",
       "      <td>0</td>\n",
       "      <td>2</td>\n",
       "      <td>19</td>\n",
       "      <td>0.0</td>\n",
       "      <td>0.0</td>\n",
       "      <td>0</td>\n",
       "      <td>40</td>\n",
       "      <td>11</td>\n",
       "      <td>4</td>\n",
       "      <td>0.0</td>\n",
       "      <td>0.0</td>\n",
       "      <td>0.0</td>\n",
       "    </tr>\n",
       "    <tr>\n",
       "      <th>1</th>\n",
       "      <td>0</td>\n",
       "      <td>2</td>\n",
       "      <td>27</td>\n",
       "      <td>1.0</td>\n",
       "      <td>0.0</td>\n",
       "      <td>0</td>\n",
       "      <td>19</td>\n",
       "      <td>5</td>\n",
       "      <td>10</td>\n",
       "      <td>0.0</td>\n",
       "      <td>0.0</td>\n",
       "      <td>0.0</td>\n",
       "    </tr>\n",
       "    <tr>\n",
       "      <th>2</th>\n",
       "      <td>0</td>\n",
       "      <td>2</td>\n",
       "      <td>28</td>\n",
       "      <td>0.0</td>\n",
       "      <td>0.0</td>\n",
       "      <td>0</td>\n",
       "      <td>30</td>\n",
       "      <td>8</td>\n",
       "      <td>55</td>\n",
       "      <td>0.0</td>\n",
       "      <td>0.0</td>\n",
       "      <td>0.0</td>\n",
       "    </tr>\n",
       "    <tr>\n",
       "      <th>3</th>\n",
       "      <td>0</td>\n",
       "      <td>2</td>\n",
       "      <td>29</td>\n",
       "      <td>0.0</td>\n",
       "      <td>0.0</td>\n",
       "      <td>0</td>\n",
       "      <td>23</td>\n",
       "      <td>5</td>\n",
       "      <td>16</td>\n",
       "      <td>0.0</td>\n",
       "      <td>0.0</td>\n",
       "      <td>0.0</td>\n",
       "    </tr>\n",
       "    <tr>\n",
       "      <th>4</th>\n",
       "      <td>0</td>\n",
       "      <td>2</td>\n",
       "      <td>32</td>\n",
       "      <td>0.0</td>\n",
       "      <td>0.0</td>\n",
       "      <td>0</td>\n",
       "      <td>40</td>\n",
       "      <td>11</td>\n",
       "      <td>4</td>\n",
       "      <td>0.0</td>\n",
       "      <td>0.0</td>\n",
       "      <td>0.0</td>\n",
       "    </tr>\n",
       "  </tbody>\n",
       "</table>\n",
       "</div>"
      ],
      "text/plain": [
       "   date_block_num  shop_id  item_id  item_cnt_month   ID  city_code  \\\n",
       "0               0        2       19             0.0  0.0          0   \n",
       "1               0        2       27             1.0  0.0          0   \n",
       "2               0        2       28             0.0  0.0          0   \n",
       "3               0        2       29             0.0  0.0          0   \n",
       "4               0        2       32             0.0  0.0          0   \n",
       "\n",
       "   item_category_id  type_code  subtype_code  item_cnt_month_lag_1  \\\n",
       "0                40         11             4                   0.0   \n",
       "1                19          5            10                   0.0   \n",
       "2                30          8            55                   0.0   \n",
       "3                23          5            16                   0.0   \n",
       "4                40         11             4                   0.0   \n",
       "\n",
       "   item_cnt_month_lag_2  item_cnt_month_lag_3  \n",
       "0                   0.0                   0.0  \n",
       "1                   0.0                   0.0  \n",
       "2                   0.0                   0.0  \n",
       "3                   0.0                   0.0  \n",
       "4                   0.0                   0.0  "
      ]
     },
     "execution_count": 46,
     "metadata": {},
     "output_type": "execute_result"
    }
   ],
   "source": [
    "#FEATURE ENGINEERING\n",
    "#MEANS ENCODING\n",
    "main_combined.head()"
   ]
  },
  {
   "cell_type": "markdown",
   "metadata": {},
   "source": [
    "The following is to check correlation between different features.\n",
    "It is optional to run this since it may be computationally-intensive."
   ]
  },
  {
   "cell_type": "markdown",
   "metadata": {},
   "source": [
    "Correlation of item_cnt_month mean with each feature:"
   ]
  },
  {
   "cell_type": "code",
   "execution_count": 48,
   "metadata": {},
   "outputs": [
    {
     "name": "stdout",
     "output_type": "stream",
     "text": [
      "CorrCoef of date_block_num is 0.06556905037429067\n",
      "CorrCoef of shop_id is -0.08250730996706716\n",
      "CorrCoef of item_id is -0.005967479004912032\n",
      "CorrCoef of item_cnt_month is -0.375059803843774\n",
      "CorrCoef of ID is -0.0005722315434310809\n",
      "CorrCoef of city_code is 0.03497691079800548\n",
      "CorrCoef of item_category_id is 0.01364866993602766\n",
      "CorrCoef of type_code is -0.07103573027706936\n",
      "CorrCoef of subtype_code is -0.027666016994273422\n",
      "CorrCoef of item_cnt_month_lag_1 is -0.3759287032567221\n",
      "CorrCoef of item_cnt_month_lag_2 is -0.37627824172701757\n",
      "CorrCoef of item_cnt_month_lag_3 is -0.37583043298718244\n"
     ]
    }
   ],
   "source": [
    "#FEATURE ENGINEERING [DO NOT RUN]\n",
    "#SELECTING VARIABLES [1st Level]\n",
    "from itertools import combinations\n",
    "for i in main_combined.columns:\n",
    "    mean = main_combined.groupby([i]).agg({'item_cnt_month': ['mean']})\n",
    "    mean.columns = ['avg_item_cnt']\n",
    "    mean.reset_index(inplace=True)\n",
    "    print(\"CorrCoef of {} is {}\".format(i,mean['avg_item_cnt'].corr(main_combined['item_cnt_month'])))"
   ]
  },
  {
   "cell_type": "markdown",
   "metadata": {},
   "source": [
    "Correlation of item_cnt_month mean with feature pairs:"
   ]
  },
  {
   "cell_type": "code",
   "execution_count": 25,
   "metadata": {},
   "outputs": [
    {
     "name": "stdout",
     "output_type": "stream",
     "text": [
      "CorrCoef of date_block_num and shop_id is 0.006675314799036736\n",
      "CorrCoef of date_block_num and item_id is 0.009519247460112854\n",
      "CorrCoef of date_block_num and item_cnt_month is 0.00807134414197245\n",
      "CorrCoef of date_block_num and ID is -0.0033941463376048597\n",
      "CorrCoef of date_block_num and city_code is 0.02532686794124232\n",
      "CorrCoef of date_block_num and item_category_id is 0.0066839143002622526\n",
      "CorrCoef of date_block_num and type_code is -0.022673341642333793\n",
      "CorrCoef of date_block_num and subtype_code is 0.019765925363616595\n",
      "CorrCoef of date_block_num and item_cnt_month_lag_1 is -0.01419447249748323\n",
      "CorrCoef of date_block_num and item_cnt_month_lag_2 is -0.006266204140742783\n",
      "CorrCoef of date_block_num and item_cnt_month_lag_3 is 0.0012720640258968628\n",
      "CorrCoef of shop_id and item_id is 0.0016969723207861445\n",
      "CorrCoef of shop_id and item_cnt_month is -0.009902508367535772\n",
      "CorrCoef of shop_id and ID is 0.0033472504854204616\n",
      "CorrCoef of shop_id and city_code is -0.038236993745493816\n",
      "CorrCoef of shop_id and item_category_id is 0.0452624355945622\n",
      "CorrCoef of shop_id and type_code is 0.03217933616814109\n",
      "CorrCoef of shop_id and subtype_code is -0.01744641170819947\n",
      "CorrCoef of shop_id and item_cnt_month_lag_1 is 0.0006873328498976822\n",
      "CorrCoef of shop_id and item_cnt_month_lag_2 is 0.009857896361543574\n",
      "CorrCoef of shop_id and item_cnt_month_lag_3 is 0.0049159115328928985\n",
      "CorrCoef of item_id and item_cnt_month is -0.0004580409290290817\n",
      "CorrCoef of item_id and ID is -0.0008711676329532664\n",
      "CorrCoef of item_id and city_code is -0.004472058640302314\n",
      "CorrCoef of item_id and item_category_id is -0.034179936467631185\n",
      "CorrCoef of item_id and type_code is -0.034179936467631185\n",
      "CorrCoef of item_id and subtype_code is -0.034179936467631185\n",
      "CorrCoef of item_id and item_cnt_month_lag_1 is -0.018420648976792995\n",
      "CorrCoef of item_id and item_cnt_month_lag_2 is 0.004161342357605062\n",
      "CorrCoef of item_id and item_cnt_month_lag_3 is -0.004988335370945991\n",
      "CorrCoef of item_cnt_month and ID is -0.0013538791004548926\n",
      "CorrCoef of item_cnt_month and city_code is -0.1365212241905845\n",
      "CorrCoef of item_cnt_month and item_category_id is -0.0839711631173609\n",
      "CorrCoef of item_cnt_month and type_code is 0.01497073492718089\n",
      "CorrCoef of item_cnt_month and subtype_code is -0.11944566620852103\n",
      "CorrCoef of item_cnt_month and item_cnt_month_lag_1 is -0.09829548604483146\n",
      "CorrCoef of item_cnt_month and item_cnt_month_lag_2 is -0.09829548604483146\n",
      "CorrCoef of item_cnt_month and item_cnt_month_lag_3 is -0.09829548604483146\n",
      "CorrCoef of ID and city_code is -0.0032433676480805177\n",
      "CorrCoef of ID and item_category_id is -0.0018200538386005398\n",
      "CorrCoef of ID and type_code is -0.0014526813171539346\n",
      "CorrCoef of ID and subtype_code is -0.0013832504908496462\n",
      "CorrCoef of ID and item_cnt_month_lag_1 is -0.002688201413781294\n",
      "CorrCoef of ID and item_cnt_month_lag_2 is -0.002704103910716329\n",
      "CorrCoef of ID and item_cnt_month_lag_3 is -0.0027134215636303244\n",
      "CorrCoef of city_code and item_category_id is -0.011784422453147326\n",
      "CorrCoef of city_code and type_code is -0.004391576403135111\n",
      "CorrCoef of city_code and subtype_code is 0.0028636017738740043\n",
      "CorrCoef of city_code and item_cnt_month_lag_1 is -0.01915086580621433\n",
      "CorrCoef of city_code and item_cnt_month_lag_2 is -0.010499585599163894\n",
      "CorrCoef of city_code and item_cnt_month_lag_3 is -0.009350965616832286\n",
      "CorrCoef of item_category_id and type_code is -0.05808623677139237\n",
      "CorrCoef of item_category_id and subtype_code is -0.05808623677139237\n",
      "CorrCoef of item_category_id and item_cnt_month_lag_1 is -0.04631226603856778\n",
      "CorrCoef of item_category_id and item_cnt_month_lag_2 is -0.05305003450865343\n",
      "CorrCoef of item_category_id and item_cnt_month_lag_3 is -0.05978581143313777\n",
      "CorrCoef of type_code and subtype_code is 0.3942125707754291\n",
      "CorrCoef of type_code and item_cnt_month_lag_1 is -0.02971770699666812\n",
      "CorrCoef of type_code and item_cnt_month_lag_2 is -0.02582604482253598\n",
      "CorrCoef of type_code and item_cnt_month_lag_3 is -0.010992711050065405\n",
      "CorrCoef of subtype_code and item_cnt_month_lag_1 is 0.0016663442068369427\n",
      "CorrCoef of subtype_code and item_cnt_month_lag_2 is -0.05410997831270372\n",
      "CorrCoef of subtype_code and item_cnt_month_lag_3 is -0.011426915225017384\n",
      "CorrCoef of item_cnt_month_lag_1 and item_cnt_month_lag_2 is -0.07109943608131679\n",
      "CorrCoef of item_cnt_month_lag_1 and item_cnt_month_lag_3 is -0.06461017589365815\n",
      "CorrCoef of item_cnt_month_lag_2 and item_cnt_month_lag_3 is -0.05646465683490475\n"
     ]
    }
   ],
   "source": [
    "#FEATURE ENGINEERING [DO NOT RUN]\n",
    "#SELECTING VARIABLES [2nd Level]\n",
    "for i in combinations(main_combined.columns,2):\n",
    "    mean = main_combined.groupby([i[0],i[1]]).agg({'item_cnt_month': ['mean']})\n",
    "    mean.columns = ['avg_item_cnt']\n",
    "    mean.reset_index(inplace=True)\n",
    "    print(\"CorrCoef of {} and {} is {}\".format(i[0],i[1],mean['avg_item_cnt'].corr(main_combined['item_cnt_month'])))"
   ]
  },
  {
   "cell_type": "markdown",
   "metadata": {},
   "source": [
    "Correlation of item_cnt_month mean with feature triples:"
   ]
  },
  {
   "cell_type": "code",
   "execution_count": 49,
   "metadata": {},
   "outputs": [
    {
     "name": "stdout",
     "output_type": "stream",
     "text": [
      "CorrCoef of date_block_num , shop_id and item_id is 1.0\n",
      "CorrCoef of date_block_num , shop_id and item_cnt_month is -0.006026582572708788\n",
      "CorrCoef of date_block_num , shop_id and ID is -0.0047535625049314\n",
      "CorrCoef of date_block_num , shop_id and city_code is -0.014389526410167617\n",
      "CorrCoef of date_block_num , shop_id and item_category_id is -0.0043489084378267534\n",
      "CorrCoef of date_block_num , shop_id and type_code is 0.0035318834123218446\n",
      "CorrCoef of date_block_num , shop_id and subtype_code is 0.007698099832121907\n",
      "CorrCoef of date_block_num , shop_id and item_cnt_month_lag_1 is -0.017431394078786366\n",
      "CorrCoef of date_block_num , shop_id and item_cnt_month_lag_2 is -0.003391363077167163\n",
      "CorrCoef of date_block_num , shop_id and item_cnt_month_lag_3 is -0.011925059168126714\n",
      "CorrCoef of date_block_num , item_id and item_cnt_month is 0.0022759015351455315\n",
      "CorrCoef of date_block_num , item_id and ID is 0.015310768643224802\n",
      "CorrCoef of date_block_num , item_id and city_code is -0.0009641590056017149\n",
      "CorrCoef of date_block_num , item_id and item_category_id is 0.015889768583042103\n",
      "CorrCoef of date_block_num , item_id and type_code is 0.015889768583042103\n",
      "CorrCoef of date_block_num , item_id and subtype_code is 0.015889768583042103\n",
      "CorrCoef of date_block_num , item_id and item_cnt_month_lag_1 is 0.0044045427771973004\n",
      "CorrCoef of date_block_num , item_id and item_cnt_month_lag_2 is 0.0008503691700841751\n",
      "CorrCoef of date_block_num , item_id and item_cnt_month_lag_3 is -0.0006989879721987951\n",
      "CorrCoef of date_block_num , item_cnt_month and ID is -0.004849483386743284\n",
      "CorrCoef of date_block_num , item_cnt_month and city_code is 0.00043200057716815993\n",
      "CorrCoef of date_block_num , item_cnt_month and item_category_id is 0.016934790975031023\n",
      "CorrCoef of date_block_num , item_cnt_month and type_code is -0.015752024472607033\n",
      "CorrCoef of date_block_num , item_cnt_month and subtype_code is -0.00991540913286463\n",
      "CorrCoef of date_block_num , item_cnt_month and item_cnt_month_lag_1 is -0.007039611371821634\n",
      "CorrCoef of date_block_num , item_cnt_month and item_cnt_month_lag_2 is -0.011185000469158124\n",
      "CorrCoef of date_block_num , item_cnt_month and item_cnt_month_lag_3 is 0.003193512115695507\n",
      "CorrCoef of date_block_num , ID and city_code is -0.00527503469633591\n",
      "CorrCoef of date_block_num , ID and item_category_id is 0.0027341117606782665\n",
      "CorrCoef of date_block_num , ID and type_code is -0.0018324583291633196\n",
      "CorrCoef of date_block_num , ID and subtype_code is 0.0017438878524374843\n",
      "CorrCoef of date_block_num , ID and item_cnt_month_lag_1 is -0.004759563693468117\n",
      "CorrCoef of date_block_num , ID and item_cnt_month_lag_2 is -0.004302109165879577\n",
      "CorrCoef of date_block_num , ID and item_cnt_month_lag_3 is -0.006178927672469469\n",
      "CorrCoef of date_block_num , city_code and item_category_id is 0.006783014078976395\n",
      "CorrCoef of date_block_num , city_code and type_code is -0.004823655695072693\n",
      "CorrCoef of date_block_num , city_code and subtype_code is 0.0013449505251581875\n",
      "CorrCoef of date_block_num , city_code and item_cnt_month_lag_1 is -0.004257243880399547\n",
      "CorrCoef of date_block_num , city_code and item_cnt_month_lag_2 is -0.004029711444167371\n",
      "CorrCoef of date_block_num , city_code and item_cnt_month_lag_3 is -0.00218701696562869\n",
      "CorrCoef of date_block_num , item_category_id and type_code is 0.0773536495403689\n",
      "CorrCoef of date_block_num , item_category_id and subtype_code is 0.0773536495403689\n",
      "CorrCoef of date_block_num , item_category_id and item_cnt_month_lag_1 is -0.008272204471956077\n",
      "CorrCoef of date_block_num , item_category_id and item_cnt_month_lag_2 is -0.016076549144798242\n",
      "CorrCoef of date_block_num , item_category_id and item_cnt_month_lag_3 is -0.01915120036685805\n",
      "CorrCoef of date_block_num , type_code and subtype_code is -0.010113993040128453\n",
      "CorrCoef of date_block_num , type_code and item_cnt_month_lag_1 is -0.006622909447319482\n",
      "CorrCoef of date_block_num , type_code and item_cnt_month_lag_2 is 0.01909917643574954\n",
      "CorrCoef of date_block_num , type_code and item_cnt_month_lag_3 is 0.005165452455517107\n",
      "CorrCoef of date_block_num , subtype_code and item_cnt_month_lag_1 is -0.011110630304269675\n",
      "CorrCoef of date_block_num , subtype_code and item_cnt_month_lag_2 is -0.00772719369375767\n",
      "CorrCoef of date_block_num , subtype_code and item_cnt_month_lag_3 is -0.005871026988017899\n",
      "CorrCoef of date_block_num , item_cnt_month_lag_1 and item_cnt_month_lag_2 is -0.008652889223123711\n",
      "CorrCoef of date_block_num , item_cnt_month_lag_1 and item_cnt_month_lag_3 is -0.0020170233123354784\n",
      "CorrCoef of date_block_num , item_cnt_month_lag_2 and item_cnt_month_lag_3 is -0.009687221327261424\n",
      "CorrCoef of shop_id , item_id and item_cnt_month is 0.002583243276797693\n",
      "CorrCoef of shop_id , item_id and ID is 0.0005668955948044615\n",
      "CorrCoef of shop_id , item_id and city_code is 0.002232560974260986\n",
      "CorrCoef of shop_id , item_id and item_category_id is 0.002232560974260986\n",
      "CorrCoef of shop_id , item_id and type_code is 0.002232560974260986\n",
      "CorrCoef of shop_id , item_id and subtype_code is 0.002232560974260986\n",
      "CorrCoef of shop_id , item_id and item_cnt_month_lag_1 is 0.00253138819444819\n",
      "CorrCoef of shop_id , item_id and item_cnt_month_lag_2 is 0.0010431131289239258\n",
      "CorrCoef of shop_id , item_id and item_cnt_month_lag_3 is -0.0015943252949880706\n",
      "CorrCoef of shop_id , item_cnt_month and ID is -0.0015124932001337728\n",
      "CorrCoef of shop_id , item_cnt_month and city_code is -0.03531029775406244\n",
      "CorrCoef of shop_id , item_cnt_month and item_category_id is -0.015998825937962268\n",
      "CorrCoef of shop_id , item_cnt_month and type_code is 0.00040438251672487616\n",
      "CorrCoef of shop_id , item_cnt_month and subtype_code is -0.01146564636657609\n",
      "CorrCoef of shop_id , item_cnt_month and item_cnt_month_lag_1 is -0.006709652686649778\n",
      "CorrCoef of shop_id , item_cnt_month and item_cnt_month_lag_2 is -0.003648957309467411\n",
      "CorrCoef of shop_id , item_cnt_month and item_cnt_month_lag_3 is 0.0019707442278563453\n",
      "CorrCoef of shop_id , ID and city_code is -0.000506622874712462\n",
      "CorrCoef of shop_id , ID and item_category_id is -0.0010607082346318392\n",
      "CorrCoef of shop_id , ID and type_code is -0.00027758238799348154\n",
      "CorrCoef of shop_id , ID and subtype_code is 2.6837349079697166e-05\n",
      "CorrCoef of shop_id , ID and item_cnt_month_lag_1 is -0.0034056616774156227\n",
      "CorrCoef of shop_id , ID and item_cnt_month_lag_2 is -0.0033777139030466345\n",
      "CorrCoef of shop_id , ID and item_cnt_month_lag_3 is -0.0038301629829303966\n",
      "CorrCoef of shop_id , city_code and item_category_id is -0.027761861968777165\n",
      "CorrCoef of shop_id , city_code and type_code is 0.031860672905181034\n",
      "CorrCoef of shop_id , city_code and subtype_code is -0.01366601685639327\n",
      "CorrCoef of shop_id , city_code and item_cnt_month_lag_1 is 0.019027036763921805\n",
      "CorrCoef of shop_id , city_code and item_cnt_month_lag_2 is -0.010941586311278296\n",
      "CorrCoef of shop_id , city_code and item_cnt_month_lag_3 is 0.0039094772092978115\n",
      "CorrCoef of shop_id , item_category_id and type_code is -0.027761861968777165\n",
      "CorrCoef of shop_id , item_category_id and subtype_code is -0.027761861968777165\n",
      "CorrCoef of shop_id , item_category_id and item_cnt_month_lag_1 is 0.027337994684259428\n",
      "CorrCoef of shop_id , item_category_id and item_cnt_month_lag_2 is 0.0028327984143785723\n",
      "CorrCoef of shop_id , item_category_id and item_cnt_month_lag_3 is 0.01738605134495752\n",
      "CorrCoef of shop_id , type_code and subtype_code is 0.026782585743448137\n",
      "CorrCoef of shop_id , type_code and item_cnt_month_lag_1 is -0.0011194683706439615\n",
      "CorrCoef of shop_id , type_code and item_cnt_month_lag_2 is -0.008741790623172055\n",
      "CorrCoef of shop_id , type_code and item_cnt_month_lag_3 is 0.011698840395150257\n",
      "CorrCoef of shop_id , subtype_code and item_cnt_month_lag_1 is 0.0009079835905189691\n",
      "CorrCoef of shop_id , subtype_code and item_cnt_month_lag_2 is -0.005396237441549204\n",
      "CorrCoef of shop_id , subtype_code and item_cnt_month_lag_3 is 0.00441377548470146\n",
      "CorrCoef of shop_id , item_cnt_month_lag_1 and item_cnt_month_lag_2 is -0.013466713953751302\n",
      "CorrCoef of shop_id , item_cnt_month_lag_1 and item_cnt_month_lag_3 is -0.011442441878587428\n",
      "CorrCoef of shop_id , item_cnt_month_lag_2 and item_cnt_month_lag_3 is -0.00463483655592675\n",
      "CorrCoef of item_id , item_cnt_month and ID is 0.0026861760303371982\n"
     ]
    },
    {
     "name": "stdout",
     "output_type": "stream",
     "text": [
      "CorrCoef of item_id , item_cnt_month and city_code is 0.002885555902625853\n",
      "CorrCoef of item_id , item_cnt_month and item_category_id is -0.013462315955478036\n",
      "CorrCoef of item_id , item_cnt_month and type_code is -0.013462315955478036\n",
      "CorrCoef of item_id , item_cnt_month and subtype_code is -0.013462315955478036\n",
      "CorrCoef of item_id , item_cnt_month and item_cnt_month_lag_1 is -0.0029257827157587253\n",
      "CorrCoef of item_id , item_cnt_month and item_cnt_month_lag_2 is -0.01229640765277656\n",
      "CorrCoef of item_id , item_cnt_month and item_cnt_month_lag_3 is 0.004750620572776558\n",
      "CorrCoef of item_id , ID and city_code is -0.0005342732831800403\n",
      "CorrCoef of item_id , ID and item_category_id is -0.002905082890759696\n",
      "CorrCoef of item_id , ID and type_code is -0.002905082890759696\n",
      "CorrCoef of item_id , ID and subtype_code is -0.002905082890759696\n",
      "CorrCoef of item_id , ID and item_cnt_month_lag_1 is -0.0046472152752636145\n",
      "CorrCoef of item_id , ID and item_cnt_month_lag_2 is -0.003328504911380423\n",
      "CorrCoef of item_id , ID and item_cnt_month_lag_3 is -0.00018214346048741673\n",
      "CorrCoef of item_id , city_code and item_category_id is -0.0011230303603287453\n",
      "CorrCoef of item_id , city_code and type_code is -0.0011230303603287453\n",
      "CorrCoef of item_id , city_code and subtype_code is -0.0011230303603287453\n",
      "CorrCoef of item_id , city_code and item_cnt_month_lag_1 is -0.002225025279543455\n",
      "CorrCoef of item_id , city_code and item_cnt_month_lag_2 is 0.001212532035247674\n",
      "CorrCoef of item_id , city_code and item_cnt_month_lag_3 is 0.003568115835579866\n",
      "CorrCoef of item_id , item_category_id and type_code is -0.005967479004912032\n",
      "CorrCoef of item_id , item_category_id and subtype_code is -0.005967479004912032\n",
      "CorrCoef of item_id , item_category_id and item_cnt_month_lag_1 is -0.0046470435242069565\n",
      "CorrCoef of item_id , item_category_id and item_cnt_month_lag_2 is 0.003642238903862124\n",
      "CorrCoef of item_id , item_category_id and item_cnt_month_lag_3 is -0.0015443666542984832\n",
      "CorrCoef of item_id , type_code and subtype_code is -0.005967479004912032\n",
      "CorrCoef of item_id , type_code and item_cnt_month_lag_1 is -0.0046470435242069565\n",
      "CorrCoef of item_id , type_code and item_cnt_month_lag_2 is 0.003642238903862124\n",
      "CorrCoef of item_id , type_code and item_cnt_month_lag_3 is -0.0015443666542984832\n",
      "CorrCoef of item_id , subtype_code and item_cnt_month_lag_1 is -0.0046470435242069565\n",
      "CorrCoef of item_id , subtype_code and item_cnt_month_lag_2 is 0.003642238903862124\n",
      "CorrCoef of item_id , subtype_code and item_cnt_month_lag_3 is -0.0015443666542984832\n",
      "CorrCoef of item_id , item_cnt_month_lag_1 and item_cnt_month_lag_2 is -0.012984997228873805\n",
      "CorrCoef of item_id , item_cnt_month_lag_1 and item_cnt_month_lag_3 is -0.003615925301790726\n",
      "CorrCoef of item_id , item_cnt_month_lag_2 and item_cnt_month_lag_3 is -0.012711316876677517\n",
      "CorrCoef of item_cnt_month , ID and city_code is -0.007888665540969845\n",
      "CorrCoef of item_cnt_month , ID and item_category_id is -0.008671891228121544\n",
      "CorrCoef of item_cnt_month , ID and type_code is -0.005583843745286486\n",
      "CorrCoef of item_cnt_month , ID and subtype_code is -0.009362895647520644\n",
      "CorrCoef of item_cnt_month , ID and item_cnt_month_lag_1 is -0.006328513407432066\n",
      "CorrCoef of item_cnt_month , ID and item_cnt_month_lag_2 is -0.006328513407432066\n",
      "CorrCoef of item_cnt_month , ID and item_cnt_month_lag_3 is -0.006328513407432066\n",
      "CorrCoef of item_cnt_month , city_code and item_category_id is 0.052093750337503825\n",
      "CorrCoef of item_cnt_month , city_code and type_code is -0.07634463050987401\n",
      "CorrCoef of item_cnt_month , city_code and subtype_code is -0.05550299501546702\n",
      "CorrCoef of item_cnt_month , city_code and item_cnt_month_lag_1 is -0.03534354034294023\n",
      "CorrCoef of item_cnt_month , city_code and item_cnt_month_lag_2 is -0.032493053634684486\n",
      "CorrCoef of item_cnt_month , city_code and item_cnt_month_lag_3 is -0.05398151989632019\n",
      "CorrCoef of item_cnt_month , item_category_id and type_code is 0.07492890956938045\n",
      "CorrCoef of item_cnt_month , item_category_id and subtype_code is 0.07492890956938045\n",
      "CorrCoef of item_cnt_month , item_category_id and item_cnt_month_lag_1 is -0.060012084114053114\n",
      "CorrCoef of item_cnt_month , item_category_id and item_cnt_month_lag_2 is -0.05621747795894046\n",
      "CorrCoef of item_cnt_month , item_category_id and item_cnt_month_lag_3 is -0.057901676848029375\n",
      "CorrCoef of item_cnt_month , type_code and subtype_code is 0.07886648360550584\n",
      "CorrCoef of item_cnt_month , type_code and item_cnt_month_lag_1 is -0.08320017467185395\n",
      "CorrCoef of item_cnt_month , type_code and item_cnt_month_lag_2 is -0.0824836472195116\n",
      "CorrCoef of item_cnt_month , type_code and item_cnt_month_lag_3 is -0.08043725194811904\n",
      "CorrCoef of item_cnt_month , subtype_code and item_cnt_month_lag_1 is -0.051277685140552295\n",
      "CorrCoef of item_cnt_month , subtype_code and item_cnt_month_lag_2 is -0.0356874319077851\n",
      "CorrCoef of item_cnt_month , subtype_code and item_cnt_month_lag_3 is -0.021616559182396963\n",
      "CorrCoef of item_cnt_month , item_cnt_month_lag_1 and item_cnt_month_lag_2 is -0.07767631102736078\n",
      "CorrCoef of item_cnt_month , item_cnt_month_lag_1 and item_cnt_month_lag_3 is -0.08246343659560854\n",
      "CorrCoef of item_cnt_month , item_cnt_month_lag_2 and item_cnt_month_lag_3 is -0.08550246196914721\n",
      "CorrCoef of ID , city_code and item_category_id is -0.003674317595616794\n",
      "CorrCoef of ID , city_code and type_code is -0.0015035012635376134\n",
      "CorrCoef of ID , city_code and subtype_code is -0.0016141191746423945\n",
      "CorrCoef of ID , city_code and item_cnt_month_lag_1 is -0.00578609738849956\n",
      "CorrCoef of ID , city_code and item_cnt_month_lag_2 is -0.005730506213730015\n",
      "CorrCoef of ID , city_code and item_cnt_month_lag_3 is -0.005737109359222496\n",
      "CorrCoef of ID , item_category_id and type_code is -0.0017788278086497027\n",
      "CorrCoef of ID , item_category_id and subtype_code is -0.0017788278086497027\n",
      "CorrCoef of ID , item_category_id and item_cnt_month_lag_1 is -0.0029375398002087294\n",
      "CorrCoef of ID , item_category_id and item_cnt_month_lag_2 is -0.002364369951129517\n",
      "CorrCoef of ID , item_category_id and item_cnt_month_lag_3 is -0.0027864642127570075\n",
      "CorrCoef of ID , type_code and subtype_code is -0.001973537596265041\n",
      "CorrCoef of ID , type_code and item_cnt_month_lag_1 is -0.005098372963802072\n",
      "CorrCoef of ID , type_code and item_cnt_month_lag_2 is -0.004299657607259269\n",
      "CorrCoef of ID , type_code and item_cnt_month_lag_3 is -0.004383839074099527\n",
      "CorrCoef of ID , subtype_code and item_cnt_month_lag_1 is -0.002099656061957486\n",
      "CorrCoef of ID , subtype_code and item_cnt_month_lag_2 is -0.0003727952161531729\n",
      "CorrCoef of ID , subtype_code and item_cnt_month_lag_3 is 0.0012808402153830919\n",
      "CorrCoef of ID , item_cnt_month_lag_1 and item_cnt_month_lag_2 is -0.00416349279501198\n",
      "CorrCoef of ID , item_cnt_month_lag_1 and item_cnt_month_lag_3 is -0.004094789244664449\n",
      "CorrCoef of ID , item_cnt_month_lag_2 and item_cnt_month_lag_3 is -0.004105181900149689\n",
      "CorrCoef of city_code , item_category_id and type_code is -0.010200502011978174\n",
      "CorrCoef of city_code , item_category_id and subtype_code is -0.010200502011978174\n",
      "CorrCoef of city_code , item_category_id and item_cnt_month_lag_1 is 0.0021709757254459302\n",
      "CorrCoef of city_code , item_category_id and item_cnt_month_lag_2 is 0.0017237550776519287\n",
      "CorrCoef of city_code , item_category_id and item_cnt_month_lag_3 is -0.00037712988210276846\n",
      "CorrCoef of city_code , type_code and subtype_code is -0.011911082404782676\n",
      "CorrCoef of city_code , type_code and item_cnt_month_lag_1 is -0.006129517153959562\n",
      "CorrCoef of city_code , type_code and item_cnt_month_lag_2 is -0.0029690076617914533\n",
      "CorrCoef of city_code , type_code and item_cnt_month_lag_3 is 0.007344311177399015\n",
      "CorrCoef of city_code , subtype_code and item_cnt_month_lag_1 is -0.005157421148127117\n",
      "CorrCoef of city_code , subtype_code and item_cnt_month_lag_2 is -0.008996021258571959\n",
      "CorrCoef of city_code , subtype_code and item_cnt_month_lag_3 is -0.016762508520132696\n",
      "CorrCoef of city_code , item_cnt_month_lag_1 and item_cnt_month_lag_2 is -0.02728390324878722\n",
      "CorrCoef of city_code , item_cnt_month_lag_1 and item_cnt_month_lag_3 is -0.0034299117316220133\n",
      "CorrCoef of city_code , item_cnt_month_lag_2 and item_cnt_month_lag_3 is -0.02679471803256072\n"
     ]
    },
    {
     "name": "stdout",
     "output_type": "stream",
     "text": [
      "CorrCoef of item_category_id , type_code and subtype_code is 0.01364866993602766\n",
      "CorrCoef of item_category_id , type_code and item_cnt_month_lag_1 is -0.0015180272180736018\n",
      "CorrCoef of item_category_id , type_code and item_cnt_month_lag_2 is -0.01312175851956482\n",
      "CorrCoef of item_category_id , type_code and item_cnt_month_lag_3 is 0.029344146449648913\n",
      "CorrCoef of item_category_id , subtype_code and item_cnt_month_lag_1 is -0.0015180272180736018\n",
      "CorrCoef of item_category_id , subtype_code and item_cnt_month_lag_2 is -0.01312175851956482\n",
      "CorrCoef of item_category_id , subtype_code and item_cnt_month_lag_3 is 0.029344146449648913\n",
      "CorrCoef of item_category_id , item_cnt_month_lag_1 and item_cnt_month_lag_2 is 0.013419974322680222\n",
      "CorrCoef of item_category_id , item_cnt_month_lag_1 and item_cnt_month_lag_3 is -0.008723612060038235\n",
      "CorrCoef of item_category_id , item_cnt_month_lag_2 and item_cnt_month_lag_3 is 0.005378531619941314\n",
      "CorrCoef of type_code , subtype_code and item_cnt_month_lag_1 is 0.03627530839177203\n",
      "CorrCoef of type_code , subtype_code and item_cnt_month_lag_2 is -0.02164277996230835\n",
      "CorrCoef of type_code , subtype_code and item_cnt_month_lag_3 is 0.03458963562269131\n",
      "CorrCoef of type_code , item_cnt_month_lag_1 and item_cnt_month_lag_2 is 0.008201964745366276\n",
      "CorrCoef of type_code , item_cnt_month_lag_1 and item_cnt_month_lag_3 is -0.012383922067896106\n",
      "CorrCoef of type_code , item_cnt_month_lag_2 and item_cnt_month_lag_3 is -0.014521476516424688\n",
      "CorrCoef of subtype_code , item_cnt_month_lag_1 and item_cnt_month_lag_2 is -0.012928764347457385\n",
      "CorrCoef of subtype_code , item_cnt_month_lag_1 and item_cnt_month_lag_3 is -0.0177358478558946\n",
      "CorrCoef of subtype_code , item_cnt_month_lag_2 and item_cnt_month_lag_3 is -0.00022736236445672996\n",
      "CorrCoef of item_cnt_month_lag_1 , item_cnt_month_lag_2 and item_cnt_month_lag_3 is -0.050592089698880405\n"
     ]
    }
   ],
   "source": [
    "#FEATURE ENGINEERING [DO NOT RUN]\n",
    "#SELECTING VARIABLES [3rd Level]\n",
    "for i in combinations(main_combined.columns,3):\n",
    "    mean = main_combined.groupby([i[0],i[1],i[2]]).agg({'item_cnt_month': ['mean']})\n",
    "    mean.columns = ['avg_item_cnt']\n",
    "    mean.reset_index(inplace=True)\n",
    "    print(\"CorrCoef of {} , {} and {} is {}\".format(i[0],i[1],i[2],mean['avg_item_cnt'].corr(main_combined['item_cnt_month'])))"
   ]
  },
  {
   "cell_type": "markdown",
   "metadata": {},
   "source": [
    "We use mean item_cnt for each month as lag variable:"
   ]
  },
  {
   "cell_type": "code",
   "execution_count": 50,
   "metadata": {},
   "outputs": [],
   "source": [
    "#FEATURE ENGINEERING\n",
    "#We add mean item_cnt for each month as lag variable\n",
    "group = main_combined.groupby(['date_block_num']).agg({'item_cnt_month': ['mean']})\n",
    "group.columns = [ 'date_avg_item_cnt' ]\n",
    "group.reset_index(inplace=True)\n",
    "main_combined = pd.merge(main_combined, group, on=['date_block_num'], how='left')\n",
    "main_combined['date_avg_item_cnt'] = main_combined['date_avg_item_cnt'].astype(np.float16)\n",
    "\n",
    "#Using it as lag feature\n",
    "lag = main_combined[['date_block_num','shop_id','item_id', 'date_avg_item_cnt']].copy()\n",
    "lag.columns = ['date_block_num','shop_id','item_id', 'date_avg_item_lag_1']\n",
    "lag['date_block_num'] += 1\n",
    "main_combined = pd.merge(main_combined, lag, on=['date_block_num','shop_id','item_id'], how='left')\n",
    "\n",
    "#Drop date_avg_item_cnt\n",
    "main_combined.drop(['date_avg_item_cnt'], axis=1, inplace=True)\n",
    "main_combined['date_avg_item_lag_1'].fillna(0, inplace=True)  "
   ]
  },
  {
   "cell_type": "markdown",
   "metadata": {},
   "source": [
    "We use mean item_cnt for each item_id,for each month as lag variable.\n",
    "We use lags 1,2,3,6,12."
   ]
  },
  {
   "cell_type": "code",
   "execution_count": 51,
   "metadata": {},
   "outputs": [],
   "source": [
    "#FEATURE ENGINEERING\n",
    "#We add mean item_cnt for each item_id for each month as lag variable\n",
    "group = main_combined.groupby(['date_block_num','item_id']).agg({'item_cnt_month': ['mean']})\n",
    "group.columns = ['date_item_avg_item_cnt']\n",
    "group.reset_index(inplace=True)\n",
    "main_combined = pd.merge(main_combined, group, on=['date_block_num','item_id'], how='left')\n",
    "main_combined['date_item_avg_item_cnt'] = main_combined['date_item_avg_item_cnt'].astype(np.float16)\n",
    "\n",
    "#Using it as lag feature\n",
    "lag = main_combined[['date_block_num','shop_id','item_id', 'date_item_avg_item_cnt']].copy()\n",
    "lis = [1,2,3,6,12]\n",
    "for i in lis:\n",
    "    lag.columns = ['date_block_num','shop_id','item_id', 'date_item_avg_item_lag_'+str(i)]\n",
    "    lag['date_block_num'] += 1\n",
    "    main_combined = pd.merge(main_combined, lag, on=['date_block_num','shop_id','item_id'], how='left')\n",
    "\n",
    "#Drop date_avg_item_cnt\n",
    "main_combined.drop(['date_item_avg_item_cnt'], axis=1, inplace=True)\n",
    "main_combined['date_item_avg_item_lag_1'].fillna(0, inplace=True) \n",
    "main_combined['date_item_avg_item_lag_2'].fillna(0, inplace=True) \n",
    "main_combined['date_item_avg_item_lag_3'].fillna(0, inplace=True) \n",
    "main_combined['date_item_avg_item_lag_6'].fillna(0, inplace=True) \n",
    "main_combined['date_item_avg_item_lag_12'].fillna(0, inplace=True) "
   ]
  },
  {
   "cell_type": "markdown",
   "metadata": {},
   "source": [
    "We use mean item_cnt for each shop_id,for each month as lag variable.\n",
    "We use lags 1,2,3,6,12."
   ]
  },
  {
   "cell_type": "code",
   "execution_count": 52,
   "metadata": {},
   "outputs": [],
   "source": [
    "#FEATURE ENGINEERING\n",
    "#We add mean item_cnt for each shop_id for each month as lag variable\n",
    "#Seems like many lags have strong correlation with date_shop_avg_item_cnt\n",
    "#We shall use 3 lags for now\n",
    "group = main_combined.groupby(['date_block_num', 'shop_id']).agg({'item_cnt_month': ['mean']})\n",
    "group.columns = ['date_shop_avg_item_cnt']\n",
    "group.reset_index(inplace=True)\n",
    "\n",
    "main_combined = pd.merge(main_combined, group, on=['date_block_num','shop_id'], how='left')\n",
    "\n",
    "#Using it as lag feature\n",
    "lis = [1,2,3,6,12]\n",
    "lag = main_combined[['date_block_num','shop_id','item_id', 'date_shop_avg_item_cnt']].copy()\n",
    "for i in lis:\n",
    "    lag.columns = ['date_block_num','shop_id','item_id', 'date_shop_avg_item_lag_'+str(i)]\n",
    "    lag['date_block_num'] += 1\n",
    "    main_combined = pd.merge(main_combined, lag, on=['date_block_num','shop_id','item_id'], how='left')\n",
    "\n",
    "#Drop date_avg_item_cnt\n",
    "main_combined.drop(['date_shop_avg_item_cnt'], axis=1, inplace=True)\n",
    "main_combined['date_shop_avg_item_lag_1'].fillna(0, inplace=True) \n",
    "main_combined['date_shop_avg_item_lag_2'].fillna(0, inplace=True) \n",
    "main_combined['date_shop_avg_item_lag_3'].fillna(0, inplace=True) \n",
    "main_combined['date_shop_avg_item_lag_6'].fillna(0, inplace=True) \n",
    "main_combined['date_shop_avg_item_lag_12'].fillna(0, inplace=True) "
   ]
  },
  {
   "cell_type": "markdown",
   "metadata": {},
   "source": [
    "We use mean item_cnt for each item_category_id,for each month as lag variable.\n",
    "We use lags 1,2,3,6,12."
   ]
  },
  {
   "cell_type": "code",
   "execution_count": 53,
   "metadata": {},
   "outputs": [],
   "source": [
    "#FEATURE ENGINEERING \n",
    "#We add mean item_cnt for each item_category_id as lag variable\n",
    "group = main_combined.groupby(['date_block_num','item_category_id']).agg({'item_cnt_month': ['mean']})\n",
    "group.columns = ['date_item_category_avg_item_cnt']\n",
    "group.reset_index(inplace=True)\n",
    "\n",
    "main_combined = pd.merge(main_combined, group, on=['date_block_num','item_category_id'], how='left')\n",
    "main_combined['date_item_category_avg_item_cnt'] = main_combined['date_item_category_avg_item_cnt'].astype(np.float16)\n",
    "\n",
    "#Using it as lag feature\n",
    "lis = [1,2,3,6,12]\n",
    "lag = main_combined[['date_block_num','shop_id','item_id','date_item_category_avg_item_cnt']].copy()\n",
    "for i in lis:\n",
    "    lag.columns = ['date_block_num','shop_id','item_id','date_item_category_avg_item_lag_'+str(i)]\n",
    "    lag['date_block_num'] += 1\n",
    "    main_combined = pd.merge(main_combined, lag, on=['date_block_num','shop_id','item_id'], how='left')\n",
    "\n",
    "#Drop date_avg_item_cnt\n",
    "main_combined.drop(['date_item_category_avg_item_cnt'], axis=1, inplace=True)\n",
    "main_combined['date_item_category_avg_item_lag_1'].fillna(0, inplace=True) \n",
    "main_combined['date_item_category_avg_item_lag_2'].fillna(0, inplace=True) \n",
    "main_combined['date_item_category_avg_item_lag_3'].fillna(0, inplace=True) \n",
    "main_combined['date_item_category_avg_item_lag_6'].fillna(0, inplace=True) \n",
    "main_combined['date_item_category_avg_item_lag_12'].fillna(0, inplace=True) "
   ]
  },
  {
   "cell_type": "markdown",
   "metadata": {},
   "source": [
    "We use mean item_cnt for each city, for each month as lag variable:"
   ]
  },
  {
   "cell_type": "code",
   "execution_count": 54,
   "metadata": {},
   "outputs": [],
   "source": [
    "#FEATURE ENGINEERING \n",
    "#We add mean item_cnt for each city_code for each month\n",
    "group = main_combined.groupby(['date_block_num', 'city_code']).agg({'item_cnt_month': ['mean']})\n",
    "group.columns = [ 'date_city_avg_item_cnt' ]\n",
    "group.reset_index(inplace=True)\n",
    "\n",
    "main_combined = pd.merge(main_combined, group, on=['date_block_num', 'city_code'], how='left')\n",
    "\n",
    "#Using it as lag feature\n",
    "lag = main_combined[['date_block_num','shop_id','item_id','date_city_avg_item_cnt']].copy()\n",
    "for i in range(1,2):\n",
    "    lag.columns = ['date_block_num','shop_id','item_id','date_city_avg_item_lag_'+str(i)]\n",
    "    lag['date_block_num'] += 1\n",
    "    main_combined = pd.merge(main_combined, lag, on=['date_block_num','shop_id','item_id'], how='left')\n",
    "\n",
    "#Drop date_avg_item_cnt\n",
    "main_combined.drop(['date_city_avg_item_cnt'], axis=1, inplace=True)\n",
    "main_combined['date_city_avg_item_lag_1'].fillna(0, inplace=True) "
   ]
  },
  {
   "cell_type": "markdown",
   "metadata": {},
   "source": [
    "We use mean item_cnt for each type, for each month as lag variable:"
   ]
  },
  {
   "cell_type": "code",
   "execution_count": 55,
   "metadata": {},
   "outputs": [],
   "source": [
    "#FEATURE ENGINEERING \n",
    "#We add mean item_cnt for each type_code\n",
    "group = main_combined.groupby(['date_block_num', 'type_code']).agg({'item_cnt_month': ['mean']})\n",
    "group.columns = [ 'date_type_avg_item_cnt' ]\n",
    "group.reset_index(inplace=True)\n",
    "\n",
    "main_combined = pd.merge(main_combined, group, on=['date_block_num', 'type_code'], how='left')\n",
    "\n",
    "#Using it as lag feature\n",
    "lag = main_combined[['date_block_num','shop_id','item_id','date_type_avg_item_cnt']].copy()\n",
    "for i in range(1,2):\n",
    "    lag.columns = ['date_block_num','shop_id','item_id','date_type_avg_item_lag_'+str(i)]\n",
    "    lag['date_block_num'] += 1\n",
    "    main_combined = pd.merge(main_combined, lag, on=['date_block_num','shop_id','item_id'], how='left')\n",
    "\n",
    "#Drop date_avg_item_cnt\n",
    "main_combined.drop(['date_type_avg_item_cnt'], axis=1, inplace=True)\n",
    "main_combined['date_type_avg_item_lag_1'].fillna(0, inplace=True) "
   ]
  },
  {
   "cell_type": "markdown",
   "metadata": {},
   "source": [
    "We use mean item_cnt for each subtype, for each month as lag variable:"
   ]
  },
  {
   "cell_type": "code",
   "execution_count": 56,
   "metadata": {},
   "outputs": [],
   "source": [
    "#FEATURE ENGINEERING \n",
    "#We add mean item_cnt for each subtype_code\n",
    "group = main_combined.groupby(['date_block_num', 'subtype_code']).agg({'item_cnt_month': ['mean']})\n",
    "group.columns = ['date_subtype_avg_item_cnt']\n",
    "group.reset_index(inplace=True)\n",
    "\n",
    "main_combined = pd.merge(main_combined, group, on=['date_block_num', 'subtype_code'], how='left')\n",
    "\n",
    "#Using it as lag feature\n",
    "lag = main_combined[['date_block_num','shop_id','item_id','date_subtype_avg_item_cnt']].copy()\n",
    "for i in range(1,2):\n",
    "    lag.columns = ['date_block_num','shop_id','item_id','date_subtype_avg_item_lag_'+str(i)]\n",
    "    lag['date_block_num'] += 1\n",
    "    main_combined = pd.merge(main_combined, lag, on=['date_block_num','shop_id','item_id'], how='left')\n",
    "\n",
    "#Drop date_avg_item_cnt\n",
    "main_combined.drop(['date_subtype_avg_item_cnt'], axis=1, inplace=True)\n",
    "main_combined['date_subtype_avg_item_lag_1'].fillna(0, inplace=True) "
   ]
  },
  {
   "cell_type": "markdown",
   "metadata": {},
   "source": [
    "We use mean item_cnt for each category_id, for each shop_id, for each month as lag variable:"
   ]
  },
  {
   "cell_type": "code",
   "execution_count": 57,
   "metadata": {},
   "outputs": [],
   "source": [
    "#FEATURE ENGINEERING\n",
    "#We add mean item_cnt for each item_category_id as lag variable\n",
    "group = main_combined.groupby(['date_block_num', 'shop_id', 'item_category_id']).agg({'item_cnt_month': ['mean']})\n",
    "group.columns = ['date_shop_cat_avg_item_cnt']\n",
    "group.reset_index(inplace=True)\n",
    "\n",
    "main_combined = pd.merge(main_combined, group, on=['date_block_num','shop_id', 'item_category_id'], how='left')\n",
    "\n",
    "#Using it as lag feature\n",
    "lag = main_combined[['date_block_num','shop_id','item_id','date_shop_cat_avg_item_cnt']].copy()\n",
    "for i in range(1,2):\n",
    "    lag.columns = ['date_block_num','shop_id','item_id','date_shop_cat_avg_item_lag_'+str(i)]\n",
    "    lag['date_block_num'] += 1\n",
    "    main_combined = pd.merge(main_combined, lag, on=['date_block_num','shop_id','item_id'], how='left')\n",
    "\n",
    "#Drop date_avg_item_cnt\n",
    "main_combined.drop(['date_shop_cat_avg_item_cnt'], axis=1, inplace=True)\n",
    "main_combined['date_shop_cat_avg_item_lag_1'].fillna(0, inplace=True) "
   ]
  },
  {
   "cell_type": "markdown",
   "metadata": {},
   "source": [
    "We use mean item_cnt for each type, for each shop_id, for each month as lag variable:"
   ]
  },
  {
   "cell_type": "code",
   "execution_count": 58,
   "metadata": {},
   "outputs": [],
   "source": [
    "#FEATURE ENGINEERING \n",
    "#We add mean item_cnt for each shop_id for each type_code\n",
    "group = main_combined.groupby(['date_block_num', 'shop_id', 'type_code']).agg({'item_cnt_month': ['mean']})\n",
    "group.columns = ['date_shop_type_avg_item_cnt']\n",
    "group.reset_index(inplace=True)\n",
    "\n",
    "main_combined = pd.merge(main_combined, group, on=['date_block_num','shop_id', 'type_code'], how='left')\n",
    "\n",
    "#Using it as lag feature\n",
    "lag = main_combined[['date_block_num','shop_id','item_id','date_shop_type_avg_item_cnt']].copy()\n",
    "for i in range(1,2):\n",
    "    lag.columns = ['date_block_num','shop_id','item_id','date_shop_type_avg_item_lag_'+str(i)]\n",
    "    lag['date_block_num'] += 1\n",
    "    main_combined = pd.merge(main_combined, lag, on=['date_block_num','shop_id','item_id'], how='left')\n",
    "\n",
    "#Drop date_avg_item_cnt\n",
    "main_combined.drop(['date_shop_type_avg_item_cnt'], axis=1, inplace=True)\n",
    "main_combined['date_shop_type_avg_item_lag_1'].fillna(0, inplace=True)  "
   ]
  },
  {
   "cell_type": "markdown",
   "metadata": {},
   "source": [
    "We use mean item_cnt for each subtype, for each shop_id, for each month as lag variable:"
   ]
  },
  {
   "cell_type": "code",
   "execution_count": 59,
   "metadata": {},
   "outputs": [],
   "source": [
    "#FEATURE ENGINEERING \n",
    "#We add mean item_cnt for each shop_id for each subtype_code for each month\n",
    "group = main_combined.groupby(['date_block_num', 'shop_id', 'subtype_code']).agg({'item_cnt_month': ['mean']})\n",
    "group.columns = ['date_shop_subtype_avg_item_cnt']\n",
    "group.reset_index(inplace=True)\n",
    "\n",
    "main_combined = pd.merge(main_combined, group, on=['date_block_num', 'shop_id', 'subtype_code'], how='left')\n",
    "\n",
    "#Using it as lag feature\n",
    "lag = main_combined[['date_block_num','shop_id','item_id','date_shop_subtype_avg_item_cnt']].copy()\n",
    "for i in range(1,2):\n",
    "    lag.columns = ['date_block_num','shop_id','item_id','date_shop_subtype_avg_item_lag_'+str(i)]\n",
    "    lag['date_block_num'] += 1\n",
    "    main_combined = pd.merge(main_combined, lag, on=['date_block_num','shop_id','item_id'], how='left')\n",
    "\n",
    "#Drop date_avg_item_cnt\n",
    "main_combined.drop(['date_shop_subtype_avg_item_cnt'], axis=1, inplace=True)\n",
    "main_combined['date_shop_subtype_avg_item_lag_1'].fillna(0, inplace=True) "
   ]
  },
  {
   "cell_type": "markdown",
   "metadata": {},
   "source": [
    "We use mean item_cnt for each item_id, for each city, for each month as lag variable:"
   ]
  },
  {
   "cell_type": "code",
   "execution_count": 60,
   "metadata": {},
   "outputs": [],
   "source": [
    "#FEATURE ENGINEERING \n",
    "#We add mean item_cnt for each item_id for each city_code\n",
    "group = main_combined.groupby(['date_block_num', 'item_id', 'city_code']).agg({'item_cnt_month': ['mean']})\n",
    "group.columns = [ 'date_item_city_avg_item_cnt' ]\n",
    "group.reset_index(inplace=True)\n",
    "\n",
    "main_combined = pd.merge(main_combined, group, on=['date_block_num', 'item_id','city_code'], how='left')\n",
    "\n",
    "#Using it as lag feature\n",
    "lag = main_combined[['date_block_num','shop_id','item_id','date_item_city_avg_item_cnt']].copy()\n",
    "for i in range(1,2):\n",
    "    lag.columns = ['date_block_num','shop_id','item_id','date_item_city_avg_item_lag_'+str(i)]\n",
    "    lag['date_block_num'] += 1\n",
    "    main_combined = pd.merge(main_combined, lag, on=['date_block_num','shop_id','item_id'], how='left')\n",
    "\n",
    "#Drop date_avg_item_cnt\n",
    "main_combined.drop(['date_item_city_avg_item_cnt'], axis=1, inplace=True)\n",
    "main_combined['date_item_city_avg_item_lag_1'].fillna(0, inplace=True) "
   ]
  },
  {
   "cell_type": "markdown",
   "metadata": {},
   "source": [
    "We create 6 lags & select the latest lag that is not null as trend:"
   ]
  },
  {
   "cell_type": "code",
   "execution_count": 61,
   "metadata": {},
   "outputs": [],
   "source": [
    "#FEATURE ENGINEERING\n",
    "#TRENDS\n",
    "#For each item_id\n",
    "group = leak_train.groupby(['item_id']).agg({'item_price': ['mean']})\n",
    "group.columns = ['item_avg_item_price']\n",
    "group.reset_index(inplace=True)\n",
    "\n",
    "main_combined = pd.merge(main_combined, group, on=['item_id'], how='left')\n",
    "main_combined['item_avg_item_price'] = main_combined['item_avg_item_price'].astype(np.float16)\n",
    "\n",
    "group = leak_train.groupby(['date_block_num','item_id']).agg({'item_price': ['mean']})\n",
    "group.columns = ['date_item_avg_item_price']\n",
    "group.reset_index(inplace=True)\n",
    "\n",
    "#For each month, for each item_id\n",
    "main_combined = pd.merge(main_combined, group, on=['date_block_num','item_id'], how='left')\n",
    "main_combined['date_item_avg_item_price'] = main_combined['date_item_avg_item_price'].astype(np.float16)\n",
    "\n",
    "lags = [1,2,3,4,5,6]\n",
    "for i in range(1,7):\n",
    "    lag.columns = ['date_block_num','shop_id','item_id','date_item_avg_item_price_lag_'+str(i)]\n",
    "    lag['date_block_num'] += 1\n",
    "    main_combined = pd.merge(main_combined, lag, on=['date_block_num','shop_id','item_id'], how='left')\n",
    "\n",
    "for i in lags:\n",
    "    main_combined['delta_price_lag_'+str(i)] = \\\n",
    "        (main_combined['date_item_avg_item_price_lag_'+str(i)] - main_combined['item_avg_item_price']) / main_combined['item_avg_item_price']\n",
    "\n",
    "def select_trend(row):\n",
    "    for i in lags:\n",
    "        if row['delta_price_lag_'+str(i)]:\n",
    "            return row['delta_price_lag_'+str(i)]\n",
    "    return 0\n",
    "    \n",
    "main_combined['delta_price_lag'] = main_combined.apply(select_trend, axis=1)\n",
    "main_combined['delta_price_lag'] = main_combined['delta_price_lag'].astype(np.float16)\n",
    "main_combined['delta_price_lag'].fillna(0, inplace=True)\n",
    "\n",
    "fetures_to_drop = ['item_avg_item_price', 'date_item_avg_item_price']\n",
    "for i in lags:\n",
    "    fetures_to_drop += ['date_item_avg_item_price_lag_'+str(i)]\n",
    "    fetures_to_drop += ['delta_price_lag_'+str(i)]\n",
    "\n",
    "main_combined.drop(fetures_to_drop, axis=1, inplace=True)\n",
    "\n"
   ]
  },
  {
   "cell_type": "markdown",
   "metadata": {},
   "source": [
    "We calculate shop revenue for each month & average shop revenue.\n",
    "We then take the difference divided by average shop revenue and use the result as lag variable:"
   ]
  },
  {
   "cell_type": "code",
   "execution_count": 62,
   "metadata": {},
   "outputs": [],
   "source": [
    "#FEATURE ENGINEERING\n",
    "#TRENDS\n",
    "#For each month, each shop_id's revenue\n",
    "group = leak_train.groupby(['date_block_num','shop_id']).agg({'revenue': ['sum']})\n",
    "group.columns = ['date_shop_revenue']\n",
    "group.reset_index(inplace=True)\n",
    "\n",
    "main_combined = pd.merge(main_combined, group, on=['date_block_num','shop_id'], how='left')\n",
    "main_combined['date_shop_revenue'] = main_combined['date_shop_revenue'].astype(np.float32)\n",
    "\n",
    "#For each shop_id's revenue\n",
    "group = group.groupby(['shop_id']).agg({'date_shop_revenue': ['mean']})\n",
    "group.columns = ['shop_avg_revenue']\n",
    "group.reset_index(inplace=True)\n",
    "\n",
    "main_combined = pd.merge(main_combined, group, on=['shop_id'], how='left')\n",
    "main_combined['shop_avg_revenue'] = main_combined['shop_avg_revenue'].astype(np.float32)\n",
    "\n",
    "main_combined['delta_revenue'] = (main_combined['date_shop_revenue'] - main_combined['shop_avg_revenue']) / main_combined['shop_avg_revenue']\n",
    "main_combined['delta_revenue'] = main_combined['delta_revenue'].astype(np.float16)\n",
    "\n",
    "lag.columns = ['date_block_num','shop_id','item_id','delta_revenue_lag_1']\n",
    "lag['date_block_num'] += 1\n",
    "main_combined = pd.merge(main_combined, lag, on=['date_block_num','shop_id','item_id'], how='left')\n",
    "\n",
    "main_combined.drop(['date_shop_revenue','shop_avg_revenue','delta_revenue'], axis=1, inplace=True)"
   ]
  },
  {
   "cell_type": "code",
   "execution_count": 63,
   "metadata": {},
   "outputs": [],
   "source": [
    "main_combined['delta_revenue_lag_1'].fillna(0, inplace=True) "
   ]
  },
  {
   "cell_type": "markdown",
   "metadata": {},
   "source": [
    "We add months & days as variables:"
   ]
  },
  {
   "cell_type": "code",
   "execution_count": 64,
   "metadata": {},
   "outputs": [],
   "source": [
    "#FEATURE ENGINEERING\n",
    "#SPECIAL\n",
    "#Add months & no. of days for each month\n",
    "main_combined['month'] = main_combined['date_block_num'] % 12\n",
    "days = pd.Series([31,28,31,30,31,30,31,31,30,31,30,31])\n",
    "main_combined['days'] = main_combined['month'].map(days).astype(np.int8)"
   ]
  },
  {
   "cell_type": "markdown",
   "metadata": {},
   "source": [
    "We create a variable that counts the months since the last sale for each shop/item pair and for item only:"
   ]
  },
  {
   "cell_type": "code",
   "execution_count": 65,
   "metadata": {},
   "outputs": [],
   "source": [
    "#FEATURE ENGINEERING\n",
    "#SPECIAL\n",
    "cache = {}\n",
    "main_combined['item_shop_last_sale'] = -1\n",
    "main_combined['item_shop_last_sale'] = main_combined['item_shop_last_sale'].astype(np.int8)\n",
    "for idx, row in main_combined.iterrows():    \n",
    "    key = str(row.item_id)+' '+str(row.shop_id)\n",
    "    if key not in cache:\n",
    "        if row.item_cnt_month!=0:\n",
    "            cache[key] = row.date_block_num\n",
    "    else:\n",
    "        last_date_block_num = cache[key]\n",
    "        main_combined.at[idx, 'item_shop_last_sale'] = row.date_block_num - last_date_block_num\n",
    "        cache[key] = row.date_block_num   "
   ]
  },
  {
   "cell_type": "code",
   "execution_count": 66,
   "metadata": {},
   "outputs": [],
   "source": [
    "#FEATURE ENGINEERING\n",
    "#SPECIAL\n",
    "cache = {}\n",
    "main_combined['item_last_sale'] = -1\n",
    "main_combined['item_last_sale'] = main_combined['item_last_sale'].astype(np.int8)\n",
    "for idx, row in main_combined.iterrows():    \n",
    "    key = row.item_id\n",
    "    if key not in cache:\n",
    "        if row.item_cnt_month!=0:\n",
    "            cache[key] = row.date_block_num\n",
    "    else:\n",
    "        last_date_block_num = cache[key]\n",
    "        if row.date_block_num>last_date_block_num:\n",
    "            main_combined.at[idx, 'item_last_sale'] = row.date_block_num - last_date_block_num\n",
    "            cache[key] = row.date_block_num"
   ]
  },
  {
   "cell_type": "code",
   "execution_count": 67,
   "metadata": {},
   "outputs": [],
   "source": [
    "#FEATURE ENGINEERING\n",
    "#SPECIAL\n",
    "main_combined['item_shop_first_sale'] = main_combined['date_block_num'] - main_combined.groupby(['item_id','shop_id'])['date_block_num'].transform('min')\n",
    "main_combined['item_first_sale'] = main_combined['date_block_num'] - main_combined.groupby('item_id')['date_block_num'].transform('min')"
   ]
  },
  {
   "cell_type": "code",
   "execution_count": 68,
   "metadata": {},
   "outputs": [
    {
     "data": {
      "text/html": [
       "<div>\n",
       "<style scoped>\n",
       "    .dataframe tbody tr th:only-of-type {\n",
       "        vertical-align: middle;\n",
       "    }\n",
       "\n",
       "    .dataframe tbody tr th {\n",
       "        vertical-align: top;\n",
       "    }\n",
       "\n",
       "    .dataframe thead th {\n",
       "        text-align: right;\n",
       "    }\n",
       "</style>\n",
       "<table border=\"1\" class=\"dataframe\">\n",
       "  <thead>\n",
       "    <tr style=\"text-align: right;\">\n",
       "      <th></th>\n",
       "      <th>date_block_num</th>\n",
       "      <th>shop_id</th>\n",
       "      <th>item_id</th>\n",
       "      <th>item_cnt_month</th>\n",
       "      <th>ID</th>\n",
       "      <th>city_code</th>\n",
       "      <th>item_category_id</th>\n",
       "      <th>type_code</th>\n",
       "      <th>subtype_code</th>\n",
       "      <th>item_cnt_month_lag_1</th>\n",
       "      <th>...</th>\n",
       "      <th>date_shop_subtype_avg_item_lag_1</th>\n",
       "      <th>date_item_city_avg_item_lag_1</th>\n",
       "      <th>delta_price_lag</th>\n",
       "      <th>delta_revenue_lag_1</th>\n",
       "      <th>month</th>\n",
       "      <th>days</th>\n",
       "      <th>item_shop_last_sale</th>\n",
       "      <th>item_last_sale</th>\n",
       "      <th>item_shop_first_sale</th>\n",
       "      <th>item_first_sale</th>\n",
       "    </tr>\n",
       "  </thead>\n",
       "  <tbody>\n",
       "    <tr>\n",
       "      <th>0</th>\n",
       "      <td>0</td>\n",
       "      <td>2</td>\n",
       "      <td>19</td>\n",
       "      <td>0.0</td>\n",
       "      <td>0.0</td>\n",
       "      <td>0</td>\n",
       "      <td>40</td>\n",
       "      <td>11</td>\n",
       "      <td>4</td>\n",
       "      <td>0.0</td>\n",
       "      <td>...</td>\n",
       "      <td>0.0</td>\n",
       "      <td>0.0</td>\n",
       "      <td>0.0</td>\n",
       "      <td>0.0</td>\n",
       "      <td>0</td>\n",
       "      <td>31</td>\n",
       "      <td>-1</td>\n",
       "      <td>-1</td>\n",
       "      <td>0</td>\n",
       "      <td>0</td>\n",
       "    </tr>\n",
       "    <tr>\n",
       "      <th>1</th>\n",
       "      <td>0</td>\n",
       "      <td>2</td>\n",
       "      <td>27</td>\n",
       "      <td>1.0</td>\n",
       "      <td>0.0</td>\n",
       "      <td>0</td>\n",
       "      <td>19</td>\n",
       "      <td>5</td>\n",
       "      <td>10</td>\n",
       "      <td>0.0</td>\n",
       "      <td>...</td>\n",
       "      <td>0.0</td>\n",
       "      <td>0.0</td>\n",
       "      <td>0.0</td>\n",
       "      <td>0.0</td>\n",
       "      <td>0</td>\n",
       "      <td>31</td>\n",
       "      <td>-1</td>\n",
       "      <td>-1</td>\n",
       "      <td>0</td>\n",
       "      <td>0</td>\n",
       "    </tr>\n",
       "    <tr>\n",
       "      <th>2</th>\n",
       "      <td>0</td>\n",
       "      <td>2</td>\n",
       "      <td>28</td>\n",
       "      <td>0.0</td>\n",
       "      <td>0.0</td>\n",
       "      <td>0</td>\n",
       "      <td>30</td>\n",
       "      <td>8</td>\n",
       "      <td>55</td>\n",
       "      <td>0.0</td>\n",
       "      <td>...</td>\n",
       "      <td>0.0</td>\n",
       "      <td>0.0</td>\n",
       "      <td>0.0</td>\n",
       "      <td>0.0</td>\n",
       "      <td>0</td>\n",
       "      <td>31</td>\n",
       "      <td>-1</td>\n",
       "      <td>-1</td>\n",
       "      <td>0</td>\n",
       "      <td>0</td>\n",
       "    </tr>\n",
       "    <tr>\n",
       "      <th>3</th>\n",
       "      <td>0</td>\n",
       "      <td>2</td>\n",
       "      <td>29</td>\n",
       "      <td>0.0</td>\n",
       "      <td>0.0</td>\n",
       "      <td>0</td>\n",
       "      <td>23</td>\n",
       "      <td>5</td>\n",
       "      <td>16</td>\n",
       "      <td>0.0</td>\n",
       "      <td>...</td>\n",
       "      <td>0.0</td>\n",
       "      <td>0.0</td>\n",
       "      <td>0.0</td>\n",
       "      <td>0.0</td>\n",
       "      <td>0</td>\n",
       "      <td>31</td>\n",
       "      <td>-1</td>\n",
       "      <td>-1</td>\n",
       "      <td>0</td>\n",
       "      <td>0</td>\n",
       "    </tr>\n",
       "    <tr>\n",
       "      <th>4</th>\n",
       "      <td>0</td>\n",
       "      <td>2</td>\n",
       "      <td>32</td>\n",
       "      <td>0.0</td>\n",
       "      <td>0.0</td>\n",
       "      <td>0</td>\n",
       "      <td>40</td>\n",
       "      <td>11</td>\n",
       "      <td>4</td>\n",
       "      <td>0.0</td>\n",
       "      <td>...</td>\n",
       "      <td>0.0</td>\n",
       "      <td>0.0</td>\n",
       "      <td>0.0</td>\n",
       "      <td>0.0</td>\n",
       "      <td>0</td>\n",
       "      <td>31</td>\n",
       "      <td>-1</td>\n",
       "      <td>-1</td>\n",
       "      <td>0</td>\n",
       "      <td>0</td>\n",
       "    </tr>\n",
       "  </tbody>\n",
       "</table>\n",
       "<p>5 rows × 43 columns</p>\n",
       "</div>"
      ],
      "text/plain": [
       "   date_block_num  shop_id  item_id  item_cnt_month   ID  city_code  \\\n",
       "0               0        2       19             0.0  0.0          0   \n",
       "1               0        2       27             1.0  0.0          0   \n",
       "2               0        2       28             0.0  0.0          0   \n",
       "3               0        2       29             0.0  0.0          0   \n",
       "4               0        2       32             0.0  0.0          0   \n",
       "\n",
       "   item_category_id  type_code  subtype_code  item_cnt_month_lag_1  \\\n",
       "0                40         11             4                   0.0   \n",
       "1                19          5            10                   0.0   \n",
       "2                30          8            55                   0.0   \n",
       "3                23          5            16                   0.0   \n",
       "4                40         11             4                   0.0   \n",
       "\n",
       "        ...         date_shop_subtype_avg_item_lag_1  \\\n",
       "0       ...                                      0.0   \n",
       "1       ...                                      0.0   \n",
       "2       ...                                      0.0   \n",
       "3       ...                                      0.0   \n",
       "4       ...                                      0.0   \n",
       "\n",
       "   date_item_city_avg_item_lag_1  delta_price_lag  delta_revenue_lag_1  month  \\\n",
       "0                            0.0              0.0                  0.0      0   \n",
       "1                            0.0              0.0                  0.0      0   \n",
       "2                            0.0              0.0                  0.0      0   \n",
       "3                            0.0              0.0                  0.0      0   \n",
       "4                            0.0              0.0                  0.0      0   \n",
       "\n",
       "   days  item_shop_last_sale  item_last_sale  item_shop_first_sale  \\\n",
       "0    31                   -1              -1                     0   \n",
       "1    31                   -1              -1                     0   \n",
       "2    31                   -1              -1                     0   \n",
       "3    31                   -1              -1                     0   \n",
       "4    31                   -1              -1                     0   \n",
       "\n",
       "   item_first_sale  \n",
       "0                0  \n",
       "1                0  \n",
       "2                0  \n",
       "3                0  \n",
       "4                0  \n",
       "\n",
       "[5 rows x 43 columns]"
      ]
     },
     "execution_count": 68,
     "metadata": {},
     "output_type": "execute_result"
    }
   ],
   "source": [
    "main_combined.head()"
   ]
  },
  {
   "cell_type": "markdown",
   "metadata": {},
   "source": [
    "Since we used 12 as lag value for some of our engineered features, we need to drop first 12 months:"
   ]
  },
  {
   "cell_type": "code",
   "execution_count": 109,
   "metadata": {},
   "outputs": [],
   "source": [
    "#FINAL PREP\n",
    "main_combined = main_combined[main_combined['date_block_num'] > 11]"
   ]
  },
  {
   "cell_type": "markdown",
   "metadata": {},
   "source": [
    "Taking a look at our final dataset:"
   ]
  },
  {
   "cell_type": "code",
   "execution_count": 110,
   "metadata": {},
   "outputs": [
    {
     "data": {
      "text/plain": [
       "Index(['date_block_num', 'shop_id', 'item_id', 'item_cnt_month', 'ID',\n",
       "       'city_code', 'item_category_id', 'type_code', 'subtype_code',\n",
       "       'item_cnt_month_lag_1', 'item_cnt_month_lag_2', 'item_cnt_month_lag_3',\n",
       "       'date_avg_item_lag_1', 'date_item_avg_item_lag_1',\n",
       "       'date_item_avg_item_lag_2', 'date_item_avg_item_lag_3',\n",
       "       'date_item_avg_item_lag_6', 'date_item_avg_item_lag_12',\n",
       "       'date_shop_avg_item_lag_1', 'date_shop_avg_item_lag_2',\n",
       "       'date_shop_avg_item_lag_3', 'date_shop_avg_item_lag_6',\n",
       "       'date_shop_avg_item_lag_12', 'date_item_category_avg_item_lag_1',\n",
       "       'date_item_category_avg_item_lag_2',\n",
       "       'date_item_category_avg_item_lag_3',\n",
       "       'date_item_category_avg_item_lag_6',\n",
       "       'date_item_category_avg_item_lag_12', 'date_city_avg_item_lag_1',\n",
       "       'date_type_avg_item_lag_1', 'date_subtype_avg_item_lag_1',\n",
       "       'date_shop_cat_avg_item_lag_1', 'date_shop_type_avg_item_lag_1',\n",
       "       'date_shop_subtype_avg_item_lag_1', 'date_item_city_avg_item_lag_1',\n",
       "       'delta_price_lag', 'delta_revenue_lag_1', 'month', 'days',\n",
       "       'item_shop_last_sale', 'item_last_sale', 'item_shop_first_sale',\n",
       "       'item_first_sale'],\n",
       "      dtype='object')"
      ]
     },
     "execution_count": 110,
     "metadata": {},
     "output_type": "execute_result"
    }
   ],
   "source": [
    "main_combined.columns"
   ]
  },
  {
   "cell_type": "code",
   "execution_count": 111,
   "metadata": {},
   "outputs": [
    {
     "name": "stdout",
     "output_type": "stream",
     "text": [
      "<class 'pandas.core.frame.DataFrame'>\n",
      "Int64Index: 6639294 entries, 4488710 to 11128003\n",
      "Data columns (total 43 columns):\n",
      "date_block_num                        int8\n",
      "shop_id                               int8\n",
      "item_id                               int16\n",
      "item_cnt_month                        float16\n",
      "ID                                    float64\n",
      "city_code                             int32\n",
      "item_category_id                      int64\n",
      "type_code                             int32\n",
      "subtype_code                          int32\n",
      "item_cnt_month_lag_1                  float16\n",
      "item_cnt_month_lag_2                  float16\n",
      "item_cnt_month_lag_3                  float16\n",
      "date_avg_item_lag_1                   float16\n",
      "date_item_avg_item_lag_1              float16\n",
      "date_item_avg_item_lag_2              float16\n",
      "date_item_avg_item_lag_3              float16\n",
      "date_item_avg_item_lag_6              float16\n",
      "date_item_avg_item_lag_12             float16\n",
      "date_shop_avg_item_lag_1              float16\n",
      "date_shop_avg_item_lag_2              float16\n",
      "date_shop_avg_item_lag_3              float16\n",
      "date_shop_avg_item_lag_6              float16\n",
      "date_shop_avg_item_lag_12             float16\n",
      "date_item_category_avg_item_lag_1     float16\n",
      "date_item_category_avg_item_lag_2     float16\n",
      "date_item_category_avg_item_lag_3     float16\n",
      "date_item_category_avg_item_lag_6     float16\n",
      "date_item_category_avg_item_lag_12    float16\n",
      "date_city_avg_item_lag_1              float16\n",
      "date_type_avg_item_lag_1              float16\n",
      "date_subtype_avg_item_lag_1           float16\n",
      "date_shop_cat_avg_item_lag_1          float16\n",
      "date_shop_type_avg_item_lag_1         float16\n",
      "date_shop_subtype_avg_item_lag_1      float16\n",
      "date_item_city_avg_item_lag_1         float16\n",
      "delta_price_lag                       float16\n",
      "delta_revenue_lag_1                   float16\n",
      "month                                 int8\n",
      "days                                  int8\n",
      "item_shop_last_sale                   int8\n",
      "item_last_sale                        int8\n",
      "item_shop_first_sale                  int8\n",
      "item_first_sale                       int8\n",
      "dtypes: float16(29), float64(1), int16(1), int32(3), int64(1), int8(8)\n",
      "memory usage: 658.5 MB\n"
     ]
    }
   ],
   "source": [
    "main_combined.info()"
   ]
  },
  {
   "cell_type": "markdown",
   "metadata": {},
   "source": [
    "END OF FE SECTION"
   ]
  },
  {
   "cell_type": "code",
   "execution_count": null,
   "metadata": {},
   "outputs": [],
   "source": [
    "#TRAIN/VALIDATION SPLIT"
   ]
  },
  {
   "cell_type": "markdown",
   "metadata": {},
   "source": [
    "START OF MODELING SECTION"
   ]
  },
  {
   "cell_type": "markdown",
   "metadata": {},
   "source": [
    "We use LightGBM for our model since it's an ensemble model based on decision trees & is on-average, faster to implement than XGBoost.\n",
    "1) Why not RandomForest?\n",
    "- Nodes in LightGBM are split leaf-wise instead of level-wise. That is, if a node provides higher information, then LightGBM makes a split at that node. In contrast, RandomForest does splits at all nodes for each level, which leads to less-accurate predictions.\n",
    "2) Why not Neural Net?\n",
    "- Normal neural net is not advised since time-series is involved. Instead, LSTM neural net should be used, which should give a good accuracy score. Due to time-constraints, we shall not implement it here.\n",
    "3) Why not Linear Models?\n",
    "- Some features are not linearly-related to target variable. Therefore, linear models will not work well.\n",
    "4) Why not SVM?\n",
    "- There may not exist clear linear distinctions. Therefore, SVM may not work well in this case.\n",
    "5) Why not KNN?\n",
    "- We have yet to work on this problem using KNN due to time-contraints. Anyways, we prefer LightGBM/XGBoost since they are sequential ensemble models."
   ]
  },
  {
   "cell_type": "markdown",
   "metadata": {},
   "source": [
    "We use a simple hold-out validation model with first 12 months skipped & last month of training set as validation:"
   ]
  },
  {
   "cell_type": "code",
   "execution_count": 146,
   "metadata": {},
   "outputs": [],
   "source": [
    "#TRAIN/VALIDATION SPLIT\n",
    "#HOLD-OUT\n",
    "#We skip first 12 months. Last month as validation.\n",
    "train_set = main_combined.query('date_block_num < 33').copy()\n",
    "validation_set = main_combined.query('date_block_num == 33').copy()\n",
    "\n",
    "# Create train and validation sets and labels. \n",
    "X_train = train_set.drop(['item_cnt_month'], axis=1)\n",
    "Y_train = train_set['item_cnt_month']\n",
    "X_validation = validation_set.drop(['item_cnt_month'], axis=1)\n",
    "Y_validation = validation_set['item_cnt_month']"
   ]
  },
  {
   "cell_type": "code",
   "execution_count": 147,
   "metadata": {},
   "outputs": [],
   "source": [
    "#TEST\n",
    "X_test = main_combined[main_combined['date_block_num'] == 34].drop(['item_cnt_month'], axis=1)"
   ]
  },
  {
   "cell_type": "code",
   "execution_count": 141,
   "metadata": {
    "scrolled": true
   },
   "outputs": [
    {
     "name": "stdout",
     "output_type": "stream",
     "text": [
      "Training until validation scores don't improve for 3000 rounds.\n",
      "[1000]\ttraining's rmse: 0.754832\tvalid_1's rmse: 0.830805\n",
      "[2000]\ttraining's rmse: 0.724296\tvalid_1's rmse: 0.802792\n",
      "[3000]\ttraining's rmse: 0.705507\tvalid_1's rmse: 0.785674\n",
      "[4000]\ttraining's rmse: 0.691565\tvalid_1's rmse: 0.772002\n",
      "[5000]\ttraining's rmse: 0.679573\tvalid_1's rmse: 0.760195\n",
      "[6000]\ttraining's rmse: 0.669475\tvalid_1's rmse: 0.751294\n",
      "[7000]\ttraining's rmse: 0.66113\tvalid_1's rmse: 0.744065\n",
      "[8000]\ttraining's rmse: 0.653732\tvalid_1's rmse: 0.7381\n",
      "[9000]\ttraining's rmse: 0.645665\tvalid_1's rmse: 0.730689\n",
      "[10000]\ttraining's rmse: 0.639445\tvalid_1's rmse: 0.725206\n",
      "[11000]\ttraining's rmse: 0.633782\tvalid_1's rmse: 0.720468\n",
      "[12000]\ttraining's rmse: 0.628816\tvalid_1's rmse: 0.716151\n",
      "[13000]\ttraining's rmse: 0.624238\tvalid_1's rmse: 0.711865\n",
      "[14000]\ttraining's rmse: 0.619814\tvalid_1's rmse: 0.707945\n",
      "[15000]\ttraining's rmse: 0.615484\tvalid_1's rmse: 0.703977\n",
      "[16000]\ttraining's rmse: 0.611448\tvalid_1's rmse: 0.700718\n",
      "[17000]\ttraining's rmse: 0.607554\tvalid_1's rmse: 0.697048\n",
      "[18000]\ttraining's rmse: 0.603572\tvalid_1's rmse: 0.693898\n",
      "[19000]\ttraining's rmse: 0.599902\tvalid_1's rmse: 0.690321\n",
      "[20000]\ttraining's rmse: 0.596615\tvalid_1's rmse: 0.687247\n",
      "Did not meet early stopping. Best iteration is:\n",
      "[20000]\ttraining's rmse: 0.596615\tvalid_1's rmse: 0.687247\n",
      "Mean RMSE Val_Score is 0.686647663871641\n"
     ]
    }
   ],
   "source": [
    "#MODELLING\n",
    "#LGBM with HOLD-OUT\n",
    "from sklearn.metrics import mean_squared_error\n",
    "from math import sqrt\n",
    "import lightgbm as lgb\n",
    "random_state = 0\n",
    "lgb_params = {\n",
    "    \"objective\" : \"regression\",\n",
    "    \"metric\" : \"rmse\",\n",
    "    \"boosting\": 'gbdt',\n",
    "    \"max_depth\" : -1,\n",
    "    \"num_leaves\" : 150,\n",
    "    \"num_threads\" : 8,\n",
    "    \"learning_rate\" : 0.01,\n",
    "    \"bagging_freq\": 5,\n",
    "    \"bagging_fraction\" : 0.9,\n",
    "    \"feature_fraction\" : 0.3,\n",
    "    #\"min_data_in_leaf\": 80,\n",
    "    #\"min_sum_hessian_in_leaf\" : 10,\n",
    "    #\"tree_learner\": \"serial\",\n",
    "    #\"boost_from_average\": \"false\",\n",
    "    #\"lambda_l1\" : 5,\n",
    "    #\"lambda_l2\" : 5,\n",
    "    \"bagging_seed\" : random_state,\n",
    "    \"verbosity\" : 1,\n",
    "    \"seed\": random_state\n",
    "}\n",
    "\n",
    "input_train = X_train\n",
    "target_train = Y_train\n",
    "trn_data = lgb.Dataset(input_train, label=target_train)\n",
    "val_data = lgb.Dataset(X_validation, label=Y_validation)\n",
    "evals_result = {}\n",
    "lgb_clf = lgb.train(lgb_params,trn_data,20000,valid_sets = [trn_data, val_data],early_stopping_rounds=3000,verbose_eval = 1000,evals_result=evals_result)\n",
    "p_valid = lgb_clf.predict(X_validation).clip(0, 20)\n",
    "score_val = sqrt(mean_squared_error(Y_validation, p_valid))\n",
    "test_pred = lgb_clf.predict(X_test).clip(0, 20)    \n",
    "print(\"Mean RMSE Val_Score is {}\".format(score_val))    "
   ]
  },
  {
   "cell_type": "code",
   "execution_count": 138,
   "metadata": {},
   "outputs": [
    {
     "data": {
      "text/plain": [
       "array(['date_block_num', 'shop_id', 'item_id', 'ID', 'city_code',\n",
       "       'item_category_id', 'type_code', 'subtype_code',\n",
       "       'item_cnt_month_lag_1', 'item_cnt_month_lag_2',\n",
       "       'item_cnt_month_lag_3', 'date_avg_item_lag_1',\n",
       "       'date_item_avg_item_lag_1', 'date_item_avg_item_lag_2',\n",
       "       'date_item_avg_item_lag_3', 'date_item_avg_item_lag_6',\n",
       "       'date_item_avg_item_lag_12', 'date_shop_avg_item_lag_1',\n",
       "       'date_shop_avg_item_lag_2', 'date_shop_avg_item_lag_3',\n",
       "       'date_shop_avg_item_lag_6', 'date_shop_avg_item_lag_12',\n",
       "       'date_item_category_avg_item_lag_1',\n",
       "       'date_item_category_avg_item_lag_2',\n",
       "       'date_item_category_avg_item_lag_3',\n",
       "       'date_item_category_avg_item_lag_6',\n",
       "       'date_item_category_avg_item_lag_12', 'date_city_avg_item_lag_1',\n",
       "       'date_type_avg_item_lag_1', 'date_subtype_avg_item_lag_1',\n",
       "       'date_shop_cat_avg_item_lag_1', 'date_shop_type_avg_item_lag_1',\n",
       "       'date_shop_subtype_avg_item_lag_1',\n",
       "       'date_item_city_avg_item_lag_1', 'delta_price_lag',\n",
       "       'delta_revenue_lag_1', 'month', 'days', 'item_shop_last_sale',\n",
       "       'item_last_sale', 'item_shop_first_sale', 'item_first_sale'],\n",
       "      dtype=object)"
      ]
     },
     "execution_count": 138,
     "metadata": {},
     "output_type": "execute_result"
    }
   ],
   "source": [
    "X_train.columns.values"
   ]
  },
  {
   "cell_type": "code",
   "execution_count": 142,
   "metadata": {},
   "outputs": [
    {
     "data": {
      "text/html": [
       "<div>\n",
       "<style scoped>\n",
       "    .dataframe tbody tr th:only-of-type {\n",
       "        vertical-align: middle;\n",
       "    }\n",
       "\n",
       "    .dataframe tbody tr th {\n",
       "        vertical-align: top;\n",
       "    }\n",
       "\n",
       "    .dataframe thead th {\n",
       "        text-align: right;\n",
       "    }\n",
       "</style>\n",
       "<table border=\"1\" class=\"dataframe\">\n",
       "  <thead>\n",
       "    <tr style=\"text-align: right;\">\n",
       "      <th></th>\n",
       "      <th>ID</th>\n",
       "      <th>item_cnt_month</th>\n",
       "    </tr>\n",
       "  </thead>\n",
       "  <tbody>\n",
       "    <tr>\n",
       "      <th>0</th>\n",
       "      <td>0</td>\n",
       "      <td>0.813417</td>\n",
       "    </tr>\n",
       "    <tr>\n",
       "      <th>1</th>\n",
       "      <td>1</td>\n",
       "      <td>1.368384</td>\n",
       "    </tr>\n",
       "    <tr>\n",
       "      <th>2</th>\n",
       "      <td>2</td>\n",
       "      <td>1.347483</td>\n",
       "    </tr>\n",
       "    <tr>\n",
       "      <th>3</th>\n",
       "      <td>3</td>\n",
       "      <td>0.935392</td>\n",
       "    </tr>\n",
       "    <tr>\n",
       "      <th>4</th>\n",
       "      <td>4</td>\n",
       "      <td>0.227396</td>\n",
       "    </tr>\n",
       "    <tr>\n",
       "      <th>5</th>\n",
       "      <td>5</td>\n",
       "      <td>0.643042</td>\n",
       "    </tr>\n",
       "    <tr>\n",
       "      <th>6</th>\n",
       "      <td>6</td>\n",
       "      <td>0.543594</td>\n",
       "    </tr>\n",
       "    <tr>\n",
       "      <th>7</th>\n",
       "      <td>7</td>\n",
       "      <td>0.192453</td>\n",
       "    </tr>\n",
       "    <tr>\n",
       "      <th>8</th>\n",
       "      <td>8</td>\n",
       "      <td>0.808594</td>\n",
       "    </tr>\n",
       "    <tr>\n",
       "      <th>9</th>\n",
       "      <td>9</td>\n",
       "      <td>0.934767</td>\n",
       "    </tr>\n",
       "    <tr>\n",
       "      <th>10</th>\n",
       "      <td>10</td>\n",
       "      <td>3.391404</td>\n",
       "    </tr>\n",
       "    <tr>\n",
       "      <th>11</th>\n",
       "      <td>11</td>\n",
       "      <td>0.143807</td>\n",
       "    </tr>\n",
       "    <tr>\n",
       "      <th>12</th>\n",
       "      <td>12</td>\n",
       "      <td>0.160401</td>\n",
       "    </tr>\n",
       "    <tr>\n",
       "      <th>13</th>\n",
       "      <td>13</td>\n",
       "      <td>0.749722</td>\n",
       "    </tr>\n",
       "    <tr>\n",
       "      <th>14</th>\n",
       "      <td>14</td>\n",
       "      <td>2.183471</td>\n",
       "    </tr>\n",
       "    <tr>\n",
       "      <th>15</th>\n",
       "      <td>15</td>\n",
       "      <td>2.998143</td>\n",
       "    </tr>\n",
       "    <tr>\n",
       "      <th>16</th>\n",
       "      <td>16</td>\n",
       "      <td>0.056021</td>\n",
       "    </tr>\n",
       "    <tr>\n",
       "      <th>17</th>\n",
       "      <td>17</td>\n",
       "      <td>0.191503</td>\n",
       "    </tr>\n",
       "    <tr>\n",
       "      <th>18</th>\n",
       "      <td>18</td>\n",
       "      <td>1.210197</td>\n",
       "    </tr>\n",
       "    <tr>\n",
       "      <th>19</th>\n",
       "      <td>19</td>\n",
       "      <td>0.276078</td>\n",
       "    </tr>\n",
       "    <tr>\n",
       "      <th>20</th>\n",
       "      <td>20</td>\n",
       "      <td>0.584665</td>\n",
       "    </tr>\n",
       "    <tr>\n",
       "      <th>21</th>\n",
       "      <td>21</td>\n",
       "      <td>0.436206</td>\n",
       "    </tr>\n",
       "    <tr>\n",
       "      <th>22</th>\n",
       "      <td>22</td>\n",
       "      <td>1.864670</td>\n",
       "    </tr>\n",
       "    <tr>\n",
       "      <th>23</th>\n",
       "      <td>23</td>\n",
       "      <td>0.627892</td>\n",
       "    </tr>\n",
       "    <tr>\n",
       "      <th>24</th>\n",
       "      <td>24</td>\n",
       "      <td>1.342196</td>\n",
       "    </tr>\n",
       "    <tr>\n",
       "      <th>25</th>\n",
       "      <td>25</td>\n",
       "      <td>0.580037</td>\n",
       "    </tr>\n",
       "    <tr>\n",
       "      <th>26</th>\n",
       "      <td>26</td>\n",
       "      <td>0.422517</td>\n",
       "    </tr>\n",
       "    <tr>\n",
       "      <th>27</th>\n",
       "      <td>27</td>\n",
       "      <td>0.690084</td>\n",
       "    </tr>\n",
       "    <tr>\n",
       "      <th>28</th>\n",
       "      <td>28</td>\n",
       "      <td>1.085733</td>\n",
       "    </tr>\n",
       "    <tr>\n",
       "      <th>29</th>\n",
       "      <td>29</td>\n",
       "      <td>4.562773</td>\n",
       "    </tr>\n",
       "    <tr>\n",
       "      <th>...</th>\n",
       "      <td>...</td>\n",
       "      <td>...</td>\n",
       "    </tr>\n",
       "    <tr>\n",
       "      <th>214170</th>\n",
       "      <td>214170</td>\n",
       "      <td>0.014722</td>\n",
       "    </tr>\n",
       "    <tr>\n",
       "      <th>214171</th>\n",
       "      <td>214171</td>\n",
       "      <td>0.000000</td>\n",
       "    </tr>\n",
       "    <tr>\n",
       "      <th>214172</th>\n",
       "      <td>214172</td>\n",
       "      <td>0.024767</td>\n",
       "    </tr>\n",
       "    <tr>\n",
       "      <th>214173</th>\n",
       "      <td>214173</td>\n",
       "      <td>0.000000</td>\n",
       "    </tr>\n",
       "    <tr>\n",
       "      <th>214174</th>\n",
       "      <td>214174</td>\n",
       "      <td>0.022054</td>\n",
       "    </tr>\n",
       "    <tr>\n",
       "      <th>214175</th>\n",
       "      <td>214175</td>\n",
       "      <td>0.000000</td>\n",
       "    </tr>\n",
       "    <tr>\n",
       "      <th>214176</th>\n",
       "      <td>214176</td>\n",
       "      <td>0.053593</td>\n",
       "    </tr>\n",
       "    <tr>\n",
       "      <th>214177</th>\n",
       "      <td>214177</td>\n",
       "      <td>0.018077</td>\n",
       "    </tr>\n",
       "    <tr>\n",
       "      <th>214178</th>\n",
       "      <td>214178</td>\n",
       "      <td>0.069392</td>\n",
       "    </tr>\n",
       "    <tr>\n",
       "      <th>214179</th>\n",
       "      <td>214179</td>\n",
       "      <td>0.000000</td>\n",
       "    </tr>\n",
       "    <tr>\n",
       "      <th>214180</th>\n",
       "      <td>214180</td>\n",
       "      <td>0.000000</td>\n",
       "    </tr>\n",
       "    <tr>\n",
       "      <th>214181</th>\n",
       "      <td>214181</td>\n",
       "      <td>0.073648</td>\n",
       "    </tr>\n",
       "    <tr>\n",
       "      <th>214182</th>\n",
       "      <td>214182</td>\n",
       "      <td>0.048884</td>\n",
       "    </tr>\n",
       "    <tr>\n",
       "      <th>214183</th>\n",
       "      <td>214183</td>\n",
       "      <td>0.028534</td>\n",
       "    </tr>\n",
       "    <tr>\n",
       "      <th>214184</th>\n",
       "      <td>214184</td>\n",
       "      <td>0.010463</td>\n",
       "    </tr>\n",
       "    <tr>\n",
       "      <th>214185</th>\n",
       "      <td>214185</td>\n",
       "      <td>0.005024</td>\n",
       "    </tr>\n",
       "    <tr>\n",
       "      <th>214186</th>\n",
       "      <td>214186</td>\n",
       "      <td>0.033654</td>\n",
       "    </tr>\n",
       "    <tr>\n",
       "      <th>214187</th>\n",
       "      <td>214187</td>\n",
       "      <td>0.000000</td>\n",
       "    </tr>\n",
       "    <tr>\n",
       "      <th>214188</th>\n",
       "      <td>214188</td>\n",
       "      <td>0.017341</td>\n",
       "    </tr>\n",
       "    <tr>\n",
       "      <th>214189</th>\n",
       "      <td>214189</td>\n",
       "      <td>0.083648</td>\n",
       "    </tr>\n",
       "    <tr>\n",
       "      <th>214190</th>\n",
       "      <td>214190</td>\n",
       "      <td>0.032685</td>\n",
       "    </tr>\n",
       "    <tr>\n",
       "      <th>214191</th>\n",
       "      <td>214191</td>\n",
       "      <td>0.034964</td>\n",
       "    </tr>\n",
       "    <tr>\n",
       "      <th>214192</th>\n",
       "      <td>214192</td>\n",
       "      <td>0.056704</td>\n",
       "    </tr>\n",
       "    <tr>\n",
       "      <th>214193</th>\n",
       "      <td>214193</td>\n",
       "      <td>0.066949</td>\n",
       "    </tr>\n",
       "    <tr>\n",
       "      <th>214194</th>\n",
       "      <td>214194</td>\n",
       "      <td>0.013876</td>\n",
       "    </tr>\n",
       "    <tr>\n",
       "      <th>214195</th>\n",
       "      <td>214195</td>\n",
       "      <td>0.062951</td>\n",
       "    </tr>\n",
       "    <tr>\n",
       "      <th>214196</th>\n",
       "      <td>214196</td>\n",
       "      <td>0.032276</td>\n",
       "    </tr>\n",
       "    <tr>\n",
       "      <th>214197</th>\n",
       "      <td>214197</td>\n",
       "      <td>0.056092</td>\n",
       "    </tr>\n",
       "    <tr>\n",
       "      <th>214198</th>\n",
       "      <td>214198</td>\n",
       "      <td>0.011112</td>\n",
       "    </tr>\n",
       "    <tr>\n",
       "      <th>214199</th>\n",
       "      <td>214199</td>\n",
       "      <td>0.026709</td>\n",
       "    </tr>\n",
       "  </tbody>\n",
       "</table>\n",
       "<p>214200 rows × 2 columns</p>\n",
       "</div>"
      ],
      "text/plain": [
       "            ID  item_cnt_month\n",
       "0            0        0.813417\n",
       "1            1        1.368384\n",
       "2            2        1.347483\n",
       "3            3        0.935392\n",
       "4            4        0.227396\n",
       "5            5        0.643042\n",
       "6            6        0.543594\n",
       "7            7        0.192453\n",
       "8            8        0.808594\n",
       "9            9        0.934767\n",
       "10          10        3.391404\n",
       "11          11        0.143807\n",
       "12          12        0.160401\n",
       "13          13        0.749722\n",
       "14          14        2.183471\n",
       "15          15        2.998143\n",
       "16          16        0.056021\n",
       "17          17        0.191503\n",
       "18          18        1.210197\n",
       "19          19        0.276078\n",
       "20          20        0.584665\n",
       "21          21        0.436206\n",
       "22          22        1.864670\n",
       "23          23        0.627892\n",
       "24          24        1.342196\n",
       "25          25        0.580037\n",
       "26          26        0.422517\n",
       "27          27        0.690084\n",
       "28          28        1.085733\n",
       "29          29        4.562773\n",
       "...        ...             ...\n",
       "214170  214170        0.014722\n",
       "214171  214171        0.000000\n",
       "214172  214172        0.024767\n",
       "214173  214173        0.000000\n",
       "214174  214174        0.022054\n",
       "214175  214175        0.000000\n",
       "214176  214176        0.053593\n",
       "214177  214177        0.018077\n",
       "214178  214178        0.069392\n",
       "214179  214179        0.000000\n",
       "214180  214180        0.000000\n",
       "214181  214181        0.073648\n",
       "214182  214182        0.048884\n",
       "214183  214183        0.028534\n",
       "214184  214184        0.010463\n",
       "214185  214185        0.005024\n",
       "214186  214186        0.033654\n",
       "214187  214187        0.000000\n",
       "214188  214188        0.017341\n",
       "214189  214189        0.083648\n",
       "214190  214190        0.032685\n",
       "214191  214191        0.034964\n",
       "214192  214192        0.056704\n",
       "214193  214193        0.066949\n",
       "214194  214194        0.013876\n",
       "214195  214195        0.062951\n",
       "214196  214196        0.032276\n",
       "214197  214197        0.056092\n",
       "214198  214198        0.011112\n",
       "214199  214199        0.026709\n",
       "\n",
       "[214200 rows x 2 columns]"
      ]
     },
     "execution_count": 142,
     "metadata": {},
     "output_type": "execute_result"
    }
   ],
   "source": [
    "predictions_final = pd.DataFrame()\n",
    "predictions_final['ID'] = test['ID']\n",
    "predictions_final['item_cnt_month'] = test_pred\n",
    "predictions_final.head()"
   ]
  },
  {
   "cell_type": "code",
   "execution_count": 143,
   "metadata": {},
   "outputs": [],
   "source": [
    "predictions_final.to_csv('sales_output3.csv',index=False)"
   ]
  },
  {
   "cell_type": "markdown",
   "metadata": {},
   "source": [
    "This model gives a pretty-good accuracy on the public leaderboard (Top 8 %).\n",
    "Note that we have not done any hyperparameter-tuning or stack-net.\n",
    "Of course, there may exist other models which may give the same/better accuracy as well."
   ]
  }
 ],
 "metadata": {
  "kernelspec": {
   "display_name": "Python 3",
   "language": "python",
   "name": "python3"
  },
  "language_info": {
   "codemirror_mode": {
    "name": "ipython",
    "version": 3
   },
   "file_extension": ".py",
   "mimetype": "text/x-python",
   "name": "python",
   "nbconvert_exporter": "python",
   "pygments_lexer": "ipython3",
   "version": "3.7.0"
  }
 },
 "nbformat": 4,
 "nbformat_minor": 2
}
