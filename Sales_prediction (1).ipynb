{
 "cells": [
  {
   "cell_type": "code",
   "execution_count": 1,
   "metadata": {},
   "outputs": [],
   "source": [
    "import pandas as pd\n",
    "main = pd.read_csv(\"sales_train\")\n",
    "test = pd.read_csv(\"sales_test\")\n",
    "shops = pd.read_csv('shops')\n",
    "items = pd.read_csv('items')\n",
    "cats = pd.read_csv('item_categories')"
   ]
  },
  {
   "cell_type": "code",
   "execution_count": 2,
   "metadata": {},
   "outputs": [
    {
     "data": {
      "text/html": [
       "<div>\n",
       "<style scoped>\n",
       "    .dataframe tbody tr th:only-of-type {\n",
       "        vertical-align: middle;\n",
       "    }\n",
       "\n",
       "    .dataframe tbody tr th {\n",
       "        vertical-align: top;\n",
       "    }\n",
       "\n",
       "    .dataframe thead th {\n",
       "        text-align: right;\n",
       "    }\n",
       "</style>\n",
       "<table border=\"1\" class=\"dataframe\">\n",
       "  <thead>\n",
       "    <tr style=\"text-align: right;\">\n",
       "      <th></th>\n",
       "      <th>date</th>\n",
       "      <th>date_block_num</th>\n",
       "      <th>shop_id</th>\n",
       "      <th>item_id</th>\n",
       "      <th>item_price</th>\n",
       "      <th>item_cnt_day</th>\n",
       "    </tr>\n",
       "  </thead>\n",
       "  <tbody>\n",
       "    <tr>\n",
       "      <th>0</th>\n",
       "      <td>02.01.2013</td>\n",
       "      <td>0</td>\n",
       "      <td>59</td>\n",
       "      <td>22154</td>\n",
       "      <td>999.00</td>\n",
       "      <td>1.0</td>\n",
       "    </tr>\n",
       "    <tr>\n",
       "      <th>1</th>\n",
       "      <td>03.01.2013</td>\n",
       "      <td>0</td>\n",
       "      <td>25</td>\n",
       "      <td>2552</td>\n",
       "      <td>899.00</td>\n",
       "      <td>1.0</td>\n",
       "    </tr>\n",
       "    <tr>\n",
       "      <th>2</th>\n",
       "      <td>05.01.2013</td>\n",
       "      <td>0</td>\n",
       "      <td>25</td>\n",
       "      <td>2552</td>\n",
       "      <td>899.00</td>\n",
       "      <td>-1.0</td>\n",
       "    </tr>\n",
       "    <tr>\n",
       "      <th>3</th>\n",
       "      <td>06.01.2013</td>\n",
       "      <td>0</td>\n",
       "      <td>25</td>\n",
       "      <td>2554</td>\n",
       "      <td>1709.05</td>\n",
       "      <td>1.0</td>\n",
       "    </tr>\n",
       "    <tr>\n",
       "      <th>4</th>\n",
       "      <td>15.01.2013</td>\n",
       "      <td>0</td>\n",
       "      <td>25</td>\n",
       "      <td>2555</td>\n",
       "      <td>1099.00</td>\n",
       "      <td>1.0</td>\n",
       "    </tr>\n",
       "  </tbody>\n",
       "</table>\n",
       "</div>"
      ],
      "text/plain": [
       "         date  date_block_num  shop_id  item_id  item_price  item_cnt_day\n",
       "0  02.01.2013               0       59    22154      999.00           1.0\n",
       "1  03.01.2013               0       25     2552      899.00           1.0\n",
       "2  05.01.2013               0       25     2552      899.00          -1.0\n",
       "3  06.01.2013               0       25     2554     1709.05           1.0\n",
       "4  15.01.2013               0       25     2555     1099.00           1.0"
      ]
     },
     "execution_count": 2,
     "metadata": {},
     "output_type": "execute_result"
    }
   ],
   "source": [
    "main.head()"
   ]
  },
  {
   "cell_type": "code",
   "execution_count": 3,
   "metadata": {},
   "outputs": [
    {
     "data": {
      "text/html": [
       "<div>\n",
       "<style scoped>\n",
       "    .dataframe tbody tr th:only-of-type {\n",
       "        vertical-align: middle;\n",
       "    }\n",
       "\n",
       "    .dataframe tbody tr th {\n",
       "        vertical-align: top;\n",
       "    }\n",
       "\n",
       "    .dataframe thead th {\n",
       "        text-align: right;\n",
       "    }\n",
       "</style>\n",
       "<table border=\"1\" class=\"dataframe\">\n",
       "  <thead>\n",
       "    <tr style=\"text-align: right;\">\n",
       "      <th></th>\n",
       "      <th>ID</th>\n",
       "      <th>shop_id</th>\n",
       "      <th>item_id</th>\n",
       "    </tr>\n",
       "  </thead>\n",
       "  <tbody>\n",
       "    <tr>\n",
       "      <th>0</th>\n",
       "      <td>0</td>\n",
       "      <td>5</td>\n",
       "      <td>5037</td>\n",
       "    </tr>\n",
       "    <tr>\n",
       "      <th>1</th>\n",
       "      <td>1</td>\n",
       "      <td>5</td>\n",
       "      <td>5320</td>\n",
       "    </tr>\n",
       "    <tr>\n",
       "      <th>2</th>\n",
       "      <td>2</td>\n",
       "      <td>5</td>\n",
       "      <td>5233</td>\n",
       "    </tr>\n",
       "    <tr>\n",
       "      <th>3</th>\n",
       "      <td>3</td>\n",
       "      <td>5</td>\n",
       "      <td>5232</td>\n",
       "    </tr>\n",
       "    <tr>\n",
       "      <th>4</th>\n",
       "      <td>4</td>\n",
       "      <td>5</td>\n",
       "      <td>5268</td>\n",
       "    </tr>\n",
       "  </tbody>\n",
       "</table>\n",
       "</div>"
      ],
      "text/plain": [
       "   ID  shop_id  item_id\n",
       "0   0        5     5037\n",
       "1   1        5     5320\n",
       "2   2        5     5233\n",
       "3   3        5     5232\n",
       "4   4        5     5268"
      ]
     },
     "execution_count": 3,
     "metadata": {},
     "output_type": "execute_result"
    }
   ],
   "source": [
    "test.head()"
   ]
  },
  {
   "cell_type": "code",
   "execution_count": 4,
   "metadata": {},
   "outputs": [
    {
     "data": {
      "text/plain": [
       "date              0\n",
       "date_block_num    0\n",
       "shop_id           0\n",
       "item_id           0\n",
       "item_price        0\n",
       "item_cnt_day      0\n",
       "dtype: int64"
      ]
     },
     "execution_count": 4,
     "metadata": {},
     "output_type": "execute_result"
    }
   ],
   "source": [
    "#NULL DATA CHECK\n",
    "#Check for missing values\n",
    "main.isnull().sum()\n",
    "#No columns contain null values"
   ]
  },
  {
   "cell_type": "code",
   "execution_count": 5,
   "metadata": {},
   "outputs": [
    {
     "data": {
      "text/plain": [
       "False"
      ]
     },
     "execution_count": 5,
     "metadata": {},
     "output_type": "execute_result"
    }
   ],
   "source": [
    "#DATA LEAK\n",
    "#We check if all shop_id in test is found in train\n",
    "test['shop_id'].unique().any() not in main['shop_id'].unique().tolist()"
   ]
  },
  {
   "cell_type": "code",
   "execution_count": 6,
   "metadata": {},
   "outputs": [
    {
     "data": {
      "text/plain": [
       "False"
      ]
     },
     "execution_count": 6,
     "metadata": {},
     "output_type": "execute_result"
    }
   ],
   "source": [
    "#DATA LEAK\n",
    "#We check if all item_id in test is found in train\n",
    "test['item_id'].unique().any() not in main['item_id'].unique().tolist()"
   ]
  },
  {
   "cell_type": "code",
   "execution_count": 7,
   "metadata": {},
   "outputs": [
    {
     "name": "stdout",
     "output_type": "stream",
     "text": [
      "Data set size before leaking: 2935849\n",
      "Data set size after leaking: 1224439\n"
     ]
    }
   ],
   "source": [
    "#DATA LEAK\n",
    "#We use only data that contains item_id & shop_id in test\n",
    "test_shop_ids = test['shop_id'].unique()\n",
    "test_item_ids = test['item_id'].unique()\n",
    "# Only shops that exist in test set.\n",
    "leak_train = main[main['shop_id'].isin(test_shop_ids)]\n",
    "# Only items that exist in test set.\n",
    "leak_train = leak_train[leak_train['item_id'].isin(test_item_ids)]\n",
    "\n",
    "print('Data set size before leaking:', main.shape[0])\n",
    "print('Data set size after leaking:', leak_train.shape[0])"
   ]
  },
  {
   "cell_type": "code",
   "execution_count": 8,
   "metadata": {},
   "outputs": [],
   "source": [
    "#THIS IS WHERE WE REMOVE OUTLIERS\n",
    "#REFER TO EDA SECTION FOR CHOICE OF THRESHOLDS\n",
    "leak_train = leak_train[leak_train['item_price']<100000]\n",
    "leak_train = leak_train[leak_train['item_cnt_day']<1001]"
   ]
  },
  {
   "cell_type": "code",
   "execution_count": 9,
   "metadata": {},
   "outputs": [
    {
     "data": {
      "text/html": [
       "<div>\n",
       "<style scoped>\n",
       "    .dataframe tbody tr th:only-of-type {\n",
       "        vertical-align: middle;\n",
       "    }\n",
       "\n",
       "    .dataframe tbody tr th {\n",
       "        vertical-align: top;\n",
       "    }\n",
       "\n",
       "    .dataframe thead th {\n",
       "        text-align: right;\n",
       "    }\n",
       "</style>\n",
       "<table border=\"1\" class=\"dataframe\">\n",
       "  <thead>\n",
       "    <tr style=\"text-align: right;\">\n",
       "      <th></th>\n",
       "      <th>count</th>\n",
       "      <th>mean</th>\n",
       "      <th>std</th>\n",
       "      <th>min</th>\n",
       "      <th>25%</th>\n",
       "      <th>50%</th>\n",
       "      <th>75%</th>\n",
       "      <th>max</th>\n",
       "    </tr>\n",
       "  </thead>\n",
       "  <tbody>\n",
       "    <tr>\n",
       "      <th>date_block_num</th>\n",
       "      <td>1224438.0</td>\n",
       "      <td>19.354711</td>\n",
       "      <td>9.110718</td>\n",
       "      <td>0.0</td>\n",
       "      <td>12.0</td>\n",
       "      <td>21.0</td>\n",
       "      <td>27.0</td>\n",
       "      <td>33.0</td>\n",
       "    </tr>\n",
       "    <tr>\n",
       "      <th>shop_id</th>\n",
       "      <td>1224438.0</td>\n",
       "      <td>32.151183</td>\n",
       "      <td>16.465621</td>\n",
       "      <td>2.0</td>\n",
       "      <td>19.0</td>\n",
       "      <td>31.0</td>\n",
       "      <td>46.0</td>\n",
       "      <td>59.0</td>\n",
       "    </tr>\n",
       "    <tr>\n",
       "      <th>item_id</th>\n",
       "      <td>1224438.0</td>\n",
       "      <td>9614.864386</td>\n",
       "      <td>6299.872707</td>\n",
       "      <td>30.0</td>\n",
       "      <td>4181.0</td>\n",
       "      <td>7856.0</td>\n",
       "      <td>15229.0</td>\n",
       "      <td>22167.0</td>\n",
       "    </tr>\n",
       "    <tr>\n",
       "      <th>item_price</th>\n",
       "      <td>1224438.0</td>\n",
       "      <td>1030.666832</td>\n",
       "      <td>1827.384271</td>\n",
       "      <td>0.5</td>\n",
       "      <td>299.0</td>\n",
       "      <td>549.0</td>\n",
       "      <td>1199.0</td>\n",
       "      <td>59200.0</td>\n",
       "    </tr>\n",
       "    <tr>\n",
       "      <th>item_cnt_day</th>\n",
       "      <td>1224438.0</td>\n",
       "      <td>1.319464</td>\n",
       "      <td>2.671780</td>\n",
       "      <td>-16.0</td>\n",
       "      <td>1.0</td>\n",
       "      <td>1.0</td>\n",
       "      <td>1.0</td>\n",
       "      <td>1000.0</td>\n",
       "    </tr>\n",
       "  </tbody>\n",
       "</table>\n",
       "</div>"
      ],
      "text/plain": [
       "                    count         mean          std   min     25%     50%  \\\n",
       "date_block_num  1224438.0    19.354711     9.110718   0.0    12.0    21.0   \n",
       "shop_id         1224438.0    32.151183    16.465621   2.0    19.0    31.0   \n",
       "item_id         1224438.0  9614.864386  6299.872707  30.0  4181.0  7856.0   \n",
       "item_price      1224438.0  1030.666832  1827.384271   0.5   299.0   549.0   \n",
       "item_cnt_day    1224438.0     1.319464     2.671780 -16.0     1.0     1.0   \n",
       "\n",
       "                    75%      max  \n",
       "date_block_num     27.0     33.0  \n",
       "shop_id            46.0     59.0  \n",
       "item_id         15229.0  22167.0  \n",
       "item_price       1199.0  59200.0  \n",
       "item_cnt_day        1.0   1000.0  "
      ]
     },
     "execution_count": 9,
     "metadata": {},
     "output_type": "execute_result"
    }
   ],
   "source": [
    "leak_train.describe().T"
   ]
  },
  {
   "cell_type": "code",
   "execution_count": 10,
   "metadata": {},
   "outputs": [
    {
     "data": {
      "text/plain": [
       "array(['!Якутск', 'Адыгея', 'Балашиха', 'Волжский', 'Вологда', 'Воронеж',\n",
       "       'Выездная', 'Жуковский', 'Интернет-магазин', 'Казань', 'Калуга',\n",
       "       'Коломна', 'Красноярск', 'Курск', 'Москва', 'Мытищи', 'Н.Новгород',\n",
       "       'Новосибирск', 'Омск', 'РостовНаДону', 'СПб', 'Самара', 'Сергиев',\n",
       "       'Сургут', 'Томск', 'Тюмень', 'Уфа', 'Химки', 'Цифровой', 'Чехов',\n",
       "       'Якутск', 'Ярославль'], dtype=object)"
      ]
     },
     "execution_count": 10,
     "metadata": {},
     "output_type": "execute_result"
    }
   ],
   "source": [
    "#DATA PRE-PROCESSING\n",
    "#Let's check first part of shop_name\n",
    "shops['city'] = shops['shop_name'].str.split(' ').map(lambda x: x[0])\n",
    "shops['city'].unique()"
   ]
  },
  {
   "cell_type": "code",
   "execution_count": 11,
   "metadata": {},
   "outputs": [],
   "source": [
    "#DATA PRE-PROCESSING\n",
    "#First part of shop_name is city name, except for 'Интернет-магазин'\n",
    "#However, some city names are not properly-written. Let's fix them before label-encoding city names\n",
    "from sklearn.preprocessing import LabelEncoder\n",
    "shops.loc[shops['shop_name'] == 'Сергиев Посад ТЦ \"7Я\"', 'shop_name'] = 'СергиевПосад ТЦ \"7Я\"'\n",
    "shops['city'] = shops['shop_name'].str.split(' ').map(lambda x: x[0])\n",
    "shops.loc[shops['city'] == '!Якутск', 'city'] = 'Якутск'\n",
    "shops['city_code'] = LabelEncoder().fit_transform(shops['city'])\n",
    "shops = shops[['shop_id','city_code']]\n",
    "\n",
    "cats['split'] = cats['item_category_name'].str.split('-')\n",
    "cats['type'] = cats['split'].map(lambda x: x[0].strip())\n",
    "cats['type_code'] = LabelEncoder().fit_transform(cats['type'])\n",
    "#If subtype is nan then type\n",
    "cats['subtype'] = cats['split'].map(lambda x: x[1].strip() if len(x) > 1 else x[0].strip())\n",
    "cats['subtype_code'] = LabelEncoder().fit_transform(cats['subtype'])\n",
    "cats = cats[['item_category_id','type_code', 'subtype_code']]\n",
    "\n",
    "items.drop(['item_name'], axis=1, inplace=True)"
   ]
  },
  {
   "cell_type": "code",
   "execution_count": 12,
   "metadata": {},
   "outputs": [
    {
     "name": "stdout",
     "output_type": "stream",
     "text": [
      "No. of shops is 42 & no. of unique items is 5100.\n"
     ]
    }
   ],
   "source": [
    "#DATA PRE-PROCESSING\n",
    "print('No. of shops is {} & no. of unique items is {}.'.format(test['shop_id'].nunique(),test['item_id'].nunique()))\n",
    "assert len(test) == test['shop_id'].nunique() * test['item_id'].nunique()\n",
    "#Interestingly, test set includes item pairs for every shop. However, train set only contains sold or returned items.\n",
    "#We need to replicate these pairs in the train set as well."
   ]
  },
  {
   "cell_type": "code",
   "execution_count": 13,
   "metadata": {},
   "outputs": [],
   "source": [
    "#DATA PRE-PROCESSING\n",
    "from itertools import product\n",
    "import numpy as np\n",
    "matrix = []\n",
    "cols = ['date_block_num','shop_id','item_id']\n",
    "for i in range(34):\n",
    "    leak_train_filtered = leak_train[leak_train['date_block_num'] == i]\n",
    "    matrix.append(np.array(list(product([i], leak_train_filtered['shop_id'].unique(), leak_train_filtered['item_id'].unique())), dtype='int16'))\n",
    "    \n",
    "matrix = pd.DataFrame(np.vstack(matrix), columns=cols)\n",
    "matrix['date_block_num'] = matrix['date_block_num'].astype(np.int8)\n",
    "matrix['shop_id'] = matrix['shop_id'].astype(np.int8)\n",
    "matrix['item_id'] = matrix['item_id'].astype(np.int16)\n",
    "matrix.sort_values(cols,inplace=True)\n",
    "\n",
    "#leak_train['revenue'] = leak_train['item_price'] *  leak_train['item_cnt_day']\n",
    "\n",
    "group = leak_train.groupby(['date_block_num','shop_id','item_id']).agg({'item_cnt_day': ['sum']})\n",
    "group.columns = ['item_cnt_month']\n",
    "group.reset_index(inplace=True)\n",
    "\n",
    "main_combined = pd.merge(matrix, group, on=cols, how='left')\n",
    "main_combined['item_cnt_month'] = (main_combined['item_cnt_month'].fillna(0).clip(0,20).astype(np.float16))\n",
    "\n"
   ]
  },
  {
   "cell_type": "code",
   "execution_count": null,
   "metadata": {},
   "outputs": [],
   "source": [
    "main_combined['revenue'] = main_combined['item_price'] *  main_combined['item_cnt_day']"
   ]
  },
  {
   "cell_type": "code",
   "execution_count": 14,
   "metadata": {},
   "outputs": [
    {
     "data": {
      "text/plain": [
       "inf"
      ]
     },
     "execution_count": 14,
     "metadata": {},
     "output_type": "execute_result"
    }
   ],
   "source": [
    "#DATA PRE-PROCESSING\n",
    "#Note that summing up item_cnt_month will return infinite since it exceeds maximum range\n",
    "np.sum(main_combined['item_cnt_month'])"
   ]
  },
  {
   "cell_type": "code",
   "execution_count": 15,
   "metadata": {},
   "outputs": [],
   "source": [
    "#DATA PRE-PROCESSING\n",
    "#We do the same for test\n",
    "test['date_block_num'] = 34\n",
    "test['date_block_num'] = test['date_block_num'].astype(np.int8)\n",
    "test['shop_id'] = test['shop_id'].astype(np.int8)\n",
    "test['item_id'] = test['item_id'].astype(np.int16)\n",
    "\n",
    "test = pd.concat([matrix, test], ignore_index=True, sort=False, keys=cols)\n",
    "test.fillna(0, inplace=True)"
   ]
  },
  {
   "cell_type": "code",
   "execution_count": 16,
   "metadata": {},
   "outputs": [],
   "source": [
    "#MERGE \n",
    "main_combined = pd.merge(main_combined, shops, on=['shop_id'], how='left')\n",
    "main_combined = pd.merge(main_combined, items, on=['item_id'], how='left')\n",
    "main_combined = pd.merge(main_combined, cats, on=['item_category_id'], how='left')"
   ]
  },
  {
   "cell_type": "code",
   "execution_count": 17,
   "metadata": {},
   "outputs": [
    {
     "data": {
      "text/html": [
       "<div>\n",
       "<style scoped>\n",
       "    .dataframe tbody tr th:only-of-type {\n",
       "        vertical-align: middle;\n",
       "    }\n",
       "\n",
       "    .dataframe tbody tr th {\n",
       "        vertical-align: top;\n",
       "    }\n",
       "\n",
       "    .dataframe thead th {\n",
       "        text-align: right;\n",
       "    }\n",
       "</style>\n",
       "<table border=\"1\" class=\"dataframe\">\n",
       "  <thead>\n",
       "    <tr style=\"text-align: right;\">\n",
       "      <th></th>\n",
       "      <th>date_block_num</th>\n",
       "      <th>shop_id</th>\n",
       "      <th>item_id</th>\n",
       "      <th>item_cnt_month</th>\n",
       "      <th>city_code</th>\n",
       "      <th>item_category_id</th>\n",
       "      <th>type_code</th>\n",
       "      <th>subtype_code</th>\n",
       "    </tr>\n",
       "  </thead>\n",
       "  <tbody>\n",
       "    <tr>\n",
       "      <th>0</th>\n",
       "      <td>0</td>\n",
       "      <td>2</td>\n",
       "      <td>32</td>\n",
       "      <td>0.0</td>\n",
       "      <td>0</td>\n",
       "      <td>40</td>\n",
       "      <td>11</td>\n",
       "      <td>4</td>\n",
       "    </tr>\n",
       "    <tr>\n",
       "      <th>1</th>\n",
       "      <td>0</td>\n",
       "      <td>2</td>\n",
       "      <td>33</td>\n",
       "      <td>1.0</td>\n",
       "      <td>0</td>\n",
       "      <td>37</td>\n",
       "      <td>11</td>\n",
       "      <td>1</td>\n",
       "    </tr>\n",
       "    <tr>\n",
       "      <th>2</th>\n",
       "      <td>0</td>\n",
       "      <td>2</td>\n",
       "      <td>42</td>\n",
       "      <td>0.0</td>\n",
       "      <td>0</td>\n",
       "      <td>57</td>\n",
       "      <td>13</td>\n",
       "      <td>8</td>\n",
       "    </tr>\n",
       "    <tr>\n",
       "      <th>3</th>\n",
       "      <td>0</td>\n",
       "      <td>2</td>\n",
       "      <td>45</td>\n",
       "      <td>0.0</td>\n",
       "      <td>0</td>\n",
       "      <td>57</td>\n",
       "      <td>13</td>\n",
       "      <td>8</td>\n",
       "    </tr>\n",
       "    <tr>\n",
       "      <th>4</th>\n",
       "      <td>0</td>\n",
       "      <td>2</td>\n",
       "      <td>51</td>\n",
       "      <td>0.0</td>\n",
       "      <td>0</td>\n",
       "      <td>57</td>\n",
       "      <td>13</td>\n",
       "      <td>8</td>\n",
       "    </tr>\n",
       "  </tbody>\n",
       "</table>\n",
       "</div>"
      ],
      "text/plain": [
       "   date_block_num  shop_id  item_id  item_cnt_month  city_code  \\\n",
       "0               0        2       32             0.0          0   \n",
       "1               0        2       33             1.0          0   \n",
       "2               0        2       42             0.0          0   \n",
       "3               0        2       45             0.0          0   \n",
       "4               0        2       51             0.0          0   \n",
       "\n",
       "   item_category_id  type_code  subtype_code  \n",
       "0                40         11             4  \n",
       "1                37         11             1  \n",
       "2                57         13             8  \n",
       "3                57         13             8  \n",
       "4                57         13             8  "
      ]
     },
     "execution_count": 17,
     "metadata": {},
     "output_type": "execute_result"
    }
   ],
   "source": [
    "main_combined.head()"
   ]
  },
  {
   "cell_type": "code",
   "execution_count": 18,
   "metadata": {},
   "outputs": [],
   "source": [
    "#DATA PRE-PROCESSING ON MERGED DATA"
   ]
  },
  {
   "cell_type": "code",
   "execution_count": 19,
   "metadata": {},
   "outputs": [],
   "source": [
    "#DATA PRE-PROCESSING\n",
    "# Select only useful features.\n",
    "#train_monthly = leak_train[['date', 'date_block_num', 'shop_id', 'item_id', 'item_price', 'item_cnt_day','item_category_id']]\n",
    "# Group by month in this case \"date_block_num\" and aggregate features.\n",
    "#train_monthly = train_monthly.sort_values('date').groupby(['date_block_num', 'shop_id', 'item_id', 'item_category_id'], as_index=False)\n",
    "#train_monthly = train_monthly.agg({'item_price':['sum', 'mean'], 'item_cnt_day':['sum', 'mean','count']})\n",
    "# Rename features.\n",
    "#train_monthly.columns = ['date_block_num', 'shop_id', 'item_id', 'item_price', 'mean_item_price', 'item_category_id', 'item_cnt', 'mean_item_cnt', 'transactions']\n",
    "#train_monthly.head()"
   ]
  },
  {
   "cell_type": "code",
   "execution_count": null,
   "metadata": {},
   "outputs": [],
   "source": []
  },
  {
   "cell_type": "code",
   "execution_count": 20,
   "metadata": {},
   "outputs": [
    {
     "data": {
      "text/html": [
       "<div>\n",
       "<style scoped>\n",
       "    .dataframe tbody tr th:only-of-type {\n",
       "        vertical-align: middle;\n",
       "    }\n",
       "\n",
       "    .dataframe tbody tr th {\n",
       "        vertical-align: top;\n",
       "    }\n",
       "\n",
       "    .dataframe thead th {\n",
       "        text-align: right;\n",
       "    }\n",
       "</style>\n",
       "<table border=\"1\" class=\"dataframe\">\n",
       "  <thead>\n",
       "    <tr style=\"text-align: right;\">\n",
       "      <th></th>\n",
       "      <th>date_block_num</th>\n",
       "      <th>shop_id</th>\n",
       "      <th>item_id</th>\n",
       "      <th>item_cnt_month</th>\n",
       "      <th>city_code</th>\n",
       "      <th>item_category_id</th>\n",
       "      <th>type_code</th>\n",
       "      <th>subtype_code</th>\n",
       "      <th>year</th>\n",
       "      <th>month</th>\n",
       "      <th>days</th>\n",
       "    </tr>\n",
       "  </thead>\n",
       "  <tbody>\n",
       "    <tr>\n",
       "      <th>0</th>\n",
       "      <td>0</td>\n",
       "      <td>2</td>\n",
       "      <td>32</td>\n",
       "      <td>0.0</td>\n",
       "      <td>0</td>\n",
       "      <td>40</td>\n",
       "      <td>11</td>\n",
       "      <td>4</td>\n",
       "      <td>0</td>\n",
       "      <td>0</td>\n",
       "      <td>31</td>\n",
       "    </tr>\n",
       "    <tr>\n",
       "      <th>1</th>\n",
       "      <td>0</td>\n",
       "      <td>2</td>\n",
       "      <td>33</td>\n",
       "      <td>1.0</td>\n",
       "      <td>0</td>\n",
       "      <td>37</td>\n",
       "      <td>11</td>\n",
       "      <td>1</td>\n",
       "      <td>0</td>\n",
       "      <td>0</td>\n",
       "      <td>31</td>\n",
       "    </tr>\n",
       "    <tr>\n",
       "      <th>2</th>\n",
       "      <td>0</td>\n",
       "      <td>2</td>\n",
       "      <td>42</td>\n",
       "      <td>0.0</td>\n",
       "      <td>0</td>\n",
       "      <td>57</td>\n",
       "      <td>13</td>\n",
       "      <td>8</td>\n",
       "      <td>0</td>\n",
       "      <td>0</td>\n",
       "      <td>31</td>\n",
       "    </tr>\n",
       "    <tr>\n",
       "      <th>3</th>\n",
       "      <td>0</td>\n",
       "      <td>2</td>\n",
       "      <td>45</td>\n",
       "      <td>0.0</td>\n",
       "      <td>0</td>\n",
       "      <td>57</td>\n",
       "      <td>13</td>\n",
       "      <td>8</td>\n",
       "      <td>0</td>\n",
       "      <td>0</td>\n",
       "      <td>31</td>\n",
       "    </tr>\n",
       "    <tr>\n",
       "      <th>4</th>\n",
       "      <td>0</td>\n",
       "      <td>2</td>\n",
       "      <td>51</td>\n",
       "      <td>0.0</td>\n",
       "      <td>0</td>\n",
       "      <td>57</td>\n",
       "      <td>13</td>\n",
       "      <td>8</td>\n",
       "      <td>0</td>\n",
       "      <td>0</td>\n",
       "      <td>31</td>\n",
       "    </tr>\n",
       "  </tbody>\n",
       "</table>\n",
       "</div>"
      ],
      "text/plain": [
       "   date_block_num  shop_id  item_id  item_cnt_month  city_code  \\\n",
       "0               0        2       32             0.0          0   \n",
       "1               0        2       33             1.0          0   \n",
       "2               0        2       42             0.0          0   \n",
       "3               0        2       45             0.0          0   \n",
       "4               0        2       51             0.0          0   \n",
       "\n",
       "   item_category_id  type_code  subtype_code  year  month  days  \n",
       "0                40         11             4     0      0    31  \n",
       "1                37         11             1     0      0    31  \n",
       "2                57         13             8     0      0    31  \n",
       "3                57         13             8     0      0    31  \n",
       "4                57         13             8     0      0    31  "
      ]
     },
     "execution_count": 20,
     "metadata": {},
     "output_type": "execute_result"
    }
   ],
   "source": [
    "#DATA PRE-PROCESSING\n",
    "main_combined['year'] = main_combined['date_block_num'].apply(lambda x:(x//12))\n",
    "main_combined['month'] = main_combined['date_block_num'].apply(lambda x: (x % 12))\n",
    "days = pd.Series([31,28,31,30,31,30,31,31,30,31,30,31])\n",
    "main_combined['days'] = main_combined['month'].map(days).astype(np.int8)\n",
    "main_combined.head()"
   ]
  },
  {
   "cell_type": "code",
   "execution_count": 21,
   "metadata": {},
   "outputs": [],
   "source": [
    "#EXPLORATORY DATA ANALYSIS [FOR ORIGINAL DATASET]\n",
    "#BASIC STATS"
   ]
  },
  {
   "cell_type": "code",
   "execution_count": 22,
   "metadata": {},
   "outputs": [
    {
     "data": {
      "text/html": [
       "<div>\n",
       "<style scoped>\n",
       "    .dataframe tbody tr th:only-of-type {\n",
       "        vertical-align: middle;\n",
       "    }\n",
       "\n",
       "    .dataframe tbody tr th {\n",
       "        vertical-align: top;\n",
       "    }\n",
       "\n",
       "    .dataframe thead th {\n",
       "        text-align: right;\n",
       "    }\n",
       "</style>\n",
       "<table border=\"1\" class=\"dataframe\">\n",
       "  <thead>\n",
       "    <tr style=\"text-align: right;\">\n",
       "      <th></th>\n",
       "      <th>date_block_num</th>\n",
       "      <th>shop_id</th>\n",
       "      <th>item_id</th>\n",
       "      <th>item_price</th>\n",
       "      <th>item_cnt_day</th>\n",
       "    </tr>\n",
       "  </thead>\n",
       "  <tbody>\n",
       "    <tr>\n",
       "      <th>count</th>\n",
       "      <td>1.224438e+06</td>\n",
       "      <td>1.224438e+06</td>\n",
       "      <td>1.224438e+06</td>\n",
       "      <td>1.224438e+06</td>\n",
       "      <td>1.224438e+06</td>\n",
       "    </tr>\n",
       "    <tr>\n",
       "      <th>mean</th>\n",
       "      <td>1.935471e+01</td>\n",
       "      <td>3.215118e+01</td>\n",
       "      <td>9.614864e+03</td>\n",
       "      <td>1.030667e+03</td>\n",
       "      <td>1.319464e+00</td>\n",
       "    </tr>\n",
       "    <tr>\n",
       "      <th>std</th>\n",
       "      <td>9.110718e+00</td>\n",
       "      <td>1.646562e+01</td>\n",
       "      <td>6.299873e+03</td>\n",
       "      <td>1.827384e+03</td>\n",
       "      <td>2.671780e+00</td>\n",
       "    </tr>\n",
       "    <tr>\n",
       "      <th>min</th>\n",
       "      <td>0.000000e+00</td>\n",
       "      <td>2.000000e+00</td>\n",
       "      <td>3.000000e+01</td>\n",
       "      <td>5.000000e-01</td>\n",
       "      <td>-1.600000e+01</td>\n",
       "    </tr>\n",
       "    <tr>\n",
       "      <th>25%</th>\n",
       "      <td>1.200000e+01</td>\n",
       "      <td>1.900000e+01</td>\n",
       "      <td>4.181000e+03</td>\n",
       "      <td>2.990000e+02</td>\n",
       "      <td>1.000000e+00</td>\n",
       "    </tr>\n",
       "    <tr>\n",
       "      <th>50%</th>\n",
       "      <td>2.100000e+01</td>\n",
       "      <td>3.100000e+01</td>\n",
       "      <td>7.856000e+03</td>\n",
       "      <td>5.490000e+02</td>\n",
       "      <td>1.000000e+00</td>\n",
       "    </tr>\n",
       "    <tr>\n",
       "      <th>75%</th>\n",
       "      <td>2.700000e+01</td>\n",
       "      <td>4.600000e+01</td>\n",
       "      <td>1.522900e+04</td>\n",
       "      <td>1.199000e+03</td>\n",
       "      <td>1.000000e+00</td>\n",
       "    </tr>\n",
       "    <tr>\n",
       "      <th>max</th>\n",
       "      <td>3.300000e+01</td>\n",
       "      <td>5.900000e+01</td>\n",
       "      <td>2.216700e+04</td>\n",
       "      <td>5.920000e+04</td>\n",
       "      <td>1.000000e+03</td>\n",
       "    </tr>\n",
       "  </tbody>\n",
       "</table>\n",
       "</div>"
      ],
      "text/plain": [
       "       date_block_num       shop_id       item_id    item_price  item_cnt_day\n",
       "count    1.224438e+06  1.224438e+06  1.224438e+06  1.224438e+06  1.224438e+06\n",
       "mean     1.935471e+01  3.215118e+01  9.614864e+03  1.030667e+03  1.319464e+00\n",
       "std      9.110718e+00  1.646562e+01  6.299873e+03  1.827384e+03  2.671780e+00\n",
       "min      0.000000e+00  2.000000e+00  3.000000e+01  5.000000e-01 -1.600000e+01\n",
       "25%      1.200000e+01  1.900000e+01  4.181000e+03  2.990000e+02  1.000000e+00\n",
       "50%      2.100000e+01  3.100000e+01  7.856000e+03  5.490000e+02  1.000000e+00\n",
       "75%      2.700000e+01  4.600000e+01  1.522900e+04  1.199000e+03  1.000000e+00\n",
       "max      3.300000e+01  5.900000e+01  2.216700e+04  5.920000e+04  1.000000e+03"
      ]
     },
     "execution_count": 22,
     "metadata": {},
     "output_type": "execute_result"
    }
   ],
   "source": [
    "#EXPLORATORY DATA ANALYSIS\n",
    "main = leak_train\n",
    "main.describe()"
   ]
  },
  {
   "cell_type": "code",
   "execution_count": 23,
   "metadata": {},
   "outputs": [
    {
     "name": "stdout",
     "output_type": "stream",
     "text": [
      "Number of unique values of date : 1034\n",
      "Number of unique values of date_block_num : 34\n",
      "Number of unique values of shop_id : 42\n",
      "Number of unique values of item_id : 4716\n",
      "Number of unique values of item_price : 11940\n",
      "Number of unique values of item_cnt_day : 161\n"
     ]
    }
   ],
   "source": [
    "#EXPLORATORY DATA ANALYSIS\n",
    "#Features unique values\n",
    "for col in main.columns:\n",
    "    print(\"Number of unique values of {} : {}\".format(col, main[col].nunique()))    \n",
    "#This data is over 34 months\n",
    "#There are 42 different shops, 12 are redundant\n",
    "#Many different item_ids, many repetitions\n",
    "#Many different item_prices. However, unique values is higher than that of item_id. This shows that many items have different prices over time."
   ]
  },
  {
   "cell_type": "code",
   "execution_count": 24,
   "metadata": {},
   "outputs": [],
   "source": [
    "#EXPLORATORY DATA ANALYSIS\n",
    "#Build a data set with all the possible combinations of ['date_block_num','shop_id','item_id'] so we won't have missing records.\n",
    "#shop_ids = train_monthly['shop_id'].unique()\n",
    "#item_ids = train_monthly['item_id'].unique()\n",
    "#empty_df = []\n",
    "#for i in range(34):\n",
    "#    for shop in shop_ids:\n",
    "#        for item in item_ids:\n",
    "#            empty_df.append([i, shop, item])\n",
    "    \n",
    "#empty_df = pd.DataFrame(empty_df, columns=['date_block_num','shop_id','item_id'])"
   ]
  },
  {
   "cell_type": "code",
   "execution_count": 25,
   "metadata": {},
   "outputs": [],
   "source": [
    "#EXPLORATORY DATA ANALYSIS\n",
    "#Merge the train set with the complete set (missing records will be filled with 0).\n",
    "#train_monthly = pd.merge(empty_df, train_monthly, on=['date_block_num','shop_id','item_id'], how='left')\n",
    "#train_monthly.fillna(0, inplace=True)"
   ]
  },
  {
   "cell_type": "code",
   "execution_count": 26,
   "metadata": {},
   "outputs": [],
   "source": [
    "#EXPLORATORY DATA ANALYSIS\n",
    "#SALES/TRANSACTIONS TRENDS"
   ]
  },
  {
   "cell_type": "code",
   "execution_count": 27,
   "metadata": {},
   "outputs": [
    {
     "data": {
      "text/plain": [
       "[]"
      ]
     },
     "execution_count": 27,
     "metadata": {},
     "output_type": "execute_result"
    }
   ],
   "source": [
    "#EXPLORATORY DATA ANALYSIS\n",
    "#Lets view the trend of item_cnt,mean_item_cnt,transactions over time\n",
    "#We begin by importing matplotlib\n",
    "ts = main.groupby('date_block_num')['item_cnt_day'].sum()\n",
    "import matplotlib.pyplot as plt\n",
    "plt.figure(figsize=(16,16))\n",
    "plt.subplot(311)\n",
    "plt.title('item_cnt over months')\n",
    "plt.xlabel('month')\n",
    "plt.ylabel('item_cnt')\n",
    "plt.plot(ts)\n",
    "\n",
    "ts = main.groupby('date_block_num')['item_cnt_day'].mean()\n",
    "plt.subplot(312)\n",
    "plt.title('mean_item_cnt over months')\n",
    "plt.xlabel('month')\n",
    "plt.ylabel('mean_item_cnt')\n",
    "plt.plot(ts)\n",
    "plt.plot()\n",
    "\n",
    "ts = main.groupby('date_block_num')['date_block_num'].count()\n",
    "plt.subplot(313)\n",
    "plt.title('transactions over months')\n",
    "plt.xlabel('month')\n",
    "plt.ylabel('transactions')\n",
    "plt.plot(ts)\n",
    "plt.plot()\n",
    "\n",
    "#We observe 2 \"spikes\" in the data. They seem to be located at end of each year, implying seasonality/year effects\n",
    "#Increasing trend for item_cnt & transactions\n",
    "#Decreasing trend for mean_item_cnt, possibly due to addition of 0s"
   ]
  },
  {
   "cell_type": "code",
   "execution_count": 28,
   "metadata": {},
   "outputs": [
    {
     "name": "stderr",
     "output_type": "stream",
     "text": [
      "C:\\Users\\weiquan\\Anaconda3\\lib\\site-packages\\scipy\\stats\\stats.py:1713: FutureWarning: Using a non-tuple sequence for multidimensional indexing is deprecated; use `arr[tuple(seq)]` instead of `arr[seq]`. In the future this will be interpreted as an array index, `arr[np.array(seq)]`, which will result either in an error or a different result.\n",
      "  return np.add.reduce(sorted[indexer] * weights, axis=axis) / sumval\n"
     ]
    },
    {
     "data": {
      "text/plain": [
       "[]"
      ]
     },
     "execution_count": 28,
     "metadata": {},
     "output_type": "execute_result"
    },
    {
     "data": {
      "image/png": "[encoded data removed]",
      "text/plain": [
       "<Figure size 1152x1152 with 3 Axes>"
      ]
     },
     "metadata": {
      "needs_background": "light"
     },
     "output_type": "display_data"
    }
   ],
   "source": [
    "#EXPLORATORY DATA ANALYSIS\n",
    "#Let's view the distribution of item_cnt,mean_item_cnt & transactions \n",
    "#We begin by importing seaborn\n",
    "import seaborn as sns\n",
    "plt.figure(figsize=(16,16))\n",
    "plt.subplot(311)\n",
    "plt.title('item_cnt distribution')\n",
    "plt.xlabel('item_cnt')\n",
    "plt.ylabel('distribution')\n",
    "sns.distplot(main['item_cnt_day'], hist=False, kde=True, color = 'darkblue', hist_kws={'edgecolor':'black'},kde_kws={'linewidth': 4})\n",
    "\n",
    "plt.subplot(312)\n",
    "plt.title('mean_item_cnt distribution')\n",
    "plt.xlabel('mean_item_cnt')\n",
    "plt.ylabel('distribution')\n",
    "sns.distplot(main.groupby('date_block_num')['item_cnt_day'].mean(), hist=False, kde=True, color = 'darkblue', hist_kws={'edgecolor':'black'},kde_kws={'linewidth': 4})\n",
    "plt.plot()\n",
    "\n",
    "plt.subplot(313)\n",
    "plt.title('transactions distribution')\n",
    "plt.xlabel('transactions')\n",
    "plt.ylabel('distribution')\n",
    "sns.distplot(main.groupby('date_block_num')['item_cnt_day'].count(), hist=False, kde=True, color = 'darkblue', hist_kws={'edgecolor':'black'},kde_kws={'linewidth': 4})\n",
    "plt.plot()\n",
    "\n",
    "#Data seems to be left-skewed, with most item sales averaging 1\n",
    "#There seems to have 2 \"bumps\" for transactions, corrsponding to that of transactions over months"
   ]
  },
  {
   "cell_type": "code",
   "execution_count": 29,
   "metadata": {},
   "outputs": [
    {
     "data": {
      "image/png": "[encoded data removed]",
      "text/plain": [
       "<Figure size 1152x576 with 1 Axes>"
      ]
     },
     "metadata": {
      "needs_background": "light"
     },
     "output_type": "display_data"
    }
   ],
   "source": [
    "#EXPLORATORY DATA ANALYSIS\n",
    "#Let's view the distribution of item_cnt BY shop_id\n",
    "plt.figure(figsize=(16,8))\n",
    "ts = main.groupby(['shop_id'],as_index=False)['item_cnt_day'].sum()\n",
    "plt.title('Sales by Shop')\n",
    "plt.bar(range(len(ts['item_cnt_day'])),list(ts['item_cnt_day']), align='center')\n",
    "plt.xticks(range(len(ts['shop_id'])),list(ts['shop_id'].unique()))\n",
    "plt.ylabel('Sales')\n",
    "plt.show()\n",
    "#Interestingly, most sales come shop_id 31,25,28,42,57"
   ]
  },
  {
   "cell_type": "code",
   "execution_count": 30,
   "metadata": {},
   "outputs": [],
   "source": [
    "#EXPLORATORY DATA ANALYSIS\n",
    "#TIME SERIES STATIONALITY"
   ]
  },
  {
   "cell_type": "code",
   "execution_count": 31,
   "metadata": {},
   "outputs": [
    {
     "data": {
      "image/png": "[encoded data removed]",
      "text/plain": [
       "<Figure size 432x288 with 4 Axes>"
      ]
     },
     "metadata": {
      "needs_background": "light"
     },
     "output_type": "display_data"
    }
   ],
   "source": [
    "#EXPLORATORY DATA ANALYSIS\n",
    "#Seems like seasonality is involved\n",
    "#We check using multiplcative model\n",
    "ts = main.groupby(['date_block_num'])['item_cnt_day'].sum()\n",
    "import statsmodels.api as sm\n",
    "res = sm.tsa.seasonal_decompose(ts.values,freq=12,model=\"multiplicative\")\n",
    "fig = res.plot()"
   ]
  },
  {
   "cell_type": "code",
   "execution_count": 32,
   "metadata": {},
   "outputs": [
    {
     "data": {
      "image/png": "[encoded data removed]",
      "text/plain": [
       "<Figure size 432x288 with 4 Axes>"
      ]
     },
     "metadata": {
      "needs_background": "light"
     },
     "output_type": "display_data"
    }
   ],
   "source": [
    "#EXPLORATORY DATA ANALYSIS\n",
    "#Now we check usng additive model\n",
    "res = sm.tsa.seasonal_decompose(ts.values,freq=12,model=\"additive\")\n",
    "#plt.figure(figsize=(16,12))\n",
    "fig = res.plot()"
   ]
  },
  {
   "cell_type": "code",
   "execution_count": 33,
   "metadata": {},
   "outputs": [],
   "source": [
    "#EXPLORATORY DATA ANALYSIS\n",
    "#We create a function for de-trending\n",
    "from statsmodels.tsa.stattools import adfuller\n",
    "def difference(dataset,interval=1):\n",
    "    diff = list()\n",
    "    for i in range(interval,len(dataset)):\n",
    "        difference = dataset[i] - dataset[i-interval]\n",
    "        diff.append(difference)\n",
    "    return pd.Series(diff)\n",
    "\n",
    "#We create a function for checking stationarity\n",
    "def test_stationarity(timeseries):    \n",
    "    #Perform Dickey-Fuller test:\n",
    "    print('Results of Dickey-Fuller Test:')\n",
    "    dftest = adfuller(timeseries, autolag='AIC')\n",
    "    dfoutput = pd.Series(dftest[0:4], index=['Test Statistic','p-value','#Lags Used','Number of Observations Used'])\n",
    "    for key,value in dftest[4].items():\n",
    "        dfoutput['Critical Value (%s)'%key] = value\n",
    "    print (dfoutput)\n"
   ]
  },
  {
   "cell_type": "code",
   "execution_count": 34,
   "metadata": {},
   "outputs": [
    {
     "name": "stdout",
     "output_type": "stream",
     "text": [
      "Results of Dickey-Fuller Test:\n",
      "Test Statistic                 -2.537548\n",
      "p-value                         0.106604\n",
      "#Lags Used                      0.000000\n",
      "Number of Observations Used    33.000000\n",
      "Critical Value (1%)            -3.646135\n",
      "Critical Value (5%)            -2.954127\n",
      "Critical Value (10%)           -2.615968\n",
      "dtype: float64\n"
     ]
    }
   ],
   "source": [
    "#EXPLORATORY DATA ANALYSIS\n",
    "#We create a temp. sum of item_cnt_day for each month\n",
    "ts = main.groupby(['date_block_num'])['item_cnt_day'].sum()\n",
    "#Let's check stationarity for original summed data\n",
    "test_stationarity(ts)"
   ]
  },
  {
   "cell_type": "code",
   "execution_count": 35,
   "metadata": {},
   "outputs": [
    {
     "data": {
      "text/plain": [
       "[]"
      ]
     },
     "execution_count": 35,
     "metadata": {},
     "output_type": "execute_result"
    },
    {
     "data": {
      "image/png": "[encoded data removed]",
      "text/plain": [
       "<Figure size 1152x1152 with 3 Axes>"
      ]
     },
     "metadata": {
      "needs_background": "light"
     },
     "output_type": "display_data"
    }
   ],
   "source": [
    "#EXPLORATORY DATA ANALYSIS\n",
    "#Let's de-trend and print \n",
    "import matplotlib.pyplot as plt\n",
    "ts.astype('float')\n",
    "plt.figure(figsize=(16,16))\n",
    "plt.subplot(311)\n",
    "plt.title('Original')\n",
    "plt.xlabel('Time')\n",
    "plt.ylabel('Sales')\n",
    "plt.plot(ts)\n",
    "\n",
    "plt.subplot(312)\n",
    "ts_new = difference(ts)\n",
    "plt.title('After De-trend')\n",
    "plt.xlabel('Time')\n",
    "plt.ylabel('Sales')\n",
    "plt.plot(ts_new)\n",
    "plt.plot()\n",
    "\n",
    "plt.subplot(313)\n",
    "ts_new = difference(ts,12)\n",
    "plt.title('After De-seasonalization')\n",
    "plt.xlabel('Time')\n",
    "plt.ylabel('Sales')\n",
    "plt.plot(ts_new)\n",
    "plt.plot()"
   ]
  },
  {
   "cell_type": "code",
   "execution_count": 36,
   "metadata": {},
   "outputs": [
    {
     "name": "stdout",
     "output_type": "stream",
     "text": [
      "Results of Dickey-Fuller Test:\n",
      "Test Statistic                 -2.914040\n",
      "p-value                         0.043740\n",
      "#Lags Used                      1.000000\n",
      "Number of Observations Used    20.000000\n",
      "Critical Value (1%)            -3.809209\n",
      "Critical Value (5%)            -3.021645\n",
      "Critical Value (10%)           -2.650713\n",
      "dtype: float64\n"
     ]
    }
   ],
   "source": [
    "#EXPLORATORY DATA ANALYSIS\n",
    "#Let's check stationarity for de-seasonlised data\n",
    "test_stationarity(ts_new)"
   ]
  },
  {
   "cell_type": "code",
   "execution_count": 37,
   "metadata": {},
   "outputs": [
    {
     "name": "stderr",
     "output_type": "stream",
     "text": [
      "C:\\Users\\weiquan\\Anaconda3\\lib\\site-packages\\scipy\\stats\\stats.py:1713: FutureWarning: Using a non-tuple sequence for multidimensional indexing is deprecated; use `arr[tuple(seq)]` instead of `arr[seq]`. In the future this will be interpreted as an array index, `arr[np.array(seq)]`, which will result either in an error or a different result.\n",
      "  return np.add.reduce(sorted[indexer] * weights, axis=axis) / sumval\n"
     ]
    },
    {
     "data": {
      "text/plain": [
       "<matplotlib.axes._subplots.AxesSubplot at 0x201087073c8>"
      ]
     },
     "execution_count": 37,
     "metadata": {},
     "output_type": "execute_result"
    },
    {
     "data": {
      "image/png": "[encoded data removed]",
      "text/plain": [
       "<Figure size 1152x576 with 1 Axes>"
      ]
     },
     "metadata": {
      "needs_background": "light"
     },
     "output_type": "display_data"
    }
   ],
   "source": [
    "#EXPLORATORY DATA ANALYSIS\n",
    "#OUTLIERS [item_cnt]\n",
    "import seaborn as sns\n",
    "plt.figure(figsize=(16,8))\n",
    "sns.set(style=\"whitegrid\")\n",
    "sns.violinplot(x=main[\"item_cnt_day\"])\n",
    "#There seems to be some outliers, with most points = 1"
   ]
  },
  {
   "cell_type": "code",
   "execution_count": 38,
   "metadata": {},
   "outputs": [
    {
     "name": "stderr",
     "output_type": "stream",
     "text": [
      "C:\\Users\\weiquan\\Anaconda3\\lib\\site-packages\\scipy\\stats\\stats.py:1713: FutureWarning: Using a non-tuple sequence for multidimensional indexing is deprecated; use `arr[tuple(seq)]` instead of `arr[seq]`. In the future this will be interpreted as an array index, `arr[np.array(seq)]`, which will result either in an error or a different result.\n",
      "  return np.add.reduce(sorted[indexer] * weights, axis=axis) / sumval\n"
     ]
    },
    {
     "data": {
      "text/plain": [
       "<matplotlib.axes._subplots.AxesSubplot at 0x20108756e48>"
      ]
     },
     "execution_count": 38,
     "metadata": {},
     "output_type": "execute_result"
    },
    {
     "data": {
      "image/png": "[encoded data removed]",
      "text/plain": [
       "<Figure size 1152x576 with 1 Axes>"
      ]
     },
     "metadata": {},
     "output_type": "display_data"
    }
   ],
   "source": [
    "#EXPLORATORY DATA ANALYSIS\n",
    "#OUTLIERS [item_price]\n",
    "import seaborn as sns\n",
    "plt.figure(figsize=(16,8))\n",
    "sns.set(style=\"whitegrid\")\n",
    "sns.violinplot(x=main[\"item_price\"])"
   ]
  },
  {
   "cell_type": "code",
   "execution_count": null,
   "metadata": {},
   "outputs": [],
   "source": []
  },
  {
   "cell_type": "code",
   "execution_count": 39,
   "metadata": {},
   "outputs": [
    {
     "data": {
      "text/html": [
       "<div>\n",
       "<style scoped>\n",
       "    .dataframe tbody tr th:only-of-type {\n",
       "        vertical-align: middle;\n",
       "    }\n",
       "\n",
       "    .dataframe tbody tr th {\n",
       "        vertical-align: top;\n",
       "    }\n",
       "\n",
       "    .dataframe thead th {\n",
       "        text-align: right;\n",
       "    }\n",
       "</style>\n",
       "<table border=\"1\" class=\"dataframe\">\n",
       "  <thead>\n",
       "    <tr style=\"text-align: right;\">\n",
       "      <th></th>\n",
       "      <th>date_block_num</th>\n",
       "      <th>shop_id</th>\n",
       "      <th>item_id</th>\n",
       "      <th>item_cnt_month</th>\n",
       "      <th>city_code</th>\n",
       "      <th>item_category_id</th>\n",
       "      <th>type_code</th>\n",
       "      <th>subtype_code</th>\n",
       "      <th>year</th>\n",
       "      <th>month</th>\n",
       "      <th>days</th>\n",
       "    </tr>\n",
       "  </thead>\n",
       "  <tbody>\n",
       "    <tr>\n",
       "      <th>0</th>\n",
       "      <td>0</td>\n",
       "      <td>2</td>\n",
       "      <td>32</td>\n",
       "      <td>0.0</td>\n",
       "      <td>0</td>\n",
       "      <td>40</td>\n",
       "      <td>11</td>\n",
       "      <td>4</td>\n",
       "      <td>0</td>\n",
       "      <td>0</td>\n",
       "      <td>31</td>\n",
       "    </tr>\n",
       "    <tr>\n",
       "      <th>1</th>\n",
       "      <td>0</td>\n",
       "      <td>2</td>\n",
       "      <td>33</td>\n",
       "      <td>1.0</td>\n",
       "      <td>0</td>\n",
       "      <td>37</td>\n",
       "      <td>11</td>\n",
       "      <td>1</td>\n",
       "      <td>0</td>\n",
       "      <td>0</td>\n",
       "      <td>31</td>\n",
       "    </tr>\n",
       "    <tr>\n",
       "      <th>2</th>\n",
       "      <td>0</td>\n",
       "      <td>2</td>\n",
       "      <td>42</td>\n",
       "      <td>0.0</td>\n",
       "      <td>0</td>\n",
       "      <td>57</td>\n",
       "      <td>13</td>\n",
       "      <td>8</td>\n",
       "      <td>0</td>\n",
       "      <td>0</td>\n",
       "      <td>31</td>\n",
       "    </tr>\n",
       "    <tr>\n",
       "      <th>3</th>\n",
       "      <td>0</td>\n",
       "      <td>2</td>\n",
       "      <td>45</td>\n",
       "      <td>0.0</td>\n",
       "      <td>0</td>\n",
       "      <td>57</td>\n",
       "      <td>13</td>\n",
       "      <td>8</td>\n",
       "      <td>0</td>\n",
       "      <td>0</td>\n",
       "      <td>31</td>\n",
       "    </tr>\n",
       "    <tr>\n",
       "      <th>4</th>\n",
       "      <td>0</td>\n",
       "      <td>2</td>\n",
       "      <td>51</td>\n",
       "      <td>0.0</td>\n",
       "      <td>0</td>\n",
       "      <td>57</td>\n",
       "      <td>13</td>\n",
       "      <td>8</td>\n",
       "      <td>0</td>\n",
       "      <td>0</td>\n",
       "      <td>31</td>\n",
       "    </tr>\n",
       "  </tbody>\n",
       "</table>\n",
       "</div>"
      ],
      "text/plain": [
       "   date_block_num  shop_id  item_id  item_cnt_month  city_code  \\\n",
       "0               0        2       32             0.0          0   \n",
       "1               0        2       33             1.0          0   \n",
       "2               0        2       42             0.0          0   \n",
       "3               0        2       45             0.0          0   \n",
       "4               0        2       51             0.0          0   \n",
       "\n",
       "   item_category_id  type_code  subtype_code  year  month  days  \n",
       "0                40         11             4     0      0    31  \n",
       "1                37         11             1     0      0    31  \n",
       "2                57         13             8     0      0    31  \n",
       "3                57         13             8     0      0    31  \n",
       "4                57         13             8     0      0    31  "
      ]
     },
     "execution_count": 39,
     "metadata": {},
     "output_type": "execute_result"
    }
   ],
   "source": [
    "main_combined.head()"
   ]
  },
  {
   "cell_type": "code",
   "execution_count": null,
   "metadata": {},
   "outputs": [],
   "source": [
    "#FEATURE ENGINEERING\n",
    "#MEANS ENCODING"
   ]
  },
  {
   "cell_type": "code",
   "execution_count": 40,
   "metadata": {},
   "outputs": [],
   "source": [
    "#FEATURE ENGINEERING\n",
    "#We add mean item_cnt for each month as lag variable\n",
    "group = main_combined.groupby(['date_block_num']).agg({'item_cnt_month': ['mean']})\n",
    "group.columns = [ 'date_avg_item_cnt' ]\n",
    "group.reset_index(inplace=True)\n",
    "main_combined = pd.merge(main_combined, group, on=['date_block_num'], how='left')\n",
    "main_combined['date_avg_item_cnt'] = main_combined['date_avg_item_cnt'].astype(np.float16)\n",
    "\n",
    "#Using it as lag feature\n",
    "lag = main_combined[['date_block_num','shop_id','item_id', 'date_avg_item_cnt']].copy()\n",
    "lag.columns = ['date_block_num','shop_id','item_id', 'date_avg_item_lag_1']\n",
    "lag['date_block_num'] += 1\n",
    "main_combined = pd.merge(main_combined, lag, on=['date_block_num','shop_id','item_id'], how='left')\n",
    "\n",
    "#Drop date_avg_item_cnt\n",
    "main_combined.drop(['date_avg_item_cnt'], axis=1, inplace=True)\n",
    "main_combined['date_avg_item_lag_1'].fillna(0, inplace=True)  "
   ]
  },
  {
   "cell_type": "code",
   "execution_count": 41,
   "metadata": {},
   "outputs": [],
   "source": [
    "#FEATURE ENGINEERING\n",
    "#We add mean item_cnt for each item_id for each month as lag variable\n",
    "#We use 3 lags since their correlations with date_item_avg_item_cnt are the strongest\n",
    "group = main_combined.groupby(['date_block_num','item_id']).agg({'item_cnt_month': ['mean']})\n",
    "group.columns = ['date_item_avg_item_cnt']\n",
    "group.reset_index(inplace=True)\n",
    "main_combined = pd.merge(main_combined, group, on=['date_block_num','item_id'], how='left')\n",
    "main_combined['date_item_avg_item_cnt'] = main_combined['date_item_avg_item_cnt'].astype(np.float16)\n",
    "\n",
    "#Using it as lag feature\n",
    "lag = main_combined[['date_block_num','shop_id','item_id', 'date_item_avg_item_cnt']].copy()\n",
    "for i in range(1,4):\n",
    "    lag.columns = ['date_block_num','shop_id','item_id', 'date_item_avg_item_lag_'+str(i)]\n",
    "    lag['date_block_num'] += 1\n",
    "    main_combined = pd.merge(main_combined, lag, on=['date_block_num','shop_id','item_id'], how='left')\n",
    "\n",
    "#Drop date_avg_item_cnt\n",
    "main_combined.drop(['date_item_avg_item_cnt'], axis=1, inplace=True)\n",
    "main_combined['date_item_avg_item_lag_1'].fillna(0, inplace=True) \n",
    "main_combined['date_item_avg_item_lag_2'].fillna(0, inplace=True) \n",
    "main_combined['date_item_avg_item_lag_3'].fillna(0, inplace=True) "
   ]
  },
  {
   "cell_type": "code",
   "execution_count": 42,
   "metadata": {},
   "outputs": [],
   "source": [
    "#FEATURE ENGINEERING\n",
    "#We add mean item_cnt for each shop_id for each month as lag variable\n",
    "#Seems like many lags have strong correlation with date_shop_avg_item_cnt\n",
    "#We shall use 3 lags for now\n",
    "group = main_combined.groupby(['date_block_num', 'shop_id']).agg({'item_cnt_month': ['mean']})\n",
    "group.columns = ['date_shop_avg_item_cnt']\n",
    "group.reset_index(inplace=True)\n",
    "\n",
    "main_combined = pd.merge(main_combined, group, on=['date_block_num','shop_id'], how='left')\n",
    "\n",
    "#Using it as lag feature\n",
    "lag = main_combined[['date_block_num','shop_id','item_id', 'date_shop_avg_item_cnt']].copy()\n",
    "for i in range(1,4):\n",
    "    lag.columns = ['date_block_num','shop_id','item_id', 'date_shop_avg_item_lag_'+str(i)]\n",
    "    lag['date_block_num'] += 1\n",
    "    main_combined = pd.merge(main_combined, lag, on=['date_block_num','shop_id','item_id'], how='left')\n",
    "\n",
    "#Drop date_avg_item_cnt\n",
    "main_combined.drop(['date_shop_avg_item_cnt'], axis=1, inplace=True)\n",
    "main_combined['date_shop_avg_item_lag_1'].fillna(0, inplace=True) \n",
    "main_combined['date_shop_avg_item_lag_2'].fillna(0, inplace=True) \n",
    "main_combined['date_shop_avg_item_lag_3'].fillna(0, inplace=True) "
   ]
  },
  {
   "cell_type": "code",
   "execution_count": null,
   "metadata": {},
   "outputs": [],
   "source": [
    "#FEATURE ENGINEERING [CAN't RUN DUE TO MEMORY ERROR]\n",
    "#We add mean item_cnt for each item_category_id as lag variable\n",
    "group = main_combined.groupby(['date_block_num','item_category_id']).agg({'item_cnt_month': ['mean']})\n",
    "group.columns = ['date_item_category_avg_item_cnt']\n",
    "group.reset_index(inplace=True)\n",
    "\n",
    "main_combined = pd.merge(main_combined, group, on=['date_block_num','item_category_id'], how='left')\n",
    "\n",
    "#Using it as lag feature\n",
    "#lag = main_combined[['date_block_num','item_category_id','date_item_category_avg_item_cnt']].copy()\n",
    "#for i in range(1,4):\n",
    "#    lag.columns = ['date_block_num','item_category_id','date_item_category_avg_item_lag_'+str(i)]\n",
    "#    lag['date_block_num'] += 1\n",
    "#    main_combined = pd.merge(main_combined, lag, on=['date_block_num','item_category_id'], how='left')\n",
    "\n",
    "#Drop date_avg_item_cnt\n",
    "#main_combined.drop(['date_item_category_avg_item_cnt'], axis=1, inplace=True)\n",
    "#main_combined['date_item_category_avg_item_lag_1'].fillna(0, inplace=True) \n",
    "#main_combined['date_item_category_avg_item_lag_2'].fillna(0, inplace=True) \n",
    "#main_combined['date_item_category_avg_item_lag_3'].fillna(0, inplace=True) "
   ]
  },
  {
   "cell_type": "code",
   "execution_count": null,
   "metadata": {},
   "outputs": [],
   "source": [
    "#FEATURE ENGINEERING [CAN'T RUN DUE TO MEMORY ERROR]\n",
    "#We add mean item_cnt for each item_category_id as lag variable\n",
    "group = main_combined.groupby(['date_block_num', 'shop_id', 'item_category_id']).agg({'item_cnt_month': ['mean']})\n",
    "group.columns = ['date_shop_cat_avg_item_cnt']\n",
    "group.reset_index(inplace=True)\n",
    "\n",
    "main_combined = pd.merge(main_combined, group, on=['date_block_num','shop_id', 'item_category_id'], how='left')\n",
    "\n",
    "#Using it as lag feature\n",
    "lag = main_combined[['date_block_num','shop_id','item_category_id','date_shop_cat_avg_item_cnt']].copy()\n",
    "for i in range(1,4):\n",
    "    lag.columns = ['date_block_num','shop_id','item_category_id','date_shop_cat_avg_item_lag_'+str(i)]\n",
    "    lag['date_block_num'] += 1\n",
    "    main_combined = pd.merge(main_combined, lag, on=['date_block_num','shop_id','item_category_id'], how='left')\n",
    "\n",
    "#Drop date_avg_item_cnt\n",
    "main_combined.drop(['date_shop_cat_avg_item_cnt'], axis=1, inplace=True)\n",
    "main_combined['date_shop_cat_avg_item_lag_1'].fillna(0, inplace=True) \n",
    "main_combined['date_shop_cat_avg_item_lag_2'].fillna(0, inplace=True) \n",
    "main_combined['date_shop_cat_avg_item_lag_3'].fillna(0, inplace=True) "
   ]
  },
  {
   "cell_type": "code",
   "execution_count": 43,
   "metadata": {},
   "outputs": [
    {
     "ename": "MemoryError",
     "evalue": "",
     "output_type": "error",
     "traceback": [
      "\u001b[1;31m---------------------------------------------------------------------------\u001b[0m",
      "\u001b[1;31mMemoryError\u001b[0m                               Traceback (most recent call last)",
      "\u001b[1;32m<ipython-input-43-5d8ce250ea0b>\u001b[0m in \u001b[0;36m<module>\u001b[1;34m()\u001b[0m\n\u001b[0;32m     12\u001b[0m     \u001b[0mlag\u001b[0m\u001b[1;33m.\u001b[0m\u001b[0mcolumns\u001b[0m \u001b[1;33m=\u001b[0m \u001b[1;33m[\u001b[0m\u001b[1;34m'date_block_num'\u001b[0m\u001b[1;33m,\u001b[0m\u001b[1;34m'shop_id'\u001b[0m\u001b[1;33m,\u001b[0m\u001b[1;34m'type_code'\u001b[0m\u001b[1;33m,\u001b[0m\u001b[1;34m'date_shop_type_avg_item_lag_'\u001b[0m\u001b[1;33m+\u001b[0m\u001b[0mstr\u001b[0m\u001b[1;33m(\u001b[0m\u001b[0mi\u001b[0m\u001b[1;33m)\u001b[0m\u001b[1;33m]\u001b[0m\u001b[1;33m\u001b[0m\u001b[0m\n\u001b[0;32m     13\u001b[0m     \u001b[0mlag\u001b[0m\u001b[1;33m[\u001b[0m\u001b[1;34m'date_block_num'\u001b[0m\u001b[1;33m]\u001b[0m \u001b[1;33m+=\u001b[0m \u001b[1;36m1\u001b[0m\u001b[1;33m\u001b[0m\u001b[0m\n\u001b[1;32m---> 14\u001b[1;33m     \u001b[0mmain_combined\u001b[0m \u001b[1;33m=\u001b[0m \u001b[0mpd\u001b[0m\u001b[1;33m.\u001b[0m\u001b[0mmerge\u001b[0m\u001b[1;33m(\u001b[0m\u001b[0mmain_combined\u001b[0m\u001b[1;33m,\u001b[0m \u001b[0mlag\u001b[0m\u001b[1;33m,\u001b[0m \u001b[0mon\u001b[0m\u001b[1;33m=\u001b[0m\u001b[1;33m[\u001b[0m\u001b[1;34m'date_block_num'\u001b[0m\u001b[1;33m,\u001b[0m\u001b[1;34m'shop_id'\u001b[0m\u001b[1;33m,\u001b[0m\u001b[1;34m'type_code'\u001b[0m\u001b[1;33m]\u001b[0m\u001b[1;33m,\u001b[0m \u001b[0mhow\u001b[0m\u001b[1;33m=\u001b[0m\u001b[1;34m'left'\u001b[0m\u001b[1;33m)\u001b[0m\u001b[1;33m\u001b[0m\u001b[0m\n\u001b[0m\u001b[0;32m     15\u001b[0m \u001b[1;33m\u001b[0m\u001b[0m\n\u001b[0;32m     16\u001b[0m \u001b[1;31m#Drop date_avg_item_cnt\u001b[0m\u001b[1;33m\u001b[0m\u001b[1;33m\u001b[0m\u001b[0m\n",
      "\u001b[1;32m~\\Anaconda3\\lib\\site-packages\\pandas\\core\\reshape\\merge.py\u001b[0m in \u001b[0;36mmerge\u001b[1;34m(left, right, how, on, left_on, right_on, left_index, right_index, sort, suffixes, copy, indicator, validate)\u001b[0m\n\u001b[0;32m     60\u001b[0m                          \u001b[0mcopy\u001b[0m\u001b[1;33m=\u001b[0m\u001b[0mcopy\u001b[0m\u001b[1;33m,\u001b[0m \u001b[0mindicator\u001b[0m\u001b[1;33m=\u001b[0m\u001b[0mindicator\u001b[0m\u001b[1;33m,\u001b[0m\u001b[1;33m\u001b[0m\u001b[0m\n\u001b[0;32m     61\u001b[0m                          validate=validate)\n\u001b[1;32m---> 62\u001b[1;33m     \u001b[1;32mreturn\u001b[0m \u001b[0mop\u001b[0m\u001b[1;33m.\u001b[0m\u001b[0mget_result\u001b[0m\u001b[1;33m(\u001b[0m\u001b[1;33m)\u001b[0m\u001b[1;33m\u001b[0m\u001b[0m\n\u001b[0m\u001b[0;32m     63\u001b[0m \u001b[1;33m\u001b[0m\u001b[0m\n\u001b[0;32m     64\u001b[0m \u001b[1;33m\u001b[0m\u001b[0m\n",
      "\u001b[1;32m~\\Anaconda3\\lib\\site-packages\\pandas\\core\\reshape\\merge.py\u001b[0m in \u001b[0;36mget_result\u001b[1;34m(self)\u001b[0m\n\u001b[0;32m    566\u001b[0m                 self.left, self.right)\n\u001b[0;32m    567\u001b[0m \u001b[1;33m\u001b[0m\u001b[0m\n\u001b[1;32m--> 568\u001b[1;33m         \u001b[0mjoin_index\u001b[0m\u001b[1;33m,\u001b[0m \u001b[0mleft_indexer\u001b[0m\u001b[1;33m,\u001b[0m \u001b[0mright_indexer\u001b[0m \u001b[1;33m=\u001b[0m \u001b[0mself\u001b[0m\u001b[1;33m.\u001b[0m\u001b[0m_get_join_info\u001b[0m\u001b[1;33m(\u001b[0m\u001b[1;33m)\u001b[0m\u001b[1;33m\u001b[0m\u001b[0m\n\u001b[0m\u001b[0;32m    569\u001b[0m \u001b[1;33m\u001b[0m\u001b[0m\n\u001b[0;32m    570\u001b[0m         \u001b[0mldata\u001b[0m\u001b[1;33m,\u001b[0m \u001b[0mrdata\u001b[0m \u001b[1;33m=\u001b[0m \u001b[0mself\u001b[0m\u001b[1;33m.\u001b[0m\u001b[0mleft\u001b[0m\u001b[1;33m.\u001b[0m\u001b[0m_data\u001b[0m\u001b[1;33m,\u001b[0m \u001b[0mself\u001b[0m\u001b[1;33m.\u001b[0m\u001b[0mright\u001b[0m\u001b[1;33m.\u001b[0m\u001b[0m_data\u001b[0m\u001b[1;33m\u001b[0m\u001b[0m\n",
      "\u001b[1;32m~\\Anaconda3\\lib\\site-packages\\pandas\\core\\reshape\\merge.py\u001b[0m in \u001b[0;36m_get_join_info\u001b[1;34m(self)\u001b[0m\n\u001b[0;32m    775\u001b[0m         \u001b[1;32melse\u001b[0m\u001b[1;33m:\u001b[0m\u001b[1;33m\u001b[0m\u001b[0m\n\u001b[0;32m    776\u001b[0m             (left_indexer,\n\u001b[1;32m--> 777\u001b[1;33m              right_indexer) = self._get_join_indexers()\n\u001b[0m\u001b[0;32m    778\u001b[0m \u001b[1;33m\u001b[0m\u001b[0m\n\u001b[0;32m    779\u001b[0m             \u001b[1;32mif\u001b[0m \u001b[0mself\u001b[0m\u001b[1;33m.\u001b[0m\u001b[0mright_index\u001b[0m\u001b[1;33m:\u001b[0m\u001b[1;33m\u001b[0m\u001b[0m\n",
      "\u001b[1;32m~\\Anaconda3\\lib\\site-packages\\pandas\\core\\reshape\\merge.py\u001b[0m in \u001b[0;36m_get_join_indexers\u001b[1;34m(self)\u001b[0m\n\u001b[0;32m    754\u001b[0m                                   \u001b[0mself\u001b[0m\u001b[1;33m.\u001b[0m\u001b[0mright_join_keys\u001b[0m\u001b[1;33m,\u001b[0m\u001b[1;33m\u001b[0m\u001b[0m\n\u001b[0;32m    755\u001b[0m                                   \u001b[0msort\u001b[0m\u001b[1;33m=\u001b[0m\u001b[0mself\u001b[0m\u001b[1;33m.\u001b[0m\u001b[0msort\u001b[0m\u001b[1;33m,\u001b[0m\u001b[1;33m\u001b[0m\u001b[0m\n\u001b[1;32m--> 756\u001b[1;33m                                   how=self.how)\n\u001b[0m\u001b[0;32m    757\u001b[0m \u001b[1;33m\u001b[0m\u001b[0m\n\u001b[0;32m    758\u001b[0m     \u001b[1;32mdef\u001b[0m \u001b[0m_get_join_info\u001b[0m\u001b[1;33m(\u001b[0m\u001b[0mself\u001b[0m\u001b[1;33m)\u001b[0m\u001b[1;33m:\u001b[0m\u001b[1;33m\u001b[0m\u001b[0m\n",
      "\u001b[1;32m~\\Anaconda3\\lib\\site-packages\\pandas\\core\\reshape\\merge.py\u001b[0m in \u001b[0;36m_get_join_indexers\u001b[1;34m(left_keys, right_keys, sort, how, **kwargs)\u001b[0m\n\u001b[0;32m   1146\u001b[0m     \u001b[0mjoin_func\u001b[0m \u001b[1;33m=\u001b[0m \u001b[0m_join_functions\u001b[0m\u001b[1;33m[\u001b[0m\u001b[0mhow\u001b[0m\u001b[1;33m]\u001b[0m\u001b[1;33m\u001b[0m\u001b[0m\n\u001b[0;32m   1147\u001b[0m \u001b[1;33m\u001b[0m\u001b[0m\n\u001b[1;32m-> 1148\u001b[1;33m     \u001b[1;32mreturn\u001b[0m \u001b[0mjoin_func\u001b[0m\u001b[1;33m(\u001b[0m\u001b[0mlkey\u001b[0m\u001b[1;33m,\u001b[0m \u001b[0mrkey\u001b[0m\u001b[1;33m,\u001b[0m \u001b[0mcount\u001b[0m\u001b[1;33m,\u001b[0m \u001b[1;33m**\u001b[0m\u001b[0mkwargs\u001b[0m\u001b[1;33m)\u001b[0m\u001b[1;33m\u001b[0m\u001b[0m\n\u001b[0m\u001b[0;32m   1149\u001b[0m \u001b[1;33m\u001b[0m\u001b[0m\n\u001b[0;32m   1150\u001b[0m \u001b[1;33m\u001b[0m\u001b[0m\n",
      "\u001b[1;32mpandas\\_libs\\join.pyx\u001b[0m in \u001b[0;36mpandas._libs.join.left_outer_join\u001b[1;34m()\u001b[0m\n",
      "\u001b[1;31mMemoryError\u001b[0m: "
     ]
    }
   ],
   "source": [
    "#FEATURE ENGINEERING\n",
    "#We add mean item_cnt for each shop_id for each type_code\n",
    "group = main_combined.groupby(['date_block_num', 'shop_id', 'type_code']).agg({'item_cnt_month': ['mean']})\n",
    "group.columns = ['date_shop_type_avg_item_cnt']\n",
    "group.reset_index(inplace=True)\n",
    "\n",
    "main_combined = pd.merge(main_combined, group, on=['date_block_num','shop_id', 'type_code'], how='left')\n",
    "\n",
    "#Using it as lag feature\n",
    "lag = main_combined[['date_block_num','shop_id','type_code','date_shop_type_avg_item_cnt']].copy()\n",
    "for i in range(1,4):\n",
    "    lag.columns = ['date_block_num','shop_id','type_code','date_shop_type_avg_item_lag_'+str(i)]\n",
    "    lag['date_block_num'] += 1\n",
    "    main_combined = pd.merge(main_combined, lag, on=['date_block_num','shop_id','type_code'], how='left')\n",
    "\n",
    "#Drop date_avg_item_cnt\n",
    "main_combined.drop(['date_shop_type_avg_item_cnt'], axis=1, inplace=True)\n",
    "main_combined['date_shop_type_avg_item_lag_1'].fillna(0, inplace=True) \n",
    "main_combined['date_shop_type_avg_item_lag_2'].fillna(0, inplace=True) \n",
    "main_combined['date_shop_type_avg_item_lag_3'].fillna(0, inplace=True) "
   ]
  },
  {
   "cell_type": "code",
   "execution_count": 44,
   "metadata": {},
   "outputs": [],
   "source": [
    "#FEATURE ENGINEERING\n",
    "#We add mean item_cnt for each shop_id for each subtype_code for each month\n",
    "group = main_combined.groupby(['date_block_num', 'shop_id', 'subtype_code']).agg({'item_cnt_month': ['mean']})\n",
    "group.columns = ['date_shop_subtype_avg_item_cnt']\n",
    "group.reset_index(inplace=True)\n",
    "\n",
    "main_combined = pd.merge(main_combined, group, on=['date_block_num', 'shop_id', 'subtype_code'], how='left')\n",
    "\n",
    "#Using it as lag feature\n",
    "lag = main_combined[['date_block_num','shop_id','subtype_code','date_shop_subtype_avg_item_cnt']].copy()\n",
    "for i in range(1,4):\n",
    "    lag.columns = ['date_block_num','shop_id','subtype_code','date_shop_subtype_avg_item_lag_'+str(i)]\n",
    "    lag['date_block_num'] += 1\n",
    "    main_combined = pd.merge(main_combined, lag, on=['date_block_num','shop_id','subtype_code'], how='left')\n",
    "\n",
    "#Drop date_avg_item_cnt\n",
    "main_combined.drop(['date_shop_subtype_avg_item_cnt'], axis=1, inplace=True)\n",
    "main_combined['date_shop_subtype_avg_item_lag_1'].fillna(0, inplace=True) \n",
    "main_combined['date_shop_subtype_avg_item_lag_2'].fillna(0, inplace=True) \n",
    "main_combined['date_shop_subtype_avg_item_lag_3'].fillna(0, inplace=True) "
   ]
  },
  {
   "cell_type": "code",
   "execution_count": null,
   "metadata": {},
   "outputs": [],
   "source": [
    "#FEATURE ENGINEERING\n",
    "#We add mean item_cnt for each city_code for each month\n",
    "group = main_combined.groupby(['date_block_num', 'city_code']).agg({'item_cnt_month': ['mean']})\n",
    "group.columns = [ 'date_city_avg_item_cnt' ]\n",
    "group.reset_index(inplace=True)\n",
    "\n",
    "main_combined = pd.merge(main_combined, group, on=['date_block_num', 'city_code'], how='left')\n",
    "\n",
    "#Using it as lag feature\n",
    "lag = main_combined[['date_block_num','city_code','date_city_avg_item_cnt']].copy()\n",
    "for i in range(1,4):\n",
    "    lag.columns = ['date_block_num','city_code','date_city_avg_item_lag_'+str(i)]\n",
    "    lag['date_block_num'] += 1\n",
    "    main_combined = pd.merge(main_combined, lag, on=['date_block_num','city_code'], how='left')\n",
    "\n",
    "#Drop date_avg_item_cnt\n",
    "main_combined.drop(['date_city_avg_item_cnt'], axis=1, inplace=True)\n",
    "main_combined['date_city_avg_item_lag_1'].fillna(0, inplace=True) \n",
    "main_combined['date_city_avg_item_lag_2'].fillna(0, inplace=True) \n",
    "main_combined['date_city_avg_item_lag_3'].fillna(0, inplace=True) "
   ]
  },
  {
   "cell_type": "code",
   "execution_count": 49,
   "metadata": {},
   "outputs": [],
   "source": [
    "#FEATURE ENGINEERING\n",
    "#We add mean item_cnt for each item_id for each city_code\n",
    "group = main_combined.groupby(['date_block_num', 'item_id', 'city_code']).agg({'item_cnt_month': ['mean']})\n",
    "group.columns = [ 'date_item_city_avg_item_cnt' ]\n",
    "group.reset_index(inplace=True)\n",
    "\n",
    "main_combined = pd.merge(main_combined, group, on=['date_block_num', 'item_id','city_code'], how='left')\n",
    "\n",
    "#Using it as lag feature\n",
    "lag = main_combined[['date_block_num','item_id','city_code','date_item_city_avg_item_cnt']].copy()\n",
    "for i in range(1,4):\n",
    "    lag.columns = ['date_block_num','item_id','city_code','date_item_city_avg_item_lag_'+str(i)]\n",
    "    lag['date_block_num'] += 1\n",
    "    main_combined = pd.merge(main_combined, lag, on=['date_block_num','item_id','city_code'], how='left')\n",
    "\n",
    "#Drop date_avg_item_cnt\n",
    "main_combined.drop(['date_item_city_avg_item_cnt'], axis=1, inplace=True)\n",
    "main_combined['date_item_city_avg_item_lag_1'].fillna(0, inplace=True) \n",
    "main_combined['date_item_city_avg_item_lag_2'].fillna(0, inplace=True) \n",
    "main_combined['date_item_city_avg_item_lag_3'].fillna(0, inplace=True) "
   ]
  },
  {
   "cell_type": "code",
   "execution_count": 54,
   "metadata": {},
   "outputs": [],
   "source": [
    "#FEATURE ENGINEERING\n",
    "#We add mean item_cnt for each type_code\n",
    "group = main_combined.groupby(['date_block_num', 'type_code']).agg({'item_cnt_month': ['mean']})\n",
    "group.columns = [ 'date_type_avg_item_cnt' ]\n",
    "group.reset_index(inplace=True)\n",
    "\n",
    "main_combined = pd.merge(main_combined, group, on=['date_block_num', 'type_code'], how='left')\n",
    "\n",
    "#Using it as lag feature\n",
    "lag = main_combined[['date_block_num','type_code','date_type_avg_item_cnt']].copy()\n",
    "for i in range(1,4):\n",
    "    lag.columns = ['date_block_num','type_code','date_type_avg_item_lag_'+str(i)]\n",
    "    lag['date_block_num'] += 1\n",
    "    main_combined = pd.merge(main_combined, lag, on=['date_block_num','type_code'], how='left')\n",
    "\n",
    "#Drop date_avg_item_cnt\n",
    "main_combined.drop(['date_type_avg_item_cnt'], axis=1, inplace=True)\n",
    "main_combined['date_type_avg_item_lag_1'].fillna(0, inplace=True) \n",
    "main_combined['date_type_avg_item_lag_2'].fillna(0, inplace=True) \n",
    "main_combined['date_type_avg_item_lag_3'].fillna(0, inplace=True) "
   ]
  },
  {
   "cell_type": "code",
   "execution_count": 60,
   "metadata": {},
   "outputs": [],
   "source": [
    "#FEATURE ENGINEERING\n",
    "#We add mean item_cnt for each subtype_code\n",
    "group = main_combined.groupby(['date_block_num', 'subtype_code']).agg({'item_cnt_month': ['mean']})\n",
    "group.columns = [ 'date_subtype_avg_item_cnt' ]\n",
    "group.reset_index(inplace=True)\n",
    "\n",
    "main_combined = pd.merge(main_combined, group, on=['date_block_num', 'subtype_code'], how='left')\n",
    "\n",
    "#Using it as lag feature\n",
    "lag = main_combined[['date_block_num','type_code','date_subtype_avg_item_cnt']].copy()\n",
    "for i in range(1,4):\n",
    "    lag.columns = ['date_block_num','type_code','date_subtype_avg_item_lag_'+str(i)]\n",
    "    lag['date_block_num'] += 1\n",
    "    main_combined = pd.merge(main_combined, lag, on=['date_block_num','subtype_code'], how='left')\n",
    "\n",
    "#Drop date_avg_item_cnt\n",
    "main_combined.drop(['date_subtype_avg_item_cnt'], axis=1, inplace=True)\n",
    "main_combined['date_subtype_avg_item_lag_1'].fillna(0, inplace=True) \n",
    "main_combined['date_subtype_avg_item_lag_2'].fillna(0, inplace=True) \n",
    "main_combined['date_subtype_avg_item_lag_3'].fillna(0, inplace=True) "
   ]
  },
  {
   "cell_type": "code",
   "execution_count": null,
   "metadata": {},
   "outputs": [],
   "source": [
    "#FEATURE ENGINEERING\n",
    "#TRENDS\n",
    "#Using it as lag feature\n",
    "group = main_combined.groupby(['item_id']).agg({'item_price': ['mean']})\n",
    "group.columns = ['item_avg_item_price']\n",
    "group.reset_index(inplace=True)\n",
    "\n",
    "main_combined = pd.merge(main_combined, group, on=['item_id'], how='left')\n",
    "main_combined['item_avg_item_price'] = main_combined['item_avg_item_price'].astype(np.float16)\n",
    "\n",
    "group = main_combined.groupby(['date_block_num','item_id']).agg({'item_price': ['mean']})\n",
    "group.columns = ['date_item_avg_item_price']\n",
    "group.reset_index(inplace=True)\n",
    "\n",
    "main_combined = pd.merge(matrix, group, on=['date_block_num','item_id'], how='left')\n",
    "main_combined['date_item_avg_item_price'] = main_combined['date_item_avg_item_price'].astype(np.float16)\n",
    "\n",
    "lags = [1,2,3,4,5,6]\n",
    "for i in range(1,7):\n",
    "    lag.columns = ['date_block_num','type_code','date_item_avg_item_price_lag_'+str(i)]\n",
    "    lag['date_block_num'] += 1\n",
    "    main_combined = pd.merge(main_combined, lag, on=['date_block_num','item_code'], how='left')\n",
    "\n",
    "for i in lags:\n",
    "    main_combined['delta_price_lag_'+str(i)] = \\\n",
    "        (main_combined['date_item_avg_item_price_lag_'+str(i)] - main_combined['item_avg_item_price']) / main_combined['item_avg_item_price']\n",
    "\n",
    "def select_trend(row):\n",
    "    for i in lags:\n",
    "        if row['delta_price_lag_'+str(i)]:\n",
    "            return row['delta_price_lag_'+str(i)]\n",
    "    return 0\n",
    "    \n",
    "main_combined['delta_price_lag'] = main_combined.apply(select_trend, axis=1)\n",
    "main_combined['delta_price_lag'] = main_combined['delta_price_lag'].astype(np.float16)\n",
    "main_combined['delta_price_lag'].fillna(0, inplace=True)\n",
    "\n",
    "# https://stackoverflow.com/questions/31828240/first-non-null-value-per-row-from-a-list-of-pandas-columns/31828559\n",
    "# matrix['price_trend'] = matrix[['delta_price_lag_1','delta_price_lag_2','delta_price_lag_3']].bfill(axis=1).iloc[:, 0]\n",
    "# Invalid dtype for backfill_2d [float16]\n",
    "\n",
    "fetures_to_drop = ['item_avg_item_price', 'date_item_avg_item_price']\n",
    "for i in lags:\n",
    "    fetures_to_drop += ['date_item_avg_item_price_lag_'+str(i)]\n",
    "    fetures_to_drop += ['delta_price_lag_'+str(i)]\n",
    "\n",
    "main_combined.drop(fetures_to_drop, axis=1, inplace=True)\n",
    "\n"
   ]
  },
  {
   "cell_type": "code",
   "execution_count": null,
   "metadata": {},
   "outputs": [],
   "source": [
    "#FEATURE ENGINEERING\n",
    "#TRENDS\n",
    "group = main_combined.groupby(['date_block_num','shop_id']).agg({'revenue': ['sum']})\n",
    "group.columns = ['date_shop_revenue']\n",
    "group.reset_index(inplace=True)\n",
    "\n",
    "main_combined = pd.merge(main_combined, group, on=['date_block_num','shop_id'], how='left')\n",
    "main_combined['date_shop_revenue'] = main_combined['date_shop_revenue'].astype(np.float32)\n",
    "\n",
    "group = group.groupby(['shop_id']).agg({'date_shop_revenue': ['mean']})\n",
    "group.columns = ['shop_avg_revenue']\n",
    "group.reset_index(inplace=True)\n",
    "\n",
    "main_combined = pd.merge(main_combined, group, on=['shop_id'], how='left')\n",
    "main_combined['shop_avg_revenue'] = main_combined['shop_avg_revenue'].astype(np.float32)\n",
    "\n",
    "main_combined['delta_revenue'] = (main_combined['date_shop_revenue'] - main_combinied['shop_avg_revenue']) / main_combined['shop_avg_revenue']\n",
    "main_combined['delta_revenue'] = main_combined['delta_revenue'].astype(np.float16)\n",
    "\n",
    "lag.columns = ['date_block_num','shop_id','delta_revenue']\n",
    "lag['date_block_num'] += 1\n",
    "main_combined = pd.merge(main_combined, lag, on=['date_block_num','shop_id'], how='left')\n",
    "\n",
    "main_combined.drop(['date_shop_revenue','shop_avg_revenue','delta_revenue'], axis=1, inplace=True)"
   ]
  },
  {
   "cell_type": "code",
   "execution_count": null,
   "metadata": {},
   "outputs": [],
   "source": [
    "#FEATURE ENGINEERING\n",
    "#SPECIAL\n",
    "cache = {}\n",
    "main_combined['item_shop_last_sale'] = -1\n",
    "main_combined['item_shop_last_sale'] = main_combined['item_shop_last_sale'].astype(np.int8)\n",
    "for idx, row in main_combined.iterrows():    \n",
    "    key = str(row.item_id)+' '+str(row.shop_id)\n",
    "    if key not in cache:\n",
    "        if row.item_cnt_month!=0:\n",
    "            cache[key] = row.date_block_num\n",
    "    else:\n",
    "        last_date_block_num = cache[key]\n",
    "        main_combined.at[idx, 'item_shop_last_sale'] = row.date_block_num - last_date_block_num\n",
    "        cache[key] = row.date_block_num   "
   ]
  },
  {
   "cell_type": "code",
   "execution_count": null,
   "metadata": {},
   "outputs": [],
   "source": [
    "#FEATURE ENGINEERING\n",
    "#SPECIAL\n",
    "cache = {}\n",
    "main_combined['item_last_sale'] = -1\n",
    "main_combined['item_last_sale'] = main_combined['item_last_sale'].astype(np.int8)\n",
    "for idx, row in main_combined.iterrows():    \n",
    "    key = row.item_id\n",
    "    if key not in cache:\n",
    "        if row.item_cnt_month!=0:\n",
    "            cache[key] = row.date_block_num\n",
    "    else:\n",
    "        last_date_block_num = cache[key]\n",
    "        if row.date_block_num>last_date_block_num:\n",
    "            main_combined.at[idx, 'item_last_sale'] = row.date_block_num - last_date_block_num\n",
    "            cache[key] = row.date_block_num"
   ]
  },
  {
   "cell_type": "code",
   "execution_count": null,
   "metadata": {},
   "outputs": [],
   "source": [
    "#FEATURE ENGINEERING\n",
    "#SPECIAL\n",
    "main_combined['item_shop_first_sale'] = main_combined['date_block_num'] - main_combined.groupby(['item_id','shop_id'])['date_block_num'].transform('min')\n",
    "main_combined['item_first_sale'] = main_combined['date_block_num'] - main_combined.groupby('item_id')['date_block_num'].transform('min')"
   ]
  },
  {
   "cell_type": "code",
   "execution_count": 64,
   "metadata": {},
   "outputs": [
    {
     "data": {
      "text/plain": [
       "0.23971291120740562"
      ]
     },
     "execution_count": 64,
     "metadata": {},
     "output_type": "execute_result"
    }
   ],
   "source": [
    "main_combined['date_subtype_avg_item_cnt'].corr(main_combined['date_subtype_avg_item_cnt'].shift(3))"
   ]
  },
  {
   "cell_type": "code",
   "execution_count": null,
   "metadata": {},
   "outputs": [],
   "source": [
    "main_combined.head()"
   ]
  },
  {
   "cell_type": "code",
   "execution_count": null,
   "metadata": {},
   "outputs": [],
   "source": [
    "#FINAL PREP\n",
    "#Remove first 3 months since we used them for lag \n",
    "main_combined = main_combined[main_combined['date_block_num'] > 2]"
   ]
  },
  {
   "cell_type": "code",
   "execution_count": null,
   "metadata": {},
   "outputs": [],
   "source": [
    "main_combined.columns()"
   ]
  },
  {
   "cell_type": "code",
   "execution_count": null,
   "metadata": {},
   "outputs": [],
   "source": [
    "main_combined.info()"
   ]
  },
  {
   "cell_type": "code",
   "execution_count": null,
   "metadata": {},
   "outputs": [],
   "source": [
    "#TRAIN/VALIDATION SPLIT\n",
    "#We skip first 3 months since window=3. 70% train, 30% validation\n",
    "train_set = train_monthly_filtered.query('date_block_num >= 3 and date_block_num < 28').copy()\n",
    "validation_set = train_monthly_filtered.query('date_block_num >= 28 and date_block_num < 34').copy()\n",
    "\n",
    "# Create train and validation sets and labels. \n",
    "int_features = ['shop_id', 'item_id', 'year', 'month']\n",
    "X_train = train_set.drop(['item_cnt', 'date_block_num'], axis=1)\n",
    "Y_train = train_set['item_cnt'].astype(int)\n",
    "X_validation = validation_set.drop(['item_cnt', 'date_block_num'], axis=1)\n",
    "Y_validation = validation_set['item_cnt'].astype(int)\n",
    "X_train[int_features] = X_train[int_features].astype('int32')\n",
    "X_validation[int_features] = X_validation[int_features].astype('int32')"
   ]
  },
  {
   "cell_type": "code",
   "execution_count": null,
   "metadata": {},
   "outputs": [],
   "source": [
    "#TEST\n",
    "latest_records = pd.concat([train_set, validation_set]).drop_duplicates(subset=['shop_id', 'item_id'], keep='last')\n",
    "X_test = pd.merge(test, latest_records, on=['shop_id', 'item_id'], how='left', suffixes=['', '_'])\n",
    "X_test['year'] = 2015\n",
    "X_test['month'] = 9\n",
    "X_test.drop('item_cnt', axis=1, inplace=True)\n",
    "X_test[int_features] = X_test[int_features].astype('int32')\n",
    "X_test = X_test[X_train.columns]\n",
    "X_test[int_features] = X_test[int_features].astype('int32')\n",
    "X_test = X_test[X_train.columns]"
   ]
  },
  {
   "cell_type": "code",
   "execution_count": null,
   "metadata": {},
   "outputs": [],
   "source": [
    "#TEST\n",
    "# Replace missing values with the median of each shop.            \n",
    "for shop_id in X_test['shop_id'].unique():\n",
    "    for column in X_test.columns:\n",
    "        shop_median = X_test[(X_test['shop_id'] == shop_id)][column].median()\n",
    "        X_test.loc[(X_test[column].isnull()) & (X_test['shop_id'] == shop_id), column] = shop_median\n",
    "            \n",
    "# Fill remaining missing values on test set with mean.\n",
    "X_test.fillna(X_test.mean(), inplace=True)"
   ]
  },
  {
   "cell_type": "code",
   "execution_count": null,
   "metadata": {
    "scrolled": true
   },
   "outputs": [],
   "source": [
    "#MODELLING\n",
    "#LGBM with HOLD-OUT\n",
    "from sklearn.metrics import mean_squared_error\n",
    "from math import sqrt\n",
    "import lightgbm as lgb\n",
    "random_state = 0\n",
    "lgb_params = {\n",
    "    \"objective\" : \"regression\",\n",
    "    \"metric\" : \"rmse\",\n",
    "    \"boosting\": 'gbdt',\n",
    "    #\"max_depth\" : -1,\n",
    "    \"num_leaves\" : 150,\n",
    "    #\"num_threads\" : 8,\n",
    "    \"learning_rate\" : 0.01,\n",
    "    #\"bagging_freq\": 5,\n",
    "    \"bagging_fraction\" : 0.9,\n",
    "    \"feature_fraction\" : 0.3,\n",
    "    #\"min_data_in_leaf\": 80,\n",
    "    #\"min_sum_hessian_in_leaf\" : 10,\n",
    "    #\"tree_learner\": \"serial\",\n",
    "    #\"boost_from_average\": \"false\",\n",
    "    #\"lambda_l1\" : 5,\n",
    "    #\"lambda_l2\" : 5,\n",
    "    \"bagging_seed\" : random_state,\n",
    "    \"verbosity\" : 1,\n",
    "    \"seed\": random_state\n",
    "}\n",
    "\n",
    "\n",
    "input_train = X_train\n",
    "target_train = Y_train\n",
    "trn_data = lgb.Dataset(input_train, label=target_train)\n",
    "val_data = lgb.Dataset(X_validation, label=Y_validation)\n",
    "evals_result = {}\n",
    "lgb_clf = lgb.train(lgb_params,trn_data,20000,valid_sets = [trn_data, val_data],early_stopping_rounds=100,verbose_eval = 1000,evals_result=evals_result)\n",
    "p_valid = lgb_clf.predict(X_validation).clip(0, 20)\n",
    "score_val = sqrt(mean_squared_error(Y_validation, p_valid))\n",
    "test_pred = lgb_clf.predict(X_test).clip(0, 20)    \n",
    "print(\"Mean RMSE Val_Score is {}\".format(score_val))    "
   ]
  },
  {
   "cell_type": "code",
   "execution_count": null,
   "metadata": {},
   "outputs": [],
   "source": [
    "#HYPERPARAMETER-TUNING\n",
    "\n",
    "gridParams = {\n",
    "    'learning_rate': [ 0.01,0.008,0.006],\n",
    "    'num_leaves': [100,150,200],\n",
    "    'bagging_fraction' : [0.9,0.8,0.7],\n",
    "    'feature_fraction' : [0.5,0.4,0.3]\n",
    "}\n",
    "\n",
    "params = {\n",
    "    'task': 'train',\n",
    "    'boosting_type': 'gbdt',\n",
    "    'objective': 'binary',\n",
    "    'metric': {'binary_logloss', 'auc'},\n",
    "    'metric_freq': 1,\n",
    "    'is_training_metric': True,\n",
    "    'max_bin': 255,\n",
    "    #'learning_rate': 0.1,\n",
    "    #'num_leaves': 63,\n",
    "    'tree_learner': 'serial',\n",
    "    #'feature_fraction': 0.8,\n",
    "    #'bagging_fraction': 0.8,\n",
    "    #'bagging_freq': 5,\n",
    "    'min_data_in_leaf': 50,\n",
    "    'min_sum_hessian_in_leaf': 5,\n",
    "    'is_enable_sparse': True,\n",
    "    'use_two_round_loading': False,\n",
    "    'is_save_binary_file': False,\n",
    "    'output_model': 'LightGBM_model.txt',\n",
    "    'num_machines': 1,\n",
    "    'local_listen_port': 12400,\n",
    "    'machine_list_file': 'mlist.txt',\n",
    "    'verbose': 0,\n",
    "    'subsample_for_bin': 200000,\n",
    "    'min_child_samples': 20,\n",
    "    'min_child_weight': 0.001,\n",
    "    'min_split_gain': 0.0,\n",
    "    'colsample_bytree': 1.0,\n",
    "    'reg_alpha': 0.0,\n",
    "    'reg_lambda': 0.0\n",
    "}\n",
    "\n",
    "\n",
    "\n",
    "model = lgb.LGBMClassifier(\n",
    "    task = params['task'],\n",
    "    metric = params['metric'],\n",
    "    metric_freq = params['metric_freq'],\n",
    "    is_training_metric = params['is_training_metric'],\n",
    "    max_bin = params['max_bin'],\n",
    "    tree_learner = params['tree_learner'],\n",
    "    #feature_fraction = params['feature_fraction'],\n",
    "    #bagging_fraction = params['bagging_fraction'],\n",
    "    #bagging_freq = params['bagging_freq'],\n",
    "    min_data_in_leaf = params['min_data_in_leaf'],\n",
    "    min_sum_hessian_in_leaf = params['min_sum_hessian_in_leaf'],\n",
    "    is_enable_sparse = params['is_enable_sparse'],\n",
    "    use_two_round_loading = params['use_two_round_loading'],\n",
    "    is_save_binary_file = params['is_save_binary_file'],\n",
    "    n_jobs = -1\n",
    ")\n",
    "\n",
    "scoring = {'MSE': 'neg_mean_squared_error'}\n",
    "grid = GridSearchCV(model, gridParams, verbose=2, cv=2, scoring=scoring, n_jobs=-1, refit='rmse')\n",
    "# Run the grid\n",
    "grid.fit(X_train, y_train)\n",
    "print('Best parameters found by grid search are:', grid.best_params_)\n",
    "print('Best score found by grid search is:', grid.best_score_)"
   ]
  },
  {
   "cell_type": "code",
   "execution_count": null,
   "metadata": {},
   "outputs": [],
   "source": [
    "#ENSEMBLING [MIX]\n",
    "#TRAIN OTHER MODELS TO OBTAIN MIXING INPUTS\n",
    "alphas_to_try = np.linspace(0, 1, 1001)\n",
    "RMSE=0\n",
    "best=0\n",
    "alpha=0\n",
    "var=pd.DataFrame(X_train_level2)\n",
    "for i in alphas_to_try:\n",
    "    RMSE=sqrt(mean_squared_error(y_train_level2,i*var['pred_lr']+(1-i)*var['pred_lgb']))\n",
    "    if RMSE<best:\n",
    "        best=RMSE\n",
    "        alpha=i\n",
    "# YOUR CODE GOES HERE\n",
    "best_alpha = alpha\n",
    "r2_train_simple_mix = best\n",
    "\n",
    "print('Best alpha: %f; Corresponding rmse score on train: %f' % (best_alpha, r2_train_simple_mix))\n"
   ]
  },
  {
   "cell_type": "code",
   "execution_count": null,
   "metadata": {},
   "outputs": [],
   "source": [
    "predictions_final = pd.DataFrame()\n",
    "predictions_final['ID'] = test['ID']\n",
    "predictions_final['item_cnt_month'] = test_pred\n",
    "predictions_final"
   ]
  },
  {
   "cell_type": "code",
   "execution_count": null,
   "metadata": {},
   "outputs": [],
   "source": [
    "predictions_final.to_csv('sales_output.csv',index=False)"
   ]
  }
 ],
 "metadata": {
  "kernelspec": {
   "display_name": "Python 3",
   "language": "python",
   "name": "python3"
  },
  "language_info": {
   "codemirror_mode": {
    "name": "ipython",
    "version": 3
   },
   "file_extension": ".py",
   "mimetype": "text/x-python",
   "name": "python",
   "nbconvert_exporter": "python",
   "pygments_lexer": "ipython3",
   "version": "3.7.0"
  }
 },
 "nbformat": 4,
 "nbformat_minor": 2
}
